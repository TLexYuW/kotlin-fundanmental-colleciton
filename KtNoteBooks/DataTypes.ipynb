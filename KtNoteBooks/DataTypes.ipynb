{
 "cells": [
  {
   "cell_type": "markdown",
   "source": [
    "# Data Types\n",
    "- [Integer](#integer)\n",
    "- [Byte](#byte)\n",
    "- [Short](#short)\n",
    "- [Long](#long)\n",
    "- [Float](#float)\n",
    "- [Double](#double)\n",
    "- [Char](#char)"
   ],
   "metadata": {
    "collapsed": false
   }
  },
  {
   "cell_type": "markdown",
   "source": [
    "## Integer"
   ],
   "metadata": {
    "collapsed": false
   }
  },
  {
   "cell_type": "code",
   "execution_count": 40,
   "outputs": [
    {
     "name": "stdout",
     "output_type": "stream",
     "text": [
      "Int max value = 2147483647\n",
      "Int min value = -2147483648\n",
      "overflow ... -2147483648\n"
     ]
    }
   ],
   "source": [
    "var number: Int = 22\n",
    "val maxIntegerValue: Int = Int.MAX_VALUE\n",
    "val minIntegerValue: Int = Int.MIN_VALUE\n",
    "println(\"Int max value = $maxIntegerValue\")\n",
    "println(\"Int min value = $minIntegerValue\")\n",
    "number = 2147483647 + 1\n",
    "println(\"overflow ... $number\")"
   ],
   "metadata": {
    "collapsed": false,
    "ExecuteTime": {
     "end_time": "2024-02-23T15:36:36.586263Z",
     "start_time": "2024-02-23T15:36:36.545275Z"
    }
   }
  },
  {
   "cell_type": "markdown",
   "source": [
    "## Byte"
   ],
   "metadata": {
    "collapsed": false
   }
  },
  {
   "cell_type": "code",
   "execution_count": 41,
   "outputs": [
    {
     "name": "stdout",
     "output_type": "stream",
     "text": [
      "Byte max value = 127\n",
      "Byte min value = -128\n"
     ]
    }
   ],
   "source": [
    "val maxByteValue: Byte = Byte.MAX_VALUE\n",
    "val minByteValue: Byte = Byte.MIN_VALUE\n",
    "println(\"Byte max value = $maxByteValue\")\n",
    "println(\"Byte min value = $minByteValue\")"
   ],
   "metadata": {
    "collapsed": false,
    "ExecuteTime": {
     "end_time": "2024-02-23T15:36:36.636244Z",
     "start_time": "2024-02-23T15:36:36.583658Z"
    }
   }
  },
  {
   "cell_type": "markdown",
   "source": [
    "## Short"
   ],
   "metadata": {
    "collapsed": false
   }
  },
  {
   "cell_type": "code",
   "execution_count": 42,
   "outputs": [
    {
     "name": "stdout",
     "output_type": "stream",
     "text": [
      "Short max value = 32767\n",
      "Short min value = -32768\n"
     ]
    }
   ],
   "source": [
    "val maxShortValue: Short = Short.MAX_VALUE\n",
    "val minShortValue: Short = Short.MIN_VALUE\n",
    "println(\"Short max value = $maxShortValue\")\n",
    "println(\"Short min value = $minShortValue\")\n"
   ],
   "metadata": {
    "collapsed": false,
    "ExecuteTime": {
     "end_time": "2024-02-23T15:36:36.673753Z",
     "start_time": "2024-02-23T15:36:36.616388Z"
    }
   }
  },
  {
   "cell_type": "markdown",
   "source": [
    "## Long"
   ],
   "metadata": {
    "collapsed": false
   }
  },
  {
   "cell_type": "code",
   "execution_count": 43,
   "outputs": [
    {
     "name": "stdout",
     "output_type": "stream",
     "text": [
      "Long max value = 9223372036854775807\n",
      "Long min value = -9223372036854775808\n"
     ]
    }
   ],
   "source": [
    "val maxLongValue: Long = Long.MAX_VALUE\n",
    "val minLongValue: Long = Long.MIN_VALUE\n",
    "println(\"Long max value = $maxLongValue\")\n",
    "println(\"Long min value = $minLongValue\")"
   ],
   "metadata": {
    "collapsed": false,
    "ExecuteTime": {
     "end_time": "2024-02-23T15:36:36.689163Z",
     "start_time": "2024-02-23T15:36:36.656840Z"
    }
   }
  },
  {
   "cell_type": "markdown",
   "source": [
    "## Float"
   ],
   "metadata": {
    "collapsed": false
   }
  },
  {
   "cell_type": "code",
   "execution_count": 44,
   "outputs": [
    {
     "name": "stdout",
     "output_type": "stream",
     "text": [
      "Float max value = 3.4028235E38\n",
      "Float min value = 1.4E-45\n"
     ]
    }
   ],
   "source": [
    "val maxFloatValue: Float = Float.MAX_VALUE\n",
    "val minFloatValue: Float = Float.MIN_VALUE\n",
    "println(\"Float max value = $maxFloatValue\")\n",
    "println(\"Float min value = $minFloatValue\")"
   ],
   "metadata": {
    "collapsed": false,
    "ExecuteTime": {
     "end_time": "2024-02-23T15:36:36.720914Z",
     "start_time": "2024-02-23T15:36:36.688754Z"
    }
   }
  },
  {
   "cell_type": "markdown",
   "source": [
    "## Double"
   ],
   "metadata": {
    "collapsed": false
   }
  },
  {
   "cell_type": "code",
   "execution_count": 45,
   "outputs": [
    {
     "name": "stdout",
     "output_type": "stream",
     "text": [
      "Double max value = 1.7976931348623157E308\n",
      "Double min value = 4.9E-324\n"
     ]
    }
   ],
   "source": [
    "val maxDoubleValue: Double = Double.MAX_VALUE\n",
    "val minDoubleValue: Double = Double.MIN_VALUE\n",
    "println(\"Double max value = $maxDoubleValue\")\n",
    "println(\"Double min value = $minDoubleValue\")"
   ],
   "metadata": {
    "collapsed": false,
    "ExecuteTime": {
     "end_time": "2024-02-23T15:36:36.768998Z",
     "start_time": "2024-02-23T15:36:36.719147Z"
    }
   }
  },
  {
   "cell_type": "markdown",
   "source": [
    "## Char"
   ],
   "metadata": {
    "collapsed": false
   }
  },
  {
   "cell_type": "code",
   "execution_count": 46,
   "outputs": [
    {
     "name": "stdout",
     "output_type": "stream",
     "text": [
      "Char value = a\n",
      "Boolean value = true\n"
     ]
    }
   ],
   "source": [
    "val myCharValue: Char = 'a'\n",
    "val myBooleanValue: Boolean = true\n",
    "println(\"Char value = $myCharValue\")\n",
    "println(\"Boolean value = $myBooleanValue\")"
   ],
   "metadata": {
    "collapsed": false,
    "ExecuteTime": {
     "end_time": "2024-02-23T15:36:36.779612Z",
     "start_time": "2024-02-23T15:36:36.752386Z"
    }
   }
  },
  {
   "cell_type": "markdown",
   "source": [
    "---"
   ],
   "metadata": {
    "collapsed": false
   }
  },
  {
   "cell_type": "code",
   "execution_count": 47,
   "outputs": [
    {
     "name": "stdout",
     "output_type": "stream",
     "text": [
      "Class = float\n",
      "Class = double\n"
     ]
    }
   ],
   "source": [
    "val myFNum = 1.5f\n",
    "println(\"Class = ${myFNum.javaClass}\")\n",
    "val myFNum2 = 3.5\n",
    "println(\"Class = ${myFNum2.javaClass}\")"
   ],
   "metadata": {
    "collapsed": false,
    "ExecuteTime": {
     "end_time": "2024-02-23T15:36:36.815230Z",
     "start_time": "2024-02-23T15:36:36.779485Z"
    }
   }
  }
 ],
 "metadata": {
  "kernelspec": {
   "display_name": "Kotlin",
   "language": "kotlin",
   "name": "kotlin"
  },
  "language_info": {
   "name": "kotlin",
   "version": "1.9.0",
   "mimetype": "text/x-kotlin",
   "file_extension": ".kt",
   "pygments_lexer": "kotlin",
   "codemirror_mode": "text/x-kotlin",
   "nbconvert_exporter": ""
  }
 },
 "nbformat": 4,
 "nbformat_minor": 0
}
