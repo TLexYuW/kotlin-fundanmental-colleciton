{
 "cells": [
  {
   "cell_type": "markdown",
   "source": [
    "# TOC\n",
    "- [Higher-order functions](#higher-order-functions)"
   ],
   "metadata": {
    "collapsed": false
   }
  },
  {
   "cell_type": "markdown",
   "source": [
    "## Higher-order functions"
   ],
   "metadata": {
    "collapsed": false
   }
  },
  {
   "cell_type": "code",
   "execution_count": 10,
   "outputs": [],
   "source": [
    "fun <T, R> Collection<T>.fold(initial: R, combine: (acc: R, nextElement: T) -> R): R {\n",
    "    var accumulator: R = initial\n",
    "    for (element: T in this) {\n",
    "        accumulator = combine(accumulator, element)\n",
    "    }\n",
    "    return accumulator\n",
    "}"
   ],
   "metadata": {
    "collapsed": false,
    "ExecuteTime": {
     "end_time": "2024-02-24T06:49:50.482222Z",
     "start_time": "2024-02-24T06:49:50.435617Z"
    }
   }
  },
  {
   "cell_type": "code",
   "execution_count": 11,
   "outputs": [
    {
     "name": "stdout",
     "output_type": "stream",
     "text": [
      "acc = 0, i = 1, result = 1\n",
      "acc = 1, i = 2, result = 3\n",
      "acc = 3, i = 3, result = 6\n",
      "acc = 6, i = 4, result = 10\n",
      "acc = 10, i = 5, result = 15\n"
     ]
    },
    {
     "data": {
      "text/plain": "15"
     },
     "execution_count": 11,
     "metadata": {},
     "output_type": "execute_result"
    }
   ],
   "source": [
    "val items = listOf(1, 2, 3, 4, 5)\n",
    "\n",
    "items.fold(0, {\n",
    "        acc: Int, i: Int ->\n",
    "    print(\"acc = $acc, i = $i, \")\n",
    "    val result = acc + i\n",
    "    println(\"result = $result\")\n",
    "    result\n",
    "})"
   ],
   "metadata": {
    "collapsed": false,
    "ExecuteTime": {
     "end_time": "2024-02-24T06:49:50.538324Z",
     "start_time": "2024-02-24T06:49:50.474307Z"
    }
   }
  },
  {
   "cell_type": "markdown",
   "source": [
    "#### Parameter types in a lambda are optional if they can be inferred"
   ],
   "metadata": {
    "collapsed": false
   }
  },
  {
   "cell_type": "code",
   "execution_count": 12,
   "outputs": [
    {
     "name": "stdout",
     "output_type": "stream",
     "text": [
      "Elements: 1 2 3 4 5\n"
     ]
    }
   ],
   "source": [
    "val joinedToString = items.fold(\"Elements:\") { acc, i -> \"$acc $i\" }\n",
    "println(joinedToString)"
   ],
   "metadata": {
    "collapsed": false,
    "ExecuteTime": {
     "end_time": "2024-02-24T06:49:50.581569Z",
     "start_time": "2024-02-24T06:49:50.538684Z"
    }
   }
  },
  {
   "cell_type": "markdown",
   "source": [
    "#### Function references"
   ],
   "metadata": {
    "collapsed": false
   }
  },
  {
   "cell_type": "code",
   "execution_count": 13,
   "outputs": [
    {
     "name": "stdout",
     "output_type": "stream",
     "text": [
      "120\n"
     ]
    }
   ],
   "source": [
    "val product = items.fold(1, Int::times)\n",
    "println(product)"
   ],
   "metadata": {
    "collapsed": false,
    "ExecuteTime": {
     "end_time": "2024-02-24T06:49:50.623316Z",
     "start_time": "2024-02-24T06:49:50.581718Z"
    }
   }
  },
  {
   "cell_type": "markdown",
   "source": [
    "##"
   ],
   "metadata": {
    "collapsed": false
   }
  },
  {
   "cell_type": "code",
   "execution_count": 14,
   "outputs": [],
   "source": [],
   "metadata": {
    "collapsed": false,
    "ExecuteTime": {
     "end_time": "2024-02-24T06:49:50.624852Z",
     "start_time": "2024-02-24T06:49:50.622978Z"
    }
   }
  },
  {
   "cell_type": "markdown",
   "source": [
    "##"
   ],
   "metadata": {
    "collapsed": false
   }
  },
  {
   "cell_type": "code",
   "execution_count": 15,
   "outputs": [],
   "source": [],
   "metadata": {
    "collapsed": false,
    "ExecuteTime": {
     "end_time": "2024-02-24T06:49:50.628219Z",
     "start_time": "2024-02-24T06:49:50.624996Z"
    }
   }
  },
  {
   "cell_type": "markdown",
   "source": [
    "##"
   ],
   "metadata": {
    "collapsed": false
   }
  },
  {
   "cell_type": "code",
   "execution_count": 16,
   "outputs": [],
   "source": [],
   "metadata": {
    "collapsed": false,
    "ExecuteTime": {
     "end_time": "2024-02-24T06:49:50.628522Z",
     "start_time": "2024-02-24T06:49:50.626497Z"
    }
   }
  },
  {
   "cell_type": "markdown",
   "source": [
    "##"
   ],
   "metadata": {
    "collapsed": false
   }
  },
  {
   "cell_type": "code",
   "execution_count": 17,
   "outputs": [],
   "source": [],
   "metadata": {
    "collapsed": false,
    "ExecuteTime": {
     "end_time": "2024-02-24T06:49:50.629666Z",
     "start_time": "2024-02-24T06:49:50.628173Z"
    }
   }
  },
  {
   "cell_type": "markdown",
   "source": [
    "##"
   ],
   "metadata": {
    "collapsed": false
   }
  },
  {
   "cell_type": "code",
   "execution_count": 18,
   "outputs": [],
   "source": [],
   "metadata": {
    "collapsed": false,
    "ExecuteTime": {
     "end_time": "2024-02-24T06:49:50.632634Z",
     "start_time": "2024-02-24T06:49:50.629635Z"
    }
   }
  },
  {
   "cell_type": "markdown",
   "source": [
    "##"
   ],
   "metadata": {
    "collapsed": false
   }
  },
  {
   "cell_type": "code",
   "execution_count": 19,
   "outputs": [],
   "source": [],
   "metadata": {
    "collapsed": false,
    "ExecuteTime": {
     "end_time": "2024-02-24T06:49:50.632936Z",
     "start_time": "2024-02-24T06:49:50.631275Z"
    }
   }
  },
  {
   "cell_type": "markdown",
   "source": [
    "##"
   ],
   "metadata": {
    "collapsed": false
   }
  },
  {
   "cell_type": "code",
   "execution_count": 20,
   "outputs": [],
   "source": [],
   "metadata": {
    "collapsed": false,
    "ExecuteTime": {
     "end_time": "2024-02-24T06:49:50.634205Z",
     "start_time": "2024-02-24T06:49:50.633029Z"
    }
   }
  },
  {
   "cell_type": "code",
   "execution_count": null,
   "outputs": [],
   "source": [],
   "metadata": {
    "collapsed": false
   }
  }
 ],
 "metadata": {
  "kernelspec": {
   "display_name": "Kotlin",
   "language": "kotlin",
   "name": "kotlin"
  },
  "language_info": {
   "name": "kotlin",
   "version": "1.9.0",
   "mimetype": "text/x-kotlin",
   "file_extension": ".kt",
   "pygments_lexer": "kotlin",
   "codemirror_mode": "text/x-kotlin",
   "nbconvert_exporter": ""
  }
 },
 "nbformat": 4,
 "nbformat_minor": 0
}
