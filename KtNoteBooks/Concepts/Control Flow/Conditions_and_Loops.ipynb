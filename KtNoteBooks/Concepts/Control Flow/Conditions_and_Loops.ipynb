{
 "cells": [
  {
   "cell_type": "markdown",
   "source": [
    "# TOC\n",
    "- [If](#)\n",
    "- [When](#)\n",
    "- [For Loops](#)\n",
    "- [While Loops](#)\n",
    "- [Break and Continue](#)\n",
    "- [](#)\n",
    "- [](#)"
   ],
   "metadata": {
    "collapsed": false
   }
  },
  {
   "cell_type": "markdown",
   "source": [
    "##"
   ],
   "metadata": {
    "collapsed": false
   }
  },
  {
   "cell_type": "code",
   "execution_count": 1,
   "outputs": [],
   "source": [],
   "metadata": {
    "collapsed": false,
    "ExecuteTime": {
     "end_time": "2024-02-24T06:37:50.825843Z",
     "start_time": "2024-02-24T06:37:50.823247Z"
    }
   }
  },
  {
   "cell_type": "markdown",
   "source": [
    "##"
   ],
   "metadata": {
    "collapsed": false
   }
  },
  {
   "cell_type": "code",
   "execution_count": 2,
   "outputs": [],
   "source": [],
   "metadata": {
    "collapsed": false,
    "ExecuteTime": {
     "end_time": "2024-02-24T06:37:50.829545Z",
     "start_time": "2024-02-24T06:37:50.827290Z"
    }
   }
  },
  {
   "cell_type": "markdown",
   "source": [
    "##"
   ],
   "metadata": {
    "collapsed": false
   }
  },
  {
   "cell_type": "code",
   "execution_count": 3,
   "outputs": [],
   "source": [],
   "metadata": {
    "collapsed": false,
    "ExecuteTime": {
     "end_time": "2024-02-24T06:37:50.832901Z",
     "start_time": "2024-02-24T06:37:50.830699Z"
    }
   }
  },
  {
   "cell_type": "markdown",
   "source": [
    "## When"
   ],
   "metadata": {
    "collapsed": false
   }
  },
  {
   "cell_type": "markdown",
   "source": [
    "### Demo-1"
   ],
   "metadata": {
    "collapsed": false
   }
  },
  {
   "cell_type": "code",
   "execution_count": 1,
   "outputs": [],
   "source": [
    "val num = 36\n",
    "val str = \"String\"\n",
    "\n",
    "val text = when (num) {\n",
    "    12, 24, 36 -> \"The number is $num\"\n",
    "    in 1000..10000 -> \"In the range 1000..10000\"\n",
    "    10 -> println(\"The number is $num\")\n",
    "    5 -> println(\"The number is $num\")\n",
    "    99 -> println(\"The number is $num\")\n",
    "    100 -> println(\"The number is $num\")\n",
    "    99999 -> {\n",
    "        \"The number is $num\"\n",
    "    }\n",
    "\n",
    "    else -> println(\"The number is $num\")\n",
    "}"
   ],
   "metadata": {
    "collapsed": false,
    "ExecuteTime": {
     "end_time": "2024-02-24T07:34:41.552928Z",
     "start_time": "2024-02-24T07:34:41.276818Z"
    }
   }
  },
  {
   "cell_type": "code",
   "execution_count": 2,
   "outputs": [
    {
     "name": "stdout",
     "output_type": "stream",
     "text": [
      "text = The number is 36\n",
      "The Input is String\n"
     ]
    }
   ],
   "source": [
    "println(\"text = $text\")\n",
    "\n",
    "when (str) {\n",
    "    \"A\" -> println(\"The Input is $str\")\n",
    "    \"C\" -> println(\"The Input is $str\")\n",
    "    \"5\" -> println(\"The Input is $str\")\n",
    "    \"D\" -> println(\"The Input is $str\")\n",
    "    \"E\" -> println(\"The Input is $str\")\n",
    "    \"J\" -> println(\"The Input is $str\")\n",
    "    \"String\" -> println(\"The Input is $str\")\n",
    "}"
   ],
   "metadata": {
    "collapsed": false,
    "ExecuteTime": {
     "end_time": "2024-02-24T07:34:43.692878Z",
     "start_time": "2024-02-24T07:34:43.583306Z"
    }
   }
  },
  {
   "cell_type": "markdown",
   "source": [
    "### Demo-2"
   ],
   "metadata": {
    "collapsed": false
   }
  },
  {
   "cell_type": "markdown",
   "source": [
    "##"
   ],
   "metadata": {
    "collapsed": false
   }
  },
  {
   "cell_type": "code",
   "execution_count": 5,
   "outputs": [],
   "source": [],
   "metadata": {
    "collapsed": false,
    "ExecuteTime": {
     "end_time": "2024-02-24T06:37:50.839577Z",
     "start_time": "2024-02-24T06:37:50.837322Z"
    }
   }
  },
  {
   "cell_type": "markdown",
   "source": [
    "##"
   ],
   "metadata": {
    "collapsed": false
   }
  },
  {
   "cell_type": "code",
   "execution_count": 6,
   "outputs": [],
   "source": [],
   "metadata": {
    "collapsed": false,
    "ExecuteTime": {
     "end_time": "2024-02-24T06:37:50.842699Z",
     "start_time": "2024-02-24T06:37:50.840600Z"
    }
   }
  },
  {
   "cell_type": "markdown",
   "source": [
    "##"
   ],
   "metadata": {
    "collapsed": false
   }
  },
  {
   "cell_type": "code",
   "execution_count": 7,
   "outputs": [],
   "source": [],
   "metadata": {
    "collapsed": false,
    "ExecuteTime": {
     "end_time": "2024-02-24T06:37:50.845876Z",
     "start_time": "2024-02-24T06:37:50.843499Z"
    }
   }
  },
  {
   "cell_type": "markdown",
   "source": [
    "##"
   ],
   "metadata": {
    "collapsed": false
   }
  },
  {
   "cell_type": "code",
   "execution_count": 8,
   "outputs": [],
   "source": [],
   "metadata": {
    "collapsed": false,
    "ExecuteTime": {
     "end_time": "2024-02-24T06:37:50.854496Z",
     "start_time": "2024-02-24T06:37:50.846362Z"
    }
   }
  }
 ],
 "metadata": {
  "kernelspec": {
   "display_name": "Kotlin",
   "language": "kotlin",
   "name": "kotlin"
  },
  "language_info": {
   "name": "kotlin",
   "version": "1.9.0",
   "mimetype": "text/x-kotlin",
   "file_extension": ".kt",
   "pygments_lexer": "kotlin",
   "codemirror_mode": "text/x-kotlin",
   "nbconvert_exporter": ""
  }
 },
 "nbformat": 4,
 "nbformat_minor": 0
}
