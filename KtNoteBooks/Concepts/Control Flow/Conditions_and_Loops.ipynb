{
 "cells": [
  {
   "cell_type": "markdown",
   "source": [
    "# TOC\n",
    "- [If](#)\n",
    "- [When](#)\n",
    "- [For Loops](#)\n",
    "- [While Loops](#)\n",
    "- [Break and Continue](#)\n",
    "- [](#)\n",
    "- [](#)"
   ],
   "metadata": {
    "collapsed": false
   }
  },
  {
   "cell_type": "markdown",
   "source": [
    "## If expression"
   ],
   "metadata": {
    "collapsed": false
   }
  },
  {
   "cell_type": "code",
   "outputs": [],
   "source": [
    "var a = 1000\n",
    "var b = 9999"
   ],
   "metadata": {
    "collapsed": false,
    "ExecuteTime": {
     "end_time": "2024-02-27T01:45:54.314435900Z",
     "start_time": "2024-02-27T01:45:54.207435700Z"
    }
   },
   "execution_count": 1
  },
  {
   "cell_type": "code",
   "execution_count": 2,
   "outputs": [
    {
     "name": "stdout",
     "output_type": "stream",
     "text": [
      "9999\r\n"
     ]
    }
   ],
   "source": [
    "var max = a\n",
    "if (a < b) max = b\n",
    "\n",
    "println(b)"
   ],
   "metadata": {
    "collapsed": false,
    "ExecuteTime": {
     "end_time": "2024-02-27T01:45:54.484436Z",
     "start_time": "2024-02-27T01:45:54.314435900Z"
    }
   }
  },
  {
   "cell_type": "markdown",
   "source": [
    "#### With else"
   ],
   "metadata": {
    "collapsed": false
   }
  },
  {
   "cell_type": "code",
   "outputs": [],
   "source": [
    "if (a > b) {\n",
    "    max = a\n",
    "} else {\n",
    "    max = b\n",
    "}"
   ],
   "metadata": {
    "collapsed": false,
    "ExecuteTime": {
     "end_time": "2024-02-27T01:45:54.571435200Z",
     "start_time": "2024-02-27T01:45:54.484436Z"
    }
   },
   "execution_count": 3
  },
  {
   "cell_type": "markdown",
   "source": [
    "#### As expression\n"
   ],
   "metadata": {
    "collapsed": false
   }
  },
  {
   "cell_type": "code",
   "outputs": [
    {
     "name": "stdout",
     "output_type": "stream",
     "text": [
      "9999\r\n"
     ]
    }
   ],
   "source": [
    "max = if (a > b) a else b\n",
    "println(max)"
   ],
   "metadata": {
    "collapsed": false,
    "ExecuteTime": {
     "end_time": "2024-02-27T01:45:54.649437300Z",
     "start_time": "2024-02-27T01:45:54.568435Z"
    }
   },
   "execution_count": 4
  },
  {
   "cell_type": "code",
   "outputs": [
    {
     "name": "stdout",
     "output_type": "stream",
     "text": [
      "Choose b : 9999\r\n"
     ]
    }
   ],
   "source": [
    "var max = if (a > b) {\n",
    "    print(\"Choose a : \")\n",
    "    a\n",
    "} else {\n",
    "    print(\"Choose b : \")\n",
    "    b\n",
    "}\n",
    "println(max)"
   ],
   "metadata": {
    "collapsed": false,
    "ExecuteTime": {
     "end_time": "2024-02-27T01:45:54.744436300Z",
     "start_time": "2024-02-27T01:45:54.648436300Z"
    }
   },
   "execution_count": 5
  },
  {
   "cell_type": "markdown",
   "source": [
    "#### You can also use `else if` in expressions:"
   ],
   "metadata": {
    "collapsed": false
   }
  },
  {
   "cell_type": "code",
   "outputs": [
    {
     "name": "stdout",
     "output_type": "stream",
     "text": [
      "9999\r\n"
     ]
    }
   ],
   "source": [
    "val maxLimit = 1\n",
    "val maxOrLimit = if (maxLimit > a) maxLimit else if (a > b) a else b\n",
    "\n",
    "println(maxOrLimit)"
   ],
   "metadata": {
    "collapsed": false,
    "ExecuteTime": {
     "end_time": "2024-02-27T01:45:54.843435800Z",
     "start_time": "2024-02-27T01:45:54.744436300Z"
    }
   },
   "execution_count": 6
  },
  {
   "cell_type": "markdown",
   "source": [
    "## When expression"
   ],
   "metadata": {
    "collapsed": false
   }
  },
  {
   "cell_type": "markdown",
   "source": [
    "#### If `when` is used as an expression, the else branch is mandatory,"
   ],
   "metadata": {
    "collapsed": false
   }
  },
  {
   "cell_type": "code",
   "outputs": [],
   "source": [
    "var x = 1000"
   ],
   "metadata": {
    "collapsed": false,
    "ExecuteTime": {
     "end_time": "2024-02-27T01:45:54.913436700Z",
     "start_time": "2024-02-27T01:45:54.841436300Z"
    }
   },
   "execution_count": 7
  },
  {
   "cell_type": "code",
   "execution_count": 8,
   "outputs": [
    {
     "name": "stdout",
     "output_type": "stream",
     "text": [
      "x is neither 1 nor 2"
     ]
    }
   ],
   "source": [
    "when (x) {\n",
    "    1 -> print(\"x == 1\")\n",
    "    2 -> print(\"x == 2\")\n",
    "    else -> {\n",
    "        print(\"x is neither 1 nor 2\")\n",
    "    }\n",
    "}"
   ],
   "metadata": {
    "collapsed": false,
    "ExecuteTime": {
     "end_time": "2024-02-27T01:45:54.977435600Z",
     "start_time": "2024-02-27T01:45:54.885436100Z"
    }
   }
  },
  {
   "cell_type": "markdown",
   "source": [
    "## with enum class entries and sealed class subtypes"
   ],
   "metadata": {
    "collapsed": false
   }
  },
  {
   "cell_type": "code",
   "outputs": [],
   "source": [
    "import kotlin.random.Random\n",
    "\n",
    "enum class Bit {\n",
    "    ZERO, ONE\n",
    "}\n",
    "\n",
    "fun getRandomBit(): Bit {\n",
    "    val values = Bit.values()\n",
    "    val randomIndex = Random.nextInt(values.size)\n",
    "    return values[randomIndex]\n",
    "}"
   ],
   "metadata": {
    "collapsed": false,
    "ExecuteTime": {
     "end_time": "2024-02-27T01:45:55.152435500Z",
     "start_time": "2024-02-27T01:45:54.969434800Z"
    }
   },
   "execution_count": 9
  },
  {
   "cell_type": "code",
   "execution_count": 10,
   "outputs": [
    {
     "name": "stdout",
     "output_type": "stream",
     "text": [
      "1\r\n"
     ]
    }
   ],
   "source": [
    "val numericValue = when (getRandomBit()) {\n",
    "    Bit.ZERO -> 0\n",
    "    Bit.ONE -> 1\n",
    "    // 'else' is not required because all cases are covered\n",
    "}\n",
    "\n",
    "println(numericValue)"
   ],
   "metadata": {
    "collapsed": false,
    "ExecuteTime": {
     "end_time": "2024-02-27T01:45:55.230436Z",
     "start_time": "2024-02-27T01:45:55.141440500Z"
    }
   }
  },
  {
   "cell_type": "code",
   "outputs": [],
   "source": [
    "var x = 1\n",
    "var s: Long = 1L"
   ],
   "metadata": {
    "collapsed": false,
    "ExecuteTime": {
     "end_time": "2024-02-27T01:45:55.290436Z",
     "start_time": "2024-02-27T01:45:55.231435800Z"
    }
   },
   "execution_count": 11
  },
  {
   "cell_type": "code",
   "outputs": [
    {
     "name": "stdout",
     "output_type": "stream",
     "text": [
      "s encodes x"
     ]
    }
   ],
   "source": [
    "when (x) {\n",
    "    s.toInt() -> print(\"s encodes x\")\n",
    "    else -> print(\"s does not encode x\")\n",
    "}"
   ],
   "metadata": {
    "collapsed": false,
    "ExecuteTime": {
     "end_time": "2024-02-27T01:45:55.370435500Z",
     "start_time": "2024-02-27T01:45:55.277436200Z"
    }
   },
   "execution_count": 12
  },
  {
   "cell_type": "markdown",
   "source": [
    "#### `in` / `!in`"
   ],
   "metadata": {
    "collapsed": false
   }
  },
  {
   "cell_type": "code",
   "outputs": [],
   "source": [
    "fun ValidNumber() = 21..30\n",
    "val validNumberRange: IntRange get() = 31..40"
   ],
   "metadata": {
    "collapsed": false,
    "ExecuteTime": {
     "end_time": "2024-02-27T01:45:55.437435100Z",
     "start_time": "2024-02-27T01:45:55.351435700Z"
    }
   },
   "execution_count": 13
  },
  {
   "cell_type": "code",
   "outputs": [
    {
     "name": "stdout",
     "output_type": "stream",
     "text": [
      "x is valid 2\r\n"
     ]
    }
   ],
   "source": [
    "var x = 39\n",
    "\n",
    "when (x) {\n",
    "    in 1..10 -> print(\"x is in the range\")\n",
    "    in ValidNumber() -> print(\"x is valid 1\")\n",
    "    in validNumberRange -> println(\"x is valid 2\")\n",
    "    !in 10..20 -> print(\"x is outside the range\")\n",
    "    else -> print(\"none of the above\")\n",
    "}"
   ],
   "metadata": {
    "collapsed": false,
    "ExecuteTime": {
     "end_time": "2024-02-27T01:45:55.568436300Z",
     "start_time": "2024-02-27T01:45:55.411437600Z"
    }
   },
   "execution_count": 14
  },
  {
   "cell_type": "code",
   "outputs": [],
   "source": [
    "fun hasPrefix(x: Any) = when(x) {\n",
    "    is String -> x.startsWith(\"prefix\")\n",
    "    else -> false\n",
    "}"
   ],
   "metadata": {
    "collapsed": false,
    "ExecuteTime": {
     "end_time": "2024-02-27T01:45:55.645436900Z",
     "start_time": "2024-02-27T01:45:55.566436800Z"
    }
   },
   "execution_count": 15
  },
  {
   "cell_type": "code",
   "outputs": [
    {
     "data": {
      "text/plain": "true"
     },
     "execution_count": 16,
     "metadata": {},
     "output_type": "execute_result"
    }
   ],
   "source": [
    "var st = \"prefix 1234567\"\n",
    "hasPrefix(st)"
   ],
   "metadata": {
    "collapsed": false,
    "ExecuteTime": {
     "end_time": "2024-02-27T01:45:55.696438500Z",
     "start_time": "2024-02-27T01:45:55.644436700Z"
    }
   },
   "execution_count": 16
  },
  {
   "cell_type": "code",
   "outputs": [],
   "source": [
    "fun Int.isOdd(): Boolean = this % 2 != 0\n",
    "fun Int.isEven(): Boolean = this % 2 == 0 "
   ],
   "metadata": {
    "collapsed": false,
    "ExecuteTime": {
     "end_time": "2024-02-27T01:45:55.768438400Z",
     "start_time": "2024-02-27T01:45:55.695436900Z"
    }
   },
   "execution_count": 17
  },
  {
   "cell_type": "code",
   "outputs": [
    {
     "name": "stdout",
     "output_type": "stream",
     "text": [
      "y is even"
     ]
    }
   ],
   "source": [
    "var x = 2\n",
    "var y = 666\n",
    "\n",
    "when {\n",
    "    x.isOdd() -> print(\"x is odd\")\n",
    "    y.isEven() -> print(\"y is even\")\n",
    "    else -> print(\"x+y is odd\")\n",
    "}"
   ],
   "metadata": {
    "collapsed": false,
    "ExecuteTime": {
     "end_time": "2024-02-27T01:45:55.841436300Z",
     "start_time": "2024-02-27T01:45:55.757437200Z"
    }
   },
   "execution_count": 18
  },
  {
   "cell_type": "code",
   "outputs": [],
   "source": [
    "/*\n",
    "fun Request.getBody() =\n",
    "    when (val response = executeRequest()) {\n",
    "        is Success -> response.body\n",
    "        is HttpError -> throw HttpException(response.status)\n",
    "    }\n",
    " */"
   ],
   "metadata": {
    "collapsed": false,
    "ExecuteTime": {
     "end_time": "2024-02-27T01:45:55.902435Z",
     "start_time": "2024-02-27T01:45:55.835439800Z"
    }
   },
   "execution_count": 19
  },
  {
   "cell_type": "markdown",
   "source": [
    "## For loops"
   ],
   "metadata": {
    "collapsed": false
   }
  },
  {
   "cell_type": "code",
   "outputs": [],
   "source": [
    "var collection = arrayOf(1, 2, 3, 4, 5)"
   ],
   "metadata": {
    "collapsed": false,
    "ExecuteTime": {
     "end_time": "2024-02-27T01:45:55.945437600Z",
     "start_time": "2024-02-27T01:45:55.870436Z"
    }
   },
   "execution_count": 20
  },
  {
   "cell_type": "code",
   "execution_count": 21,
   "outputs": [
    {
     "name": "stdout",
     "output_type": "stream",
     "text": [
      "12345"
     ]
    }
   ],
   "source": [
    "for (item in collection) print(item)"
   ],
   "metadata": {
    "collapsed": false,
    "ExecuteTime": {
     "end_time": "2024-02-27T01:45:56.018436700Z",
     "start_time": "2024-02-27T01:45:55.924435600Z"
    }
   }
  },
  {
   "cell_type": "code",
   "outputs": [],
   "source": [
    "var ints = listOf(1, 2, 3, 4, 5)"
   ],
   "metadata": {
    "collapsed": false,
    "ExecuteTime": {
     "end_time": "2024-02-27T01:45:56.082434700Z",
     "start_time": "2024-02-27T01:45:56.017436Z"
    }
   },
   "execution_count": 22
  },
  {
   "cell_type": "code",
   "outputs": [
    {
     "name": "stdout",
     "output_type": "stream",
     "text": [
      "1 2 3 4 5 "
     ]
    }
   ],
   "source": [
    "for (item: Int in ints) {\n",
    "    print(\"$item \")\n",
    "}"
   ],
   "metadata": {
    "collapsed": false,
    "ExecuteTime": {
     "end_time": "2024-02-27T01:45:56.158435600Z",
     "start_time": "2024-02-27T01:45:56.067436200Z"
    }
   },
   "execution_count": 23
  },
  {
   "cell_type": "code",
   "outputs": [
    {
     "name": "stdout",
     "output_type": "stream",
     "text": [
      "1\r\n",
      "2\r\n",
      "3\r\n"
     ]
    }
   ],
   "source": [
    "for (i in 1..3) {\n",
    "    println(i)\n",
    "}"
   ],
   "metadata": {
    "collapsed": false,
    "ExecuteTime": {
     "end_time": "2024-02-27T01:45:56.216435500Z",
     "start_time": "2024-02-27T01:45:56.157435700Z"
    }
   },
   "execution_count": 24
  },
  {
   "cell_type": "code",
   "outputs": [
    {
     "name": "stdout",
     "output_type": "stream",
     "text": [
      "6\r\n",
      "4\r\n",
      "2\r\n",
      "0\r\n"
     ]
    }
   ],
   "source": [
    "for (i in 6 downTo 0 step 2) {\n",
    "    println(i)\n",
    "}"
   ],
   "metadata": {
    "collapsed": false,
    "ExecuteTime": {
     "end_time": "2024-02-27T01:45:56.283437300Z",
     "start_time": "2024-02-27T01:45:56.209436400Z"
    }
   },
   "execution_count": 25
  },
  {
   "cell_type": "code",
   "outputs": [
    {
     "name": "stdout",
     "output_type": "stream",
     "text": [
      "1\r\n",
      "2\r\n",
      "3\r\n",
      "4\r\n",
      "5\r\n"
     ]
    }
   ],
   "source": [
    "for (i in collection.indices) {\n",
    "    println(collection[i])\n",
    "}"
   ],
   "metadata": {
    "collapsed": false,
    "ExecuteTime": {
     "end_time": "2024-02-27T01:45:56.354435800Z",
     "start_time": "2024-02-27T01:45:56.282436200Z"
    }
   },
   "execution_count": 26
  },
  {
   "cell_type": "code",
   "outputs": [
    {
     "name": "stdout",
     "output_type": "stream",
     "text": [
      "the element at 0 is 1\r\n",
      "the element at 1 is 2\r\n",
      "the element at 2 is 3\r\n",
      "the element at 3 is 4\r\n",
      "the element at 4 is 5\r\n"
     ]
    }
   ],
   "source": [
    "for ((index, value) in collection.withIndex()) {\n",
    "    println(\"the element at $index is $value\")\n",
    "}"
   ],
   "metadata": {
    "collapsed": false,
    "ExecuteTime": {
     "end_time": "2024-02-27T01:45:56.426440600Z",
     "start_time": "2024-02-27T01:45:56.350438400Z"
    }
   },
   "execution_count": 27
  },
  {
   "cell_type": "markdown",
   "source": [
    "## While loops"
   ],
   "metadata": {
    "collapsed": false
   }
  },
  {
   "cell_type": "code",
   "execution_count": 28,
   "outputs": [
    {
     "name": "stdout",
     "output_type": "stream",
     "text": [
      "6\r\n",
      "5\r\n",
      "4\r\n",
      "3\r\n",
      "2\r\n",
      "1\r\n",
      "0\r\n"
     ]
    }
   ],
   "source": [
    "var x = 7\n",
    "while (x > 0) {\n",
    "    x--\n",
    "    println(x)\n",
    "}"
   ],
   "metadata": {
    "collapsed": false,
    "ExecuteTime": {
     "end_time": "2024-02-27T01:45:56.499436700Z",
     "start_time": "2024-02-27T01:45:56.425439100Z"
    }
   }
  },
  {
   "cell_type": "code",
   "outputs": [
    {
     "name": "stdout",
     "output_type": "stream",
     "text": [
      "Generate value: 8\r\n",
      "Retrieved data: 8\r\n",
      "Generate value: 2\r\n",
      "Stop\r\n"
     ]
    }
   ],
   "source": [
    "fun retrieveData(): Int? {\n",
    "    val randomValue = (0..10).random()\n",
    "    println(\"Generate value: $randomValue\")\n",
    "    return if (randomValue < 5) {\n",
    "        null\n",
    "    } else {\n",
    "        randomValue\n",
    "    }\n",
    "}\n",
    "\n",
    "do {\n",
    "    val y = retrieveData()\n",
    "    if (y != null) {\n",
    "        println(\"Retrieved data: $y\")\n",
    "    }else{\n",
    "        println(\"Stop\")\n",
    "    }\n",
    "} while (y != null)"
   ],
   "metadata": {
    "collapsed": false,
    "ExecuteTime": {
     "end_time": "2024-02-27T01:45:56.605437700Z",
     "start_time": "2024-02-27T01:45:56.491436400Z"
    }
   },
   "execution_count": 29
  },
  {
   "cell_type": "code",
   "outputs": [],
   "source": [],
   "metadata": {
    "collapsed": false
   }
  }
 ],
 "metadata": {
  "kernelspec": {
   "display_name": "Kotlin",
   "language": "kotlin",
   "name": "kotlin"
  },
  "language_info": {
   "name": "kotlin",
   "version": "1.9.0",
   "mimetype": "text/x-kotlin",
   "file_extension": ".kt",
   "pygments_lexer": "kotlin",
   "codemirror_mode": "text/x-kotlin",
   "nbconvert_exporter": ""
  }
 },
 "nbformat": 4,
 "nbformat_minor": 0
}
