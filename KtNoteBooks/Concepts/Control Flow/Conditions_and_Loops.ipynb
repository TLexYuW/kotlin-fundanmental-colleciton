{
 "cells": [
  {
   "cell_type": "markdown",
   "source": [
    "# TOC\n",
    "- [If](#)\n",
    "- [When](#)\n",
    "- [For Loops](#)\n",
    "- [While Loops](#)\n",
    "- [Break and Continue](#)\n",
    "- [](#)\n",
    "- [](#)"
   ],
   "metadata": {
    "collapsed": false
   }
  },
  {
   "cell_type": "markdown",
   "source": [
    "## If expression"
   ],
   "metadata": {
    "collapsed": false
   }
  },
  {
   "cell_type": "code",
   "outputs": [],
   "source": [
    "var a = 1000\n",
    "var b = 9999"
   ],
   "metadata": {
    "collapsed": false,
    "ExecuteTime": {
     "end_time": "2024-02-26T14:28:24.689097800Z",
     "start_time": "2024-02-26T14:28:24.634259400Z"
    }
   },
   "execution_count": 22
  },
  {
   "cell_type": "code",
   "execution_count": 23,
   "outputs": [
    {
     "name": "stdout",
     "output_type": "stream",
     "text": [
      "9999\r\n"
     ]
    }
   ],
   "source": [
    "var max = a\n",
    "if (a < b) max = b\n",
    "\n",
    "println(b)"
   ],
   "metadata": {
    "collapsed": false,
    "ExecuteTime": {
     "end_time": "2024-02-26T14:28:25.082081700Z",
     "start_time": "2024-02-26T14:28:25.029760700Z"
    }
   }
  },
  {
   "cell_type": "markdown",
   "source": [
    "#### With else"
   ],
   "metadata": {
    "collapsed": false
   }
  },
  {
   "cell_type": "code",
   "outputs": [],
   "source": [
    "if (a > b) {\n",
    "    max = a\n",
    "} else {\n",
    "    max = b\n",
    "}"
   ],
   "metadata": {
    "collapsed": false,
    "ExecuteTime": {
     "end_time": "2024-02-26T14:28:26.093527400Z",
     "start_time": "2024-02-26T14:28:26.052392400Z"
    }
   },
   "execution_count": 24
  },
  {
   "cell_type": "markdown",
   "source": [
    "#### As expression\n"
   ],
   "metadata": {
    "collapsed": false
   }
  },
  {
   "cell_type": "code",
   "outputs": [
    {
     "name": "stdout",
     "output_type": "stream",
     "text": [
      "9999\r\n"
     ]
    }
   ],
   "source": [
    "max = if (a > b) a else b\n",
    "println(max)"
   ],
   "metadata": {
    "collapsed": false,
    "ExecuteTime": {
     "end_time": "2024-02-26T14:28:26.972378200Z",
     "start_time": "2024-02-26T14:28:26.925647800Z"
    }
   },
   "execution_count": 25
  },
  {
   "cell_type": "code",
   "outputs": [
    {
     "name": "stdout",
     "output_type": "stream",
     "text": [
      "Choose b : 9999\r\n"
     ]
    }
   ],
   "source": [
    "var max = if (a > b) {\n",
    "    print(\"Choose a : \")\n",
    "    a\n",
    "} else {\n",
    "    print(\"Choose b : \")\n",
    "    b\n",
    "}\n",
    "println(max)"
   ],
   "metadata": {
    "collapsed": false,
    "ExecuteTime": {
     "end_time": "2024-02-26T14:28:27.488261Z",
     "start_time": "2024-02-26T14:28:27.422386200Z"
    }
   },
   "execution_count": 26
  },
  {
   "cell_type": "markdown",
   "source": [
    "#### You can also use `else if` in expressions:"
   ],
   "metadata": {
    "collapsed": false
   }
  },
  {
   "cell_type": "code",
   "outputs": [
    {
     "name": "stdout",
     "output_type": "stream",
     "text": [
      "9999\r\n"
     ]
    }
   ],
   "source": [
    "val maxLimit = 1\n",
    "val maxOrLimit = if (maxLimit > a) maxLimit else if (a > b) a else b\n",
    "\n",
    "println(maxOrLimit)"
   ],
   "metadata": {
    "collapsed": false,
    "ExecuteTime": {
     "end_time": "2024-02-26T14:28:29.228476800Z",
     "start_time": "2024-02-26T14:28:29.154675Z"
    }
   },
   "execution_count": 27
  },
  {
   "cell_type": "markdown",
   "source": [
    "## When expression"
   ],
   "metadata": {
    "collapsed": false
   }
  },
  {
   "cell_type": "markdown",
   "source": [
    "#### If `when` is used as an expression, the else branch is mandatory,"
   ],
   "metadata": {
    "collapsed": false
   }
  },
  {
   "cell_type": "code",
   "outputs": [],
   "source": [
    "var x = 1000"
   ],
   "metadata": {
    "collapsed": false,
    "ExecuteTime": {
     "end_time": "2024-02-26T14:29:12.103177Z",
     "start_time": "2024-02-26T14:29:12.065176800Z"
    }
   },
   "execution_count": 31
  },
  {
   "cell_type": "code",
   "execution_count": 32,
   "outputs": [
    {
     "name": "stdout",
     "output_type": "stream",
     "text": [
      "x is neither 1 nor 2"
     ]
    }
   ],
   "source": [
    "when (x) {\n",
    "    1 -> print(\"x == 1\")\n",
    "    2 -> print(\"x == 2\")\n",
    "    else -> {\n",
    "        print(\"x is neither 1 nor 2\")\n",
    "    }\n",
    "}"
   ],
   "metadata": {
    "collapsed": false,
    "ExecuteTime": {
     "end_time": "2024-02-26T14:29:12.416169Z",
     "start_time": "2024-02-26T14:29:12.365393900Z"
    }
   }
  },
  {
   "cell_type": "markdown",
   "source": [
    "## with enum class entries and sealed class subtypes"
   ],
   "metadata": {
    "collapsed": false
   }
  },
  {
   "cell_type": "code",
   "outputs": [],
   "source": [
    "import kotlin.random.Random\n",
    "\n",
    "enum class Bit {\n",
    "    ZERO, ONE\n",
    "}\n",
    "\n",
    "fun getRandomBit(): Bit {\n",
    "    val values = Bit.values()\n",
    "    val randomIndex = Random.nextInt(values.size)\n",
    "    return values[randomIndex]\n",
    "}"
   ],
   "metadata": {
    "collapsed": false,
    "ExecuteTime": {
     "end_time": "2024-02-26T14:35:49.571370900Z",
     "start_time": "2024-02-26T14:35:49.502253700Z"
    }
   },
   "execution_count": 37
  },
  {
   "cell_type": "code",
   "execution_count": 38,
   "outputs": [
    {
     "name": "stdout",
     "output_type": "stream",
     "text": [
      "1\r\n"
     ]
    }
   ],
   "source": [
    "val numericValue = when (getRandomBit()) {\n",
    "    Bit.ZERO -> 0\n",
    "    Bit.ONE -> 1\n",
    "    // 'else' is not required because all cases are covered\n",
    "}\n",
    "\n",
    "println(numericValue)"
   ],
   "metadata": {
    "collapsed": false,
    "ExecuteTime": {
     "end_time": "2024-02-26T14:35:49.993857600Z",
     "start_time": "2024-02-26T14:35:49.946189200Z"
    }
   }
  },
  {
   "cell_type": "code",
   "outputs": [],
   "source": [
    "var x = 1\n",
    "var s: Long = 1L"
   ],
   "metadata": {
    "collapsed": false,
    "ExecuteTime": {
     "end_time": "2024-02-26T14:54:28.953237400Z",
     "start_time": "2024-02-26T14:54:28.906524100Z"
    }
   },
   "execution_count": 41
  },
  {
   "cell_type": "code",
   "outputs": [
    {
     "name": "stdout",
     "output_type": "stream",
     "text": [
      "s encodes x"
     ]
    }
   ],
   "source": [
    "when (x) {\n",
    "    s.toInt() -> print(\"s encodes x\")\n",
    "    else -> print(\"s does not encode x\")\n",
    "}"
   ],
   "metadata": {
    "collapsed": false,
    "ExecuteTime": {
     "end_time": "2024-02-26T14:54:29.555994600Z",
     "start_time": "2024-02-26T14:54:29.505035900Z"
    }
   },
   "execution_count": 42
  },
  {
   "cell_type": "markdown",
   "source": [
    "#### `in` / `!in`"
   ],
   "metadata": {
    "collapsed": false
   }
  },
  {
   "cell_type": "code",
   "outputs": [],
   "source": [
    "fun ValidNumber() = 21..30\n",
    "val validNumberRange: IntRange get() = 31..40"
   ],
   "metadata": {
    "collapsed": false,
    "ExecuteTime": {
     "end_time": "2024-02-26T15:02:16.888290300Z",
     "start_time": "2024-02-26T15:02:16.834409300Z"
    }
   },
   "execution_count": 52
  },
  {
   "cell_type": "code",
   "outputs": [
    {
     "name": "stdout",
     "output_type": "stream",
     "text": [
      "x is valid 2\r\n"
     ]
    }
   ],
   "source": [
    "var x = 39\n",
    "\n",
    "when (x) {\n",
    "    in 1..10 -> print(\"x is in the range\")\n",
    "    in ValidNumber() -> print(\"x is valid 1\")\n",
    "    in validNumberRange -> println(\"x is valid 2\")\n",
    "    !in 10..20 -> print(\"x is outside the range\")\n",
    "    else -> print(\"none of the above\")\n",
    "}"
   ],
   "metadata": {
    "collapsed": false,
    "ExecuteTime": {
     "end_time": "2024-02-26T15:02:26.170996400Z",
     "start_time": "2024-02-26T15:02:26.097570600Z"
    }
   },
   "execution_count": 53
  },
  {
   "cell_type": "code",
   "outputs": [],
   "source": [
    "fun hasPrefix(x: Any) = when(x) {\n",
    "    is String -> x.startsWith(\"prefix\")\n",
    "    else -> false\n",
    "}"
   ],
   "metadata": {
    "collapsed": false,
    "ExecuteTime": {
     "end_time": "2024-02-26T15:04:52.088238800Z",
     "start_time": "2024-02-26T15:04:52.016239500Z"
    }
   },
   "execution_count": 54
  },
  {
   "cell_type": "code",
   "outputs": [
    {
     "data": {
      "text/plain": "true"
     },
     "execution_count": 55,
     "metadata": {},
     "output_type": "execute_result"
    }
   ],
   "source": [
    "var st = \"prefix 1234567\"\n",
    "hasPrefix(st)"
   ],
   "metadata": {
    "collapsed": false,
    "ExecuteTime": {
     "end_time": "2024-02-26T15:05:15.760279800Z",
     "start_time": "2024-02-26T15:05:15.702313200Z"
    }
   },
   "execution_count": 55
  },
  {
   "cell_type": "code",
   "outputs": [],
   "source": [
    "fun Int.isOdd(): Boolean = this % 2 != 0\n",
    "fun Int.isEven(): Boolean = this % 2 == 0 "
   ],
   "metadata": {
    "collapsed": false,
    "ExecuteTime": {
     "end_time": "2024-02-26T15:09:32.807285200Z",
     "start_time": "2024-02-26T15:09:32.762285800Z"
    }
   },
   "execution_count": 56
  },
  {
   "cell_type": "code",
   "outputs": [
    {
     "name": "stdout",
     "output_type": "stream",
     "text": [
      "y is even"
     ]
    }
   ],
   "source": [
    "var x = 2\n",
    "var y = 666\n",
    "\n",
    "when {\n",
    "    x.isOdd() -> print(\"x is odd\")\n",
    "    y.isEven() -> print(\"y is even\")\n",
    "    else -> print(\"x+y is odd\")\n",
    "}"
   ],
   "metadata": {
    "collapsed": false,
    "ExecuteTime": {
     "end_time": "2024-02-26T15:09:39.998440Z",
     "start_time": "2024-02-26T15:09:39.944441400Z"
    }
   },
   "execution_count": 58
  },
  {
   "cell_type": "code",
   "outputs": [],
   "source": [
    "/*\n",
    "fun Request.getBody() =\n",
    "    when (val response = executeRequest()) {\n",
    "        is Success -> response.body\n",
    "        is HttpError -> throw HttpException(response.status)\n",
    "    }\n",
    " */"
   ],
   "metadata": {
    "collapsed": false
   }
  },
  {
   "cell_type": "markdown",
   "source": [
    "## For loops"
   ],
   "metadata": {
    "collapsed": false
   }
  },
  {
   "cell_type": "code",
   "outputs": [],
   "source": [
    "var collection = arrayOf(1, 2, 3, 4, 5)"
   ],
   "metadata": {
    "collapsed": false,
    "ExecuteTime": {
     "end_time": "2024-02-26T15:13:25.476155500Z",
     "start_time": "2024-02-26T15:13:25.428362100Z"
    }
   },
   "execution_count": 59
  },
  {
   "cell_type": "code",
   "execution_count": 60,
   "outputs": [
    {
     "name": "stdout",
     "output_type": "stream",
     "text": [
      "12345"
     ]
    }
   ],
   "source": [
    "for (item in collection) print(item)"
   ],
   "metadata": {
    "collapsed": false,
    "ExecuteTime": {
     "end_time": "2024-02-26T15:13:27.899521700Z",
     "start_time": "2024-02-26T15:13:27.823200Z"
    }
   }
  },
  {
   "cell_type": "code",
   "outputs": [],
   "source": [
    "var ints = listOf(1, 2, 3, 4, 5)"
   ],
   "metadata": {
    "collapsed": false,
    "ExecuteTime": {
     "end_time": "2024-02-26T15:14:16.992451300Z",
     "start_time": "2024-02-26T15:14:16.951437300Z"
    }
   },
   "execution_count": 61
  },
  {
   "cell_type": "code",
   "outputs": [
    {
     "name": "stdout",
     "output_type": "stream",
     "text": [
      "1 2 3 4 5 "
     ]
    }
   ],
   "source": [
    "for (item: Int in ints) {\n",
    "    print(\"$item \")\n",
    "}"
   ],
   "metadata": {
    "collapsed": false,
    "ExecuteTime": {
     "end_time": "2024-02-26T15:17:18.871419500Z",
     "start_time": "2024-02-26T15:17:18.813654300Z"
    }
   },
   "execution_count": 63
  },
  {
   "cell_type": "code",
   "outputs": [
    {
     "name": "stdout",
     "output_type": "stream",
     "text": [
      "1\r\n",
      "2\r\n",
      "3\r\n"
     ]
    }
   ],
   "source": [
    "for (i in 1..3) {\n",
    "    println(i)\n",
    "}"
   ],
   "metadata": {
    "collapsed": false,
    "ExecuteTime": {
     "end_time": "2024-02-26T15:22:29.389107400Z",
     "start_time": "2024-02-26T15:22:29.355400Z"
    }
   },
   "execution_count": 65
  },
  {
   "cell_type": "code",
   "outputs": [
    {
     "name": "stdout",
     "output_type": "stream",
     "text": [
      "6\r\n",
      "4\r\n",
      "2\r\n",
      "0\r\n"
     ]
    }
   ],
   "source": [
    "for (i in 6 downTo 0 step 2) {\n",
    "    println(i)\n",
    "}"
   ],
   "metadata": {
    "collapsed": false,
    "ExecuteTime": {
     "end_time": "2024-02-26T15:22:31.935088Z",
     "start_time": "2024-02-26T15:22:31.891087700Z"
    }
   },
   "execution_count": 67
  },
  {
   "cell_type": "code",
   "outputs": [
    {
     "name": "stdout",
     "output_type": "stream",
     "text": [
      "1\r\n",
      "2\r\n",
      "3\r\n",
      "4\r\n",
      "5\r\n"
     ]
    }
   ],
   "source": [
    "for (i in collection.indices) {\n",
    "    println(collection[i])\n",
    "}"
   ],
   "metadata": {
    "collapsed": false,
    "ExecuteTime": {
     "end_time": "2024-02-26T15:23:00.146145100Z",
     "start_time": "2024-02-26T15:23:00.080142Z"
    }
   },
   "execution_count": 68
  },
  {
   "cell_type": "code",
   "outputs": [
    {
     "name": "stdout",
     "output_type": "stream",
     "text": [
      "the element at 0 is 1\r\n",
      "the element at 1 is 2\r\n",
      "the element at 2 is 3\r\n",
      "the element at 3 is 4\r\n",
      "the element at 4 is 5\r\n"
     ]
    }
   ],
   "source": [
    "for ((index, value) in collection.withIndex()) {\n",
    "    println(\"the element at $index is $value\")\n",
    "}"
   ],
   "metadata": {
    "collapsed": false,
    "ExecuteTime": {
     "end_time": "2024-02-26T15:26:48.266084600Z",
     "start_time": "2024-02-26T15:26:48.194081600Z"
    }
   },
   "execution_count": 69
  },
  {
   "cell_type": "markdown",
   "source": [
    "## While loops"
   ],
   "metadata": {
    "collapsed": false
   }
  },
  {
   "cell_type": "code",
   "execution_count": 70,
   "outputs": [
    {
     "name": "stdout",
     "output_type": "stream",
     "text": [
      "6\r\n",
      "5\r\n",
      "4\r\n",
      "3\r\n",
      "2\r\n",
      "1\r\n",
      "0\r\n"
     ]
    }
   ],
   "source": [
    "var x = 7\n",
    "while (x > 0) {\n",
    "    x--\n",
    "    println(x)\n",
    "}"
   ],
   "metadata": {
    "collapsed": false,
    "ExecuteTime": {
     "end_time": "2024-02-26T15:28:07.377639Z",
     "start_time": "2024-02-26T15:28:07.325637500Z"
    }
   }
  },
  {
   "cell_type": "code",
   "outputs": [
    {
     "name": "stdout",
     "output_type": "stream",
     "text": [
      "Generate value: 5\r\n",
      "Retrieved data: 5\r\n",
      "Generate value: 5\r\n",
      "Retrieved data: 5\r\n",
      "Generate value: 9\r\n",
      "Retrieved data: 9\r\n",
      "Generate value: 4\r\n",
      "Stop\r\n"
     ]
    }
   ],
   "source": [
    "fun retrieveData(): Int? {\n",
    "    val randomValue = (0..10).random()\n",
    "    println(\"Generate value: $randomValue\")\n",
    "    return if (randomValue < 5) {\n",
    "        null\n",
    "    } else {\n",
    "        randomValue\n",
    "    }\n",
    "}\n",
    "\n",
    "do {\n",
    "    val y = retrieveData()\n",
    "    if (y != null) {\n",
    "        println(\"Retrieved data: $y\")\n",
    "    }else{\n",
    "        println(\"Stop\")\n",
    "    }\n",
    "} while (y != null)"
   ],
   "metadata": {
    "collapsed": false,
    "ExecuteTime": {
     "end_time": "2024-02-26T15:30:53.493171Z",
     "start_time": "2024-02-26T15:30:53.439282Z"
    }
   },
   "execution_count": 78
  }
 ],
 "metadata": {
  "kernelspec": {
   "display_name": "Kotlin",
   "language": "kotlin",
   "name": "kotlin"
  },
  "language_info": {
   "name": "kotlin",
   "version": "1.9.0",
   "mimetype": "text/x-kotlin",
   "file_extension": ".kt",
   "pygments_lexer": "kotlin",
   "codemirror_mode": "text/x-kotlin",
   "nbconvert_exporter": ""
  }
 },
 "nbformat": 4,
 "nbformat_minor": 0
}
