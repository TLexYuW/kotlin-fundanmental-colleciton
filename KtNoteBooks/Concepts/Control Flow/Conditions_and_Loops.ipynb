{
 "cells": [
  {
   "cell_type": "markdown",
   "source": [
    "# TOC\n",
    "- [If](#)\n",
    "- [When](#)\n",
    "- [For Loops](#)\n",
    "- [While Loops](#)\n",
    "- [Break and Continue](#)\n",
    "- [](#)\n",
    "- [](#)"
   ],
   "metadata": {
    "collapsed": false
   }
  },
  {
   "cell_type": "markdown",
   "source": [
    "## If expression"
   ],
   "metadata": {
    "collapsed": false
   }
  },
  {
   "cell_type": "code",
   "outputs": [],
   "source": [
    "var a = 1000\n",
    "var b = 9999"
   ],
   "metadata": {
    "collapsed": false,
    "ExecuteTime": {
     "end_time": "2024-02-28T00:56:27.908796700Z",
     "start_time": "2024-02-28T00:56:27.823082500Z"
    }
   },
   "execution_count": 1
  },
  {
   "cell_type": "code",
   "execution_count": 2,
   "outputs": [
    {
     "name": "stdout",
     "output_type": "stream",
     "text": [
      "9999\r\n"
     ]
    }
   ],
   "source": [
    "var max = a\n",
    "if (a < b) max = b\n",
    "\n",
    "println(b)"
   ],
   "metadata": {
    "collapsed": false,
    "ExecuteTime": {
     "end_time": "2024-02-28T00:56:28.043796600Z",
     "start_time": "2024-02-28T00:56:27.909798500Z"
    }
   }
  },
  {
   "cell_type": "markdown",
   "source": [
    "#### With else"
   ],
   "metadata": {
    "collapsed": false
   }
  },
  {
   "cell_type": "code",
   "outputs": [],
   "source": [
    "if (a > b) {\n",
    "    max = a\n",
    "} else {\n",
    "    max = b\n",
    "}"
   ],
   "metadata": {
    "collapsed": false,
    "ExecuteTime": {
     "end_time": "2024-02-28T00:56:28.124796500Z",
     "start_time": "2024-02-28T00:56:28.044796400Z"
    }
   },
   "execution_count": 3
  },
  {
   "cell_type": "markdown",
   "source": [
    "#### As expression\n"
   ],
   "metadata": {
    "collapsed": false
   }
  },
  {
   "cell_type": "code",
   "outputs": [
    {
     "name": "stdout",
     "output_type": "stream",
     "text": [
      "9999\r\n"
     ]
    }
   ],
   "source": [
    "max = if (a > b) a else b\n",
    "println(max)"
   ],
   "metadata": {
    "collapsed": false,
    "ExecuteTime": {
     "end_time": "2024-02-28T00:56:28.190799100Z",
     "start_time": "2024-02-28T00:56:28.124796500Z"
    }
   },
   "execution_count": 4
  },
  {
   "cell_type": "code",
   "outputs": [
    {
     "name": "stdout",
     "output_type": "stream",
     "text": [
      "Choose b : 9999\r\n"
     ]
    }
   ],
   "source": [
    "var max = if (a > b) {\n",
    "    print(\"Choose a : \")\n",
    "    a\n",
    "} else {\n",
    "    print(\"Choose b : \")\n",
    "    b\n",
    "}\n",
    "println(max)"
   ],
   "metadata": {
    "collapsed": false,
    "ExecuteTime": {
     "end_time": "2024-02-28T00:56:28.270796900Z",
     "start_time": "2024-02-28T00:56:28.190799100Z"
    }
   },
   "execution_count": 5
  },
  {
   "cell_type": "markdown",
   "source": [
    "#### You can also use `else if` in expressions:"
   ],
   "metadata": {
    "collapsed": false
   }
  },
  {
   "cell_type": "code",
   "outputs": [
    {
     "name": "stdout",
     "output_type": "stream",
     "text": [
      "9999\r\n"
     ]
    }
   ],
   "source": [
    "val maxLimit = 1\n",
    "val maxOrLimit = if (maxLimit > a) maxLimit else if (a > b) a else b\n",
    "\n",
    "println(maxOrLimit)"
   ],
   "metadata": {
    "collapsed": false,
    "ExecuteTime": {
     "end_time": "2024-02-28T00:56:28.362797200Z",
     "start_time": "2024-02-28T00:56:28.270796900Z"
    }
   },
   "execution_count": 6
  },
  {
   "cell_type": "markdown",
   "source": [
    "## When expression"
   ],
   "metadata": {
    "collapsed": false
   }
  },
  {
   "cell_type": "markdown",
   "source": [
    "#### If `when` is used as an expression, the else branch is mandatory,"
   ],
   "metadata": {
    "collapsed": false
   }
  },
  {
   "cell_type": "code",
   "outputs": [],
   "source": [
    "var x = 1000"
   ],
   "metadata": {
    "collapsed": false,
    "ExecuteTime": {
     "end_time": "2024-02-28T00:56:28.418796600Z",
     "start_time": "2024-02-28T00:56:28.361796100Z"
    }
   },
   "execution_count": 7
  },
  {
   "cell_type": "code",
   "execution_count": 8,
   "outputs": [
    {
     "name": "stdout",
     "output_type": "stream",
     "text": [
      "x is neither 1 nor 2"
     ]
    }
   ],
   "source": [
    "when (x) {\n",
    "    1 -> print(\"x == 1\")\n",
    "    2 -> print(\"x == 2\")\n",
    "    else -> {\n",
    "        print(\"x is neither 1 nor 2\")\n",
    "    }\n",
    "}"
   ],
   "metadata": {
    "collapsed": false,
    "ExecuteTime": {
     "end_time": "2024-02-28T00:56:28.483798700Z",
     "start_time": "2024-02-28T00:56:28.401797Z"
    }
   }
  },
  {
   "cell_type": "markdown",
   "source": [
    "## with enum class entries and sealed class subtypes"
   ],
   "metadata": {
    "collapsed": false
   }
  },
  {
   "cell_type": "code",
   "outputs": [],
   "source": [
    "import kotlin.random.Random\n",
    "\n",
    "enum class Bit {\n",
    "    ZERO, ONE\n",
    "}\n",
    "\n",
    "fun getRandomBit(): Bit {\n",
    "    val values = Bit.values()\n",
    "    val randomIndex = Random.nextInt(values.size)\n",
    "    return values[randomIndex]\n",
    "}"
   ],
   "metadata": {
    "collapsed": false,
    "ExecuteTime": {
     "end_time": "2024-02-28T00:56:28.623308300Z",
     "start_time": "2024-02-28T00:56:28.482796700Z"
    }
   },
   "execution_count": 9
  },
  {
   "cell_type": "code",
   "execution_count": 10,
   "outputs": [
    {
     "name": "stdout",
     "output_type": "stream",
     "text": [
      "0\r\n"
     ]
    }
   ],
   "source": [
    "val numericValue = when (getRandomBit()) {\n",
    "    Bit.ZERO -> 0\n",
    "    Bit.ONE -> 1\n",
    "    // 'else' is not required because all cases are covered\n",
    "}\n",
    "\n",
    "println(numericValue)"
   ],
   "metadata": {
    "collapsed": false,
    "ExecuteTime": {
     "end_time": "2024-02-28T00:56:28.689310700Z",
     "start_time": "2024-02-28T00:56:28.617494Z"
    }
   }
  },
  {
   "cell_type": "code",
   "outputs": [],
   "source": [
    "var x = 1\n",
    "var s: Long = 1L"
   ],
   "metadata": {
    "collapsed": false,
    "ExecuteTime": {
     "end_time": "2024-02-28T00:56:28.729311200Z",
     "start_time": "2024-02-28T00:56:28.688308300Z"
    }
   },
   "execution_count": 11
  },
  {
   "cell_type": "code",
   "outputs": [
    {
     "name": "stdout",
     "output_type": "stream",
     "text": [
      "s encodes x"
     ]
    }
   ],
   "source": [
    "when (x) {\n",
    "    s.toInt() -> print(\"s encodes x\")\n",
    "    else -> print(\"s does not encode x\")\n",
    "}"
   ],
   "metadata": {
    "collapsed": false,
    "ExecuteTime": {
     "end_time": "2024-02-28T00:56:28.774308100Z",
     "start_time": "2024-02-28T00:56:28.722308200Z"
    }
   },
   "execution_count": 12
  },
  {
   "cell_type": "markdown",
   "source": [
    "#### `in` / `!in`"
   ],
   "metadata": {
    "collapsed": false
   }
  },
  {
   "cell_type": "code",
   "outputs": [],
   "source": [
    "fun ValidNumber() = 21..30\n",
    "val validNumberRange: IntRange get() = 31..40"
   ],
   "metadata": {
    "collapsed": false,
    "ExecuteTime": {
     "end_time": "2024-02-28T00:56:28.827309400Z",
     "start_time": "2024-02-28T00:56:28.774308100Z"
    }
   },
   "execution_count": 13
  },
  {
   "cell_type": "code",
   "outputs": [
    {
     "name": "stdout",
     "output_type": "stream",
     "text": [
      "x is valid 2\r\n"
     ]
    }
   ],
   "source": [
    "var x = 39\n",
    "\n",
    "when (x) {\n",
    "    in 1..10 -> print(\"x is in the range\")\n",
    "    in ValidNumber() -> print(\"x is valid 1\")\n",
    "    in validNumberRange -> println(\"x is valid 2\")\n",
    "    !in 10..20 -> print(\"x is outside the range\")\n",
    "    else -> print(\"none of the above\")\n",
    "}"
   ],
   "metadata": {
    "collapsed": false,
    "ExecuteTime": {
     "end_time": "2024-02-28T00:56:28.939964600Z",
     "start_time": "2024-02-28T00:56:28.823308700Z"
    }
   },
   "execution_count": 14
  },
  {
   "cell_type": "code",
   "outputs": [],
   "source": [
    "fun hasPrefix(x: Any) = when(x) {\n",
    "    is String -> x.startsWith(\"prefix\")\n",
    "    else -> false\n",
    "}"
   ],
   "metadata": {
    "collapsed": false,
    "ExecuteTime": {
     "end_time": "2024-02-28T00:56:29.003965400Z",
     "start_time": "2024-02-28T00:56:28.938965600Z"
    }
   },
   "execution_count": 15
  },
  {
   "cell_type": "code",
   "outputs": [
    {
     "data": {
      "text/plain": "true"
     },
     "execution_count": 16,
     "metadata": {},
     "output_type": "execute_result"
    }
   ],
   "source": [
    "var st = \"prefix 1234567\"\n",
    "hasPrefix(st)"
   ],
   "metadata": {
    "collapsed": false,
    "ExecuteTime": {
     "end_time": "2024-02-28T00:56:29.055963500Z",
     "start_time": "2024-02-28T00:56:29.003965400Z"
    }
   },
   "execution_count": 16
  },
  {
   "cell_type": "code",
   "outputs": [],
   "source": [
    "fun Int.isOdd(): Boolean = this % 2 != 0\n",
    "fun Int.isEven(): Boolean = this % 2 == 0 "
   ],
   "metadata": {
    "collapsed": false,
    "ExecuteTime": {
     "end_time": "2024-02-28T00:56:29.110964Z",
     "start_time": "2024-02-28T00:56:29.054963400Z"
    }
   },
   "execution_count": 17
  },
  {
   "cell_type": "code",
   "outputs": [
    {
     "name": "stdout",
     "output_type": "stream",
     "text": [
      "y is even"
     ]
    }
   ],
   "source": [
    "var x = 2\n",
    "var y = 666\n",
    "\n",
    "when {\n",
    "    x.isOdd() -> print(\"x is odd\")\n",
    "    y.isEven() -> print(\"y is even\")\n",
    "    else -> print(\"x+y is odd\")\n",
    "}"
   ],
   "metadata": {
    "collapsed": false,
    "ExecuteTime": {
     "end_time": "2024-02-28T00:56:29.180966Z",
     "start_time": "2024-02-28T00:56:29.108970400Z"
    }
   },
   "execution_count": 18
  },
  {
   "cell_type": "markdown",
   "source": [
    "## For loops"
   ],
   "metadata": {
    "collapsed": false
   }
  },
  {
   "cell_type": "code",
   "outputs": [],
   "source": [
    "var collection = arrayOf(1, 2, 3, 4, 5)"
   ],
   "metadata": {
    "collapsed": false,
    "ExecuteTime": {
     "end_time": "2024-02-28T00:56:29.244965100Z",
     "start_time": "2024-02-28T00:56:29.179968500Z"
    }
   },
   "execution_count": 19
  },
  {
   "cell_type": "code",
   "execution_count": 20,
   "outputs": [
    {
     "name": "stdout",
     "output_type": "stream",
     "text": [
      "12345"
     ]
    }
   ],
   "source": [
    "for (item in collection) print(item)"
   ],
   "metadata": {
    "collapsed": false,
    "ExecuteTime": {
     "end_time": "2024-02-28T00:56:29.355966300Z",
     "start_time": "2024-02-28T00:56:29.241964200Z"
    }
   }
  },
  {
   "cell_type": "code",
   "outputs": [],
   "source": [
    "var ints = listOf(1, 2, 3, 4, 5)"
   ],
   "metadata": {
    "collapsed": false,
    "ExecuteTime": {
     "end_time": "2024-02-28T00:56:29.409965200Z",
     "start_time": "2024-02-28T00:56:29.353963700Z"
    }
   },
   "execution_count": 21
  },
  {
   "cell_type": "code",
   "outputs": [
    {
     "name": "stdout",
     "output_type": "stream",
     "text": [
      "1 2 3 4 5 "
     ]
    }
   ],
   "source": [
    "for (item: Int in ints) {\n",
    "    print(\"$item \")\n",
    "}"
   ],
   "metadata": {
    "collapsed": false,
    "ExecuteTime": {
     "end_time": "2024-02-28T00:56:29.470964Z",
     "start_time": "2024-02-28T00:56:29.396965400Z"
    }
   },
   "execution_count": 22
  },
  {
   "cell_type": "code",
   "outputs": [
    {
     "name": "stdout",
     "output_type": "stream",
     "text": [
      "1\r\n",
      "2\r\n",
      "3\r\n"
     ]
    }
   ],
   "source": [
    "for (i in 1..3) {\n",
    "    println(i)\n",
    "}"
   ],
   "metadata": {
    "collapsed": false,
    "ExecuteTime": {
     "end_time": "2024-02-28T00:56:29.519965600Z",
     "start_time": "2024-02-28T00:56:29.470964Z"
    }
   },
   "execution_count": 23
  },
  {
   "cell_type": "code",
   "outputs": [
    {
     "name": "stdout",
     "output_type": "stream",
     "text": [
      "6\r\n",
      "4\r\n",
      "2\r\n",
      "0\r\n"
     ]
    }
   ],
   "source": [
    "for (i in 6 downTo 0 step 2) {\n",
    "    println(i)\n",
    "}"
   ],
   "metadata": {
    "collapsed": false,
    "ExecuteTime": {
     "end_time": "2024-02-28T00:56:29.576964600Z",
     "start_time": "2024-02-28T00:56:29.511965100Z"
    }
   },
   "execution_count": 24
  },
  {
   "cell_type": "code",
   "outputs": [
    {
     "name": "stdout",
     "output_type": "stream",
     "text": [
      "1\r\n",
      "2\r\n",
      "3\r\n",
      "4\r\n",
      "5\r\n"
     ]
    }
   ],
   "source": [
    "for (i in collection.indices) {\n",
    "    println(collection[i])\n",
    "}"
   ],
   "metadata": {
    "collapsed": false,
    "ExecuteTime": {
     "end_time": "2024-02-28T00:56:29.637969Z",
     "start_time": "2024-02-28T00:56:29.576964600Z"
    }
   },
   "execution_count": 25
  },
  {
   "cell_type": "code",
   "outputs": [
    {
     "name": "stdout",
     "output_type": "stream",
     "text": [
      "the element at 0 is 1\r\n",
      "the element at 1 is 2\r\n",
      "the element at 2 is 3\r\n",
      "the element at 3 is 4\r\n",
      "the element at 4 is 5\r\n"
     ]
    }
   ],
   "source": [
    "for ((index, value) in collection.withIndex()) {\n",
    "    println(\"the element at $index is $value\")\n",
    "}"
   ],
   "metadata": {
    "collapsed": false,
    "ExecuteTime": {
     "end_time": "2024-02-28T00:56:29.709968400Z",
     "start_time": "2024-02-28T00:56:29.635962900Z"
    }
   },
   "execution_count": 26
  },
  {
   "cell_type": "markdown",
   "source": [
    "## While loops"
   ],
   "metadata": {
    "collapsed": false
   }
  },
  {
   "cell_type": "code",
   "execution_count": 27,
   "outputs": [
    {
     "name": "stdout",
     "output_type": "stream",
     "text": [
      "6\r\n",
      "5\r\n",
      "4\r\n",
      "3\r\n",
      "2\r\n",
      "1\r\n",
      "0\r\n"
     ]
    }
   ],
   "source": [
    "var x = 7\n",
    "while (x > 0) {\n",
    "    x--\n",
    "    println(x)\n",
    "}"
   ],
   "metadata": {
    "collapsed": false,
    "ExecuteTime": {
     "end_time": "2024-02-28T00:56:29.767966900Z",
     "start_time": "2024-02-28T00:56:29.703965700Z"
    }
   }
  },
  {
   "cell_type": "code",
   "outputs": [
    {
     "name": "stdout",
     "output_type": "stream",
     "text": [
      "Generate value: 0\r\n",
      "Stop\r\n"
     ]
    }
   ],
   "source": [
    "fun retrieveData(): Int? {\n",
    "    val randomValue = (0..10).random()\n",
    "    println(\"Generate value: $randomValue\")\n",
    "    return if (randomValue < 5) {\n",
    "        null\n",
    "    } else {\n",
    "        randomValue\n",
    "    }\n",
    "}\n",
    "\n",
    "do {\n",
    "    val y = retrieveData()\n",
    "    if (y != null) {\n",
    "        println(\"Retrieved data: $y\")\n",
    "    }else{\n",
    "        println(\"Stop\")\n",
    "    }\n",
    "} while (y != null)"
   ],
   "metadata": {
    "collapsed": false,
    "ExecuteTime": {
     "end_time": "2024-02-28T00:56:29.867967Z",
     "start_time": "2024-02-28T00:56:29.766964200Z"
    }
   },
   "execution_count": 28
  }
 ],
 "metadata": {
  "kernelspec": {
   "display_name": "Kotlin",
   "language": "kotlin",
   "name": "kotlin"
  },
  "language_info": {
   "name": "kotlin",
   "version": "1.9.0",
   "mimetype": "text/x-kotlin",
   "file_extension": ".kt",
   "pygments_lexer": "kotlin",
   "codemirror_mode": "text/x-kotlin",
   "nbconvert_exporter": ""
  }
 },
 "nbformat": 4,
 "nbformat_minor": 0
}
