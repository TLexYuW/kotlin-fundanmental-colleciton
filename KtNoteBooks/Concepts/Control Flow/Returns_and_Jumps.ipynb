{
 "cells": [
  {
   "cell_type": "markdown",
   "source": [
    "# TOC\n",
    "- [Demo-1](#demo-1)\n",
    "- [Demo-2](#demo-2)"
   ],
   "metadata": {
    "collapsed": false
   }
  },
  {
   "cell_type": "markdown",
   "source": [
    "### Packages"
   ],
   "metadata": {
    "collapsed": false
   }
  },
  {
   "cell_type": "code",
   "execution_count": 3,
   "outputs": [],
   "source": [
    "import java.util.*"
   ],
   "metadata": {
    "collapsed": false,
    "ExecuteTime": {
     "end_time": "2024-02-24T06:21:39.460236Z",
     "start_time": "2024-02-24T06:21:39.430403Z"
    }
   }
  },
  {
   "cell_type": "markdown",
   "source": [
    "## Demo-1"
   ],
   "metadata": {
    "collapsed": false
   }
  },
  {
   "cell_type": "code",
   "execution_count": 2,
   "outputs": [
    {
     "name": "stdout",
     "output_type": "stream",
     "text": [
      "Is Active\n"
     ]
    }
   ],
   "source": [
    "val isActive = true\n",
    "if (isActive) {\n",
    "    println(\"Is Active\")\n",
    "} else {\n",
    "    println(\"Is Not Active\")\n",
    "}"
   ],
   "metadata": {
    "collapsed": false,
    "ExecuteTime": {
     "end_time": "2024-02-24T06:21:36.590946Z",
     "start_time": "2024-02-24T06:21:36.480085Z"
    }
   }
  },
  {
   "cell_type": "markdown",
   "source": [
    "## Demo-2"
   ],
   "metadata": {
    "collapsed": false
   }
  },
  {
   "cell_type": "code",
   "execution_count": null,
   "outputs": [],
   "source": [
    "//val scan = Scanner(System.`in`).nextLine().trim()\n",
    "//val myNum = scan.toInt()\n",
    "//val result =\n",
    "//    if (myNum == 1000) \"Less than or equal 1000\" else if (myNum > 1000) \"Greater than 1000\" else \"All Failed\"\n",
    "//println(\"bool = $result\")"
   ],
   "metadata": {
    "collapsed": false,
    "is_executing": true,
    "ExecuteTime": {
     "start_time": "2024-02-24T06:21:05.841762Z"
    }
   }
  },
  {
   "cell_type": "markdown",
   "source": [
    "## Demo-3\n",
    "- `return`"
   ],
   "metadata": {
    "collapsed": false
   }
  },
  {
   "cell_type": "code",
   "execution_count": 6,
   "outputs": [
    {
     "name": "stdout",
     "output_type": "stream",
     "text": [
      "The condition is false\n",
      "This is text 2\n"
     ]
    }
   ],
   "source": [
    "val num1 = -5\n",
    "val num2 = -3\n",
    "val text = if (num1 > 0 || num2 > 0) {\n",
    "    println(\"The condition is true\")\n",
    "    \"This is text 1\"\n",
    "} else {\n",
    "    println(\"The condition is false\")\n",
    "    \"This is text 2\"\n",
    "}\n",
    "println(\"$text\")"
   ],
   "metadata": {
    "collapsed": false,
    "ExecuteTime": {
     "end_time": "2024-02-24T07:28:29.469398Z",
     "start_time": "2024-02-24T07:28:29.344683Z"
    }
   }
  },
  {
   "cell_type": "markdown",
   "source": [
    "---"
   ],
   "metadata": {
    "collapsed": false
   }
  },
  {
   "cell_type": "markdown",
   "source": [
    "## Break and continue labels"
   ],
   "metadata": {
    "collapsed": false
   }
  },
  {
   "cell_type": "markdown",
   "source": [
    "## Return to labels"
   ],
   "metadata": {
    "collapsed": false
   }
  }
 ],
 "metadata": {
  "kernelspec": {
   "display_name": "Kotlin",
   "language": "kotlin",
   "name": "kotlin"
  },
  "language_info": {
   "name": "kotlin",
   "version": "1.9.0",
   "mimetype": "text/x-kotlin",
   "file_extension": ".kt",
   "pygments_lexer": "kotlin",
   "codemirror_mode": "text/x-kotlin",
   "nbconvert_exporter": ""
  }
 },
 "nbformat": 4,
 "nbformat_minor": 0
}
