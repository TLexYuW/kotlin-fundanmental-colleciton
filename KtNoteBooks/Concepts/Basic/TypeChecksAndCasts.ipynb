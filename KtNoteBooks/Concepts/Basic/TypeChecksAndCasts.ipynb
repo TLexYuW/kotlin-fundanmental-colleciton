{
 "cells": [
  {
   "cell_type": "markdown",
   "source": [
    "# TOC\n",
    "- [is and !is operators](#is-and-is-operators)\n",
    "- [](#)\n",
    "- [](#)\n",
    "- [](#)\n",
    "- [](#)\n",
    "- [](#)\n",
    "- [](#)"
   ],
   "metadata": {
    "collapsed": false
   }
  },
  {
   "cell_type": "markdown",
   "source": [
    "## `is` and `!is` operators"
   ],
   "metadata": {
    "collapsed": false
   }
  },
  {
   "cell_type": "code",
   "outputs": [],
   "source": [
    "val obj = \"Hi there!\""
   ],
   "metadata": {
    "collapsed": false,
    "ExecuteTime": {
     "end_time": "2024-02-25T15:25:11.358056700Z",
     "start_time": "2024-02-25T15:25:11.294547200Z"
    }
   },
   "execution_count": 1
  },
  {
   "cell_type": "code",
   "execution_count": 2,
   "outputs": [
    {
     "name": "stdout",
     "output_type": "stream",
     "text": [
      "9"
     ]
    }
   ],
   "source": [
    "if (obj !is String) { // Same as !(obj is String)\n",
    "    print(\"Not a String\")\n",
    "} else {\n",
    "    print(obj.length)\n",
    "}"
   ],
   "metadata": {
    "collapsed": false,
    "ExecuteTime": {
     "end_time": "2024-02-25T15:25:12.571789100Z",
     "start_time": "2024-02-25T15:25:12.368839900Z"
    }
   }
  },
  {
   "cell_type": "markdown",
   "source": [
    "## Smart casts"
   ],
   "metadata": {
    "collapsed": false
   }
  },
  {
   "cell_type": "code",
   "execution_count": 6,
   "outputs": [
    {
     "name": "stdout",
     "output_type": "stream",
     "text": [
      "3\r\n"
     ]
    }
   ],
   "source": [
    "fun demo(x: Any) {\n",
    "    if (x is String) {\n",
    "        println(x.length) // x is automatically cast to String\n",
    "    }\n",
    "}\n",
    "demo(\"100\")"
   ],
   "metadata": {
    "collapsed": false,
    "ExecuteTime": {
     "end_time": "2024-02-25T15:53:42.837504900Z",
     "start_time": "2024-02-25T15:53:42.784505400Z"
    }
   }
  },
  {
   "cell_type": "code",
   "outputs": [
    {
     "name": "stdout",
     "output_type": "stream",
     "text": [
      "Not a String\r\n"
     ]
    }
   ],
   "source": [
    "fun demo(x: Any) {\n",
    "    if (x !is String) return println(\"Not a String\")\n",
    "    \n",
    "    println(x.length)\n",
    "}\n",
    "demo(100)"
   ],
   "metadata": {
    "collapsed": false,
    "ExecuteTime": {
     "end_time": "2024-02-25T15:55:16.566904700Z",
     "start_time": "2024-02-25T15:55:16.518905900Z"
    }
   },
   "execution_count": 10
  },
  {
   "cell_type": "markdown",
   "source": [
    "## \"Unsafe\" cast operator"
   ],
   "metadata": {
    "collapsed": false
   }
  },
  {
   "cell_type": "code",
   "outputs": [],
   "source": [
    "var y = 100\n",
    "\n",
    "val x: String = y as String"
   ],
   "metadata": {
    "collapsed": false
   }
  },
  {
   "cell_type": "code",
   "outputs": [],
   "source": [
    "var z = null\n",
    "\n",
    "val x: String? = z as String?"
   ],
   "metadata": {
    "collapsed": false,
    "ExecuteTime": {
     "end_time": "2024-02-25T16:03:01.359775900Z",
     "start_time": "2024-02-25T16:03:01.323775Z"
    }
   },
   "execution_count": 27
  },
  {
   "cell_type": "markdown",
   "source": [
    "## \"Safe\" (nullable) cast operator"
   ],
   "metadata": {
    "collapsed": false
   }
  },
  {
   "cell_type": "code",
   "execution_count": 28,
   "outputs": [],
   "source": [
    "val x: String? = z as? String"
   ],
   "metadata": {
    "collapsed": false,
    "ExecuteTime": {
     "end_time": "2024-02-25T16:03:07.665873900Z",
     "start_time": "2024-02-25T16:03:07.630873700Z"
    }
   }
  }
 ],
 "metadata": {
  "kernelspec": {
   "display_name": "Kotlin",
   "language": "kotlin",
   "name": "kotlin"
  },
  "language_info": {
   "name": "kotlin",
   "version": "1.9.0",
   "mimetype": "text/x-kotlin",
   "file_extension": ".kt",
   "pygments_lexer": "kotlin",
   "codemirror_mode": "text/x-kotlin",
   "nbconvert_exporter": ""
  }
 },
 "nbformat": 4,
 "nbformat_minor": 0
}
