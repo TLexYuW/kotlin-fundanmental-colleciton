{
 "cells": [
  {
   "cell_type": "markdown",
   "source": [
    "# TOC\n",
    "- [is and !is operators](#is-and-is-operators)\n",
    "- [Smart casts](#smart-casts)\n",
    "- [\"Unsafe\" cast operator](#unsafe-cast-operator)"
   ],
   "metadata": {
    "collapsed": false
   }
  },
  {
   "cell_type": "markdown",
   "source": [
    "## `is` and `!is` operators"
   ],
   "metadata": {
    "collapsed": false
   }
  },
  {
   "cell_type": "code",
   "outputs": [],
   "source": [
    "val obj = \"Hi there!\""
   ],
   "metadata": {
    "collapsed": false,
    "ExecuteTime": {
     "end_time": "2024-02-29T02:26:41.851454500Z",
     "start_time": "2024-02-29T02:26:41.763422800Z"
    }
   },
   "execution_count": 1
  },
  {
   "cell_type": "code",
   "execution_count": 2,
   "outputs": [
    {
     "name": "stdout",
     "output_type": "stream",
     "text": [
      "9"
     ]
    }
   ],
   "source": [
    "if (obj !is String) { // Same as !(obj is String)\n",
    "    print(\"Not a String\")\n",
    "} else {\n",
    "    print(obj.length)\n",
    "}"
   ],
   "metadata": {
    "collapsed": false,
    "ExecuteTime": {
     "end_time": "2024-02-29T02:26:42.068455700Z",
     "start_time": "2024-02-29T02:26:41.854454300Z"
    }
   }
  },
  {
   "cell_type": "markdown",
   "source": [
    "## Smart casts"
   ],
   "metadata": {
    "collapsed": false
   }
  },
  {
   "cell_type": "code",
   "execution_count": 3,
   "outputs": [
    {
     "name": "stdout",
     "output_type": "stream",
     "text": [
      "3\r\n"
     ]
    }
   ],
   "source": [
    "fun demo(x: Any) {\n",
    "    if (x is String) {\n",
    "        println(x.length) // x is automatically cast to String\n",
    "    }\n",
    "}\n",
    "demo(\"100\")"
   ],
   "metadata": {
    "collapsed": false,
    "ExecuteTime": {
     "end_time": "2024-02-29T02:26:42.169453200Z",
     "start_time": "2024-02-29T02:26:42.071453900Z"
    }
   }
  },
  {
   "cell_type": "code",
   "outputs": [
    {
     "name": "stdout",
     "output_type": "stream",
     "text": [
      "Not a String\r\n"
     ]
    }
   ],
   "source": [
    "fun demo(x: Any) {\n",
    "    if (x !is String) return println(\"Not a String\")\n",
    "    \n",
    "    println(x.length)\n",
    "}\n",
    "demo(100)"
   ],
   "metadata": {
    "collapsed": false,
    "ExecuteTime": {
     "end_time": "2024-02-29T02:26:42.245453700Z",
     "start_time": "2024-02-29T02:26:42.166453600Z"
    }
   },
   "execution_count": 4
  },
  {
   "cell_type": "markdown",
   "source": [
    "## \"Unsafe\" cast operator"
   ],
   "metadata": {
    "collapsed": false
   }
  },
  {
   "cell_type": "code",
   "outputs": [
    {
     "name": "stdout",
     "output_type": "stream",
     "text": [
      "100\r\n"
     ]
    }
   ],
   "source": [
    "var y: Any = \"100\"\n",
    "\n",
    "val x = y as String\n",
    "\n",
    "println(x)"
   ],
   "metadata": {
    "collapsed": false,
    "ExecuteTime": {
     "end_time": "2024-02-29T02:26:42.319453500Z",
     "start_time": "2024-02-29T02:26:42.245453700Z"
    }
   },
   "execution_count": 5
  },
  {
   "cell_type": "code",
   "outputs": [
    {
     "name": "stdout",
     "output_type": "stream",
     "text": [
      "null\r\n"
     ]
    }
   ],
   "source": [
    "var z = null\n",
    "\n",
    "val x: String? = z as String?\n",
    "\n",
    "println(x)"
   ],
   "metadata": {
    "collapsed": false,
    "ExecuteTime": {
     "end_time": "2024-02-29T02:26:42.378453600Z",
     "start_time": "2024-02-29T02:26:42.315453300Z"
    }
   },
   "execution_count": 6
  },
  {
   "cell_type": "markdown",
   "source": [
    "## \"Safe\" (nullable) cast operator"
   ],
   "metadata": {
    "collapsed": false
   }
  },
  {
   "cell_type": "code",
   "outputs": [
    {
     "name": "stdout",
     "output_type": "stream",
     "text": [
      "null\r\n"
     ]
    }
   ],
   "source": [
    "var z = null\n",
    "\n",
    "val x: String? = z as? String\n",
    "\n",
    "println(x)"
   ],
   "metadata": {
    "collapsed": false,
    "ExecuteTime": {
     "end_time": "2024-02-29T02:26:42.441453300Z",
     "start_time": "2024-02-29T02:26:42.376452300Z"
    }
   },
   "execution_count": 7
  }
 ],
 "metadata": {
  "kernelspec": {
   "display_name": "Kotlin",
   "language": "kotlin",
   "name": "kotlin"
  },
  "language_info": {
   "name": "kotlin",
   "version": "1.9.0",
   "mimetype": "text/x-kotlin",
   "file_extension": ".kt",
   "pygments_lexer": "kotlin",
   "codemirror_mode": "text/x-kotlin",
   "nbconvert_exporter": ""
  }
 },
 "nbformat": 4,
 "nbformat_minor": 0
}
