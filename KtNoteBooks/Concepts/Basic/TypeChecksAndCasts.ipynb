{
 "cells": [
  {
   "cell_type": "markdown",
   "source": [
    "# TOC\n",
    "- [is and !is operators](#is-and-is-operators)\n",
    "- [Smart casts](#smart-casts)\n",
    "- [\"Unsafe\" cast operator](#unsafe-cast-operator)"
   ],
   "metadata": {
    "collapsed": false
   }
  },
  {
   "cell_type": "markdown",
   "source": [
    "## `is` and `!is` operators"
   ],
   "metadata": {
    "collapsed": false
   }
  },
  {
   "cell_type": "code",
   "outputs": [],
   "source": [
    "val obj = \"Hi there!\""
   ],
   "metadata": {
    "collapsed": false,
    "ExecuteTime": {
     "end_time": "2024-02-27T13:18:34.628281100Z",
     "start_time": "2024-02-27T13:18:34.564269600Z"
    }
   },
   "execution_count": 3
  },
  {
   "cell_type": "code",
   "execution_count": 4,
   "outputs": [
    {
     "name": "stdout",
     "output_type": "stream",
     "text": [
      "9"
     ]
    }
   ],
   "source": [
    "if (obj !is String) { // Same as !(obj is String)\n",
    "    print(\"Not a String\")\n",
    "} else {\n",
    "    print(obj.length)\n",
    "}"
   ],
   "metadata": {
    "collapsed": false,
    "ExecuteTime": {
     "end_time": "2024-02-27T13:18:34.725283700Z",
     "start_time": "2024-02-27T13:18:34.618280400Z"
    }
   }
  },
  {
   "cell_type": "markdown",
   "source": [
    "## Smart casts"
   ],
   "metadata": {
    "collapsed": false
   }
  },
  {
   "cell_type": "code",
   "execution_count": 5,
   "outputs": [
    {
     "name": "stdout",
     "output_type": "stream",
     "text": [
      "3\r\n"
     ]
    }
   ],
   "source": [
    "fun demo(x: Any) {\n",
    "    if (x is String) {\n",
    "        println(x.length) // x is automatically cast to String\n",
    "    }\n",
    "}\n",
    "demo(\"100\")"
   ],
   "metadata": {
    "collapsed": false,
    "ExecuteTime": {
     "end_time": "2024-02-27T13:18:34.801498900Z",
     "start_time": "2024-02-27T13:18:34.724283500Z"
    }
   }
  },
  {
   "cell_type": "code",
   "outputs": [
    {
     "name": "stdout",
     "output_type": "stream",
     "text": [
      "Not a String\r\n"
     ]
    }
   ],
   "source": [
    "fun demo(x: Any) {\n",
    "    if (x !is String) return println(\"Not a String\")\n",
    "    \n",
    "    println(x.length)\n",
    "}\n",
    "demo(100)"
   ],
   "metadata": {
    "collapsed": false,
    "ExecuteTime": {
     "end_time": "2024-02-27T13:18:34.874712300Z",
     "start_time": "2024-02-27T13:18:34.801498900Z"
    }
   },
   "execution_count": 6
  },
  {
   "cell_type": "markdown",
   "source": [
    "## \"Unsafe\" cast operator"
   ],
   "metadata": {
    "collapsed": false
   }
  },
  {
   "cell_type": "code",
   "outputs": [
    {
     "name": "stdout",
     "output_type": "stream",
     "text": [
      "100\r\n"
     ]
    }
   ],
   "source": [
    "var y: Any = \"100\"\n",
    "\n",
    "val x = y as String\n",
    "\n",
    "println(x)"
   ],
   "metadata": {
    "collapsed": false,
    "ExecuteTime": {
     "end_time": "2024-02-27T13:18:34.926712200Z",
     "start_time": "2024-02-27T13:18:34.874712300Z"
    }
   },
   "execution_count": 7
  },
  {
   "cell_type": "code",
   "outputs": [
    {
     "name": "stdout",
     "output_type": "stream",
     "text": [
      "null\r\n"
     ]
    }
   ],
   "source": [
    "var z = null\n",
    "\n",
    "val x: String? = z as String?\n",
    "\n",
    "println(x)"
   ],
   "metadata": {
    "collapsed": false,
    "ExecuteTime": {
     "end_time": "2024-02-27T13:18:34.983711300Z",
     "start_time": "2024-02-27T13:18:34.926712200Z"
    }
   },
   "execution_count": 8
  },
  {
   "cell_type": "markdown",
   "source": [
    "## \"Safe\" (nullable) cast operator"
   ],
   "metadata": {
    "collapsed": false
   }
  },
  {
   "cell_type": "code",
   "outputs": [
    {
     "name": "stdout",
     "output_type": "stream",
     "text": [
      "null\r\n"
     ]
    }
   ],
   "source": [
    "var z = null\n",
    "\n",
    "val x: String? = z as? String\n",
    "\n",
    "println(x)"
   ],
   "metadata": {
    "collapsed": false,
    "ExecuteTime": {
     "end_time": "2024-02-27T13:18:35.036711100Z",
     "start_time": "2024-02-27T13:18:34.982715400Z"
    }
   },
   "execution_count": 9
  },
  {
   "cell_type": "code",
   "outputs": [],
   "source": [],
   "metadata": {
    "collapsed": false
   }
  }
 ],
 "metadata": {
  "kernelspec": {
   "display_name": "Kotlin",
   "language": "kotlin",
   "name": "kotlin"
  },
  "language_info": {
   "name": "kotlin",
   "version": "1.9.0",
   "mimetype": "text/x-kotlin",
   "file_extension": ".kt",
   "pygments_lexer": "kotlin",
   "codemirror_mode": "text/x-kotlin",
   "nbconvert_exporter": ""
  }
 },
 "nbformat": 4,
 "nbformat_minor": 0
}
