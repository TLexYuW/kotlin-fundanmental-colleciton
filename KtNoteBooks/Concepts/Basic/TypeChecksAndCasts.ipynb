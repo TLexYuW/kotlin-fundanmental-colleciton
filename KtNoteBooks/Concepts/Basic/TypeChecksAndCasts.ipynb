{
 "cells": [
  {
   "cell_type": "markdown",
   "source": [
    "# TOC\n",
    "- [is and !is operators](#is-and-is-operators)\n",
    "- [](#)\n",
    "- [](#)\n",
    "- [](#)\n",
    "- [](#)\n",
    "- [](#)\n",
    "- [](#)"
   ],
   "metadata": {
    "collapsed": false
   }
  },
  {
   "cell_type": "markdown",
   "source": [
    "## `is` and `!is` operators"
   ],
   "metadata": {
    "collapsed": false
   }
  },
  {
   "cell_type": "code",
   "outputs": [],
   "source": [
    "val obj = \"Hi there!\""
   ],
   "metadata": {
    "collapsed": false,
    "ExecuteTime": {
     "end_time": "2024-02-27T01:51:31.761438100Z",
     "start_time": "2024-02-27T01:51:31.727439900Z"
    }
   },
   "execution_count": 11
  },
  {
   "cell_type": "code",
   "execution_count": 12,
   "outputs": [
    {
     "name": "stdout",
     "output_type": "stream",
     "text": [
      "9"
     ]
    }
   ],
   "source": [
    "if (obj !is String) { // Same as !(obj is String)\n",
    "    print(\"Not a String\")\n",
    "} else {\n",
    "    print(obj.length)\n",
    "}"
   ],
   "metadata": {
    "collapsed": false,
    "ExecuteTime": {
     "end_time": "2024-02-27T01:51:31.824438700Z",
     "start_time": "2024-02-27T01:51:31.760440100Z"
    }
   }
  },
  {
   "cell_type": "markdown",
   "source": [
    "## Smart casts"
   ],
   "metadata": {
    "collapsed": false
   }
  },
  {
   "cell_type": "code",
   "execution_count": 13,
   "outputs": [
    {
     "name": "stdout",
     "output_type": "stream",
     "text": [
      "3\r\n"
     ]
    }
   ],
   "source": [
    "fun demo(x: Any) {\n",
    "    if (x is String) {\n",
    "        println(x.length) // x is automatically cast to String\n",
    "    }\n",
    "}\n",
    "demo(\"100\")"
   ],
   "metadata": {
    "collapsed": false,
    "ExecuteTime": {
     "end_time": "2024-02-27T01:51:31.879436800Z",
     "start_time": "2024-02-27T01:51:31.824438700Z"
    }
   }
  },
  {
   "cell_type": "code",
   "outputs": [
    {
     "name": "stdout",
     "output_type": "stream",
     "text": [
      "Not a String\r\n"
     ]
    }
   ],
   "source": [
    "fun demo(x: Any) {\n",
    "    if (x !is String) return println(\"Not a String\")\n",
    "    \n",
    "    println(x.length)\n",
    "}\n",
    "demo(100)"
   ],
   "metadata": {
    "collapsed": false,
    "ExecuteTime": {
     "end_time": "2024-02-27T01:51:31.940439200Z",
     "start_time": "2024-02-27T01:51:31.877438300Z"
    }
   },
   "execution_count": 14
  },
  {
   "cell_type": "markdown",
   "source": [
    "## \"Unsafe\" cast operator"
   ],
   "metadata": {
    "collapsed": false
   }
  },
  {
   "cell_type": "code",
   "outputs": [
    {
     "name": "stdout",
     "output_type": "stream",
     "text": [
      "100\r\n"
     ]
    }
   ],
   "source": [
    "var y: Any = \"100\"\n",
    "\n",
    "val x = y as String\n",
    "\n",
    "println(x)"
   ],
   "metadata": {
    "collapsed": false,
    "ExecuteTime": {
     "end_time": "2024-02-27T01:51:39.282473Z",
     "start_time": "2024-02-27T01:51:39.226472500Z"
    }
   },
   "execution_count": 19
  },
  {
   "cell_type": "code",
   "outputs": [],
   "source": [
    "var z = null\n",
    "\n",
    "val x: String? = z as String?"
   ],
   "metadata": {
    "collapsed": false,
    "ExecuteTime": {
     "end_time": "2024-02-27T01:51:32.030438600Z",
     "start_time": "2024-02-27T01:51:31.988439600Z"
    }
   },
   "execution_count": 16
  },
  {
   "cell_type": "markdown",
   "source": [
    "## \"Safe\" (nullable) cast operator"
   ],
   "metadata": {
    "collapsed": false
   }
  },
  {
   "cell_type": "code",
   "execution_count": 17,
   "outputs": [],
   "source": [
    "val x: String? = z as? String"
   ],
   "metadata": {
    "collapsed": false,
    "ExecuteTime": {
     "end_time": "2024-02-27T01:51:32.067438100Z",
     "start_time": "2024-02-27T01:51:32.030438600Z"
    }
   }
  },
  {
   "cell_type": "code",
   "outputs": [],
   "source": [],
   "metadata": {
    "collapsed": false,
    "ExecuteTime": {
     "end_time": "2024-02-27T01:51:32.078437800Z",
     "start_time": "2024-02-27T01:51:32.067438100Z"
    }
   },
   "execution_count": 18
  },
  {
   "cell_type": "code",
   "outputs": [],
   "source": [],
   "metadata": {
    "collapsed": false
   }
  }
 ],
 "metadata": {
  "kernelspec": {
   "display_name": "Kotlin",
   "language": "kotlin",
   "name": "kotlin"
  },
  "language_info": {
   "name": "kotlin",
   "version": "1.9.0",
   "mimetype": "text/x-kotlin",
   "file_extension": ".kt",
   "pygments_lexer": "kotlin",
   "codemirror_mode": "text/x-kotlin",
   "nbconvert_exporter": ""
  }
 },
 "nbformat": 4,
 "nbformat_minor": 0
}
