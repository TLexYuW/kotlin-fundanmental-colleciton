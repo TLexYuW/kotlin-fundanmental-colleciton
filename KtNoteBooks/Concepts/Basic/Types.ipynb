{
 "cells": [
  {
   "cell_type": "markdown",
   "source": [
    "# Types\n",
    "- [Integer](#integer)\n",
    "- [Bitwise](#bitwise)\n",
    "- [Byte](#byte)\n",
    "- [Short](#short)\n",
    "- [Long](#long)\n",
    "- [Float](#float)\n",
    "- [Double](#double)\n",
    "- [Char](#char)\n",
    "- [Strings](#strings)\n",
    "- [Arrays](#arrays) "
   ],
   "metadata": {
    "collapsed": false
   }
  },
  {
   "cell_type": "markdown",
   "source": [
    "## Integer"
   ],
   "metadata": {
    "collapsed": false
   }
  },
  {
   "cell_type": "code",
   "execution_count": 1,
   "outputs": [
    {
     "name": "stdout",
     "output_type": "stream",
     "text": [
      "Int max value = 2147483647\r\n",
      "Int min value = -2147483648\r\n",
      "overflow ... -2147483648\r\n"
     ]
    }
   ],
   "source": [
    "var number: Int = 22\n",
    "val maxIntegerValue: Int = Int.MAX_VALUE\n",
    "val minIntegerValue: Int = Int.MIN_VALUE\n",
    "println(\"Int max value = $maxIntegerValue\")\n",
    "println(\"Int min value = $minIntegerValue\")\n",
    "number = 2147483647 + 1\n",
    "println(\"overflow ... $number\")"
   ],
   "metadata": {
    "collapsed": false,
    "ExecuteTime": {
     "end_time": "2024-02-27T01:52:28.082036500Z",
     "start_time": "2024-02-27T01:52:27.809038900Z"
    }
   }
  },
  {
   "cell_type": "code",
   "outputs": [
    {
     "name": "stdout",
     "output_type": "stream",
     "text": [
      "int\r\n",
      "true\r\n"
     ]
    }
   ],
   "source": [
    "val x = 5 / 2\n",
    "println(x.javaClass)\n",
    "//println(x == 2.5) // ERROR: Operator '==' cannot be applied to 'Int' and 'Double'\n",
    "println(x == 2)"
   ],
   "metadata": {
    "collapsed": false,
    "ExecuteTime": {
     "end_time": "2024-02-27T01:52:28.207038Z",
     "start_time": "2024-02-27T01:52:28.082036500Z"
    }
   },
   "execution_count": 2
  },
  {
   "cell_type": "code",
   "outputs": [
    {
     "name": "stdout",
     "output_type": "stream",
     "text": [
      "long\r\n",
      "true\r\n"
     ]
    }
   ],
   "source": [
    "val x = 5L / 2\n",
    "println(x.javaClass)\n",
    "println(x == 2L)"
   ],
   "metadata": {
    "collapsed": false,
    "ExecuteTime": {
     "end_time": "2024-02-27T01:52:28.303037900Z",
     "start_time": "2024-02-27T01:52:28.205039Z"
    }
   },
   "execution_count": 3
  },
  {
   "cell_type": "code",
   "outputs": [
    {
     "name": "stdout",
     "output_type": "stream",
     "text": [
      "double\r\n",
      "true\r\n"
     ]
    }
   ],
   "source": [
    "val x = 5 / 2.toDouble()\n",
    "println(x.javaClass)\n",
    "println(x == 2.5)"
   ],
   "metadata": {
    "collapsed": false,
    "ExecuteTime": {
     "end_time": "2024-02-27T01:52:28.373037800Z",
     "start_time": "2024-02-27T01:52:28.289038100Z"
    }
   },
   "execution_count": 4
  },
  {
   "cell_type": "markdown",
   "source": [
    "### Unsigned integer types"
   ],
   "metadata": {
    "collapsed": false
   }
  },
  {
   "cell_type": "code",
   "outputs": [],
   "source": [
    "val b = 255u\n",
    "val s: UShort = 65535u // UShort, expected type provided\n",
    "val l: ULong = 4_294_967_295u  // ULong, expected type provided\n",
    "val a1 = 42u // UInt: no expected type provided, constant fits in UInt\n",
    "val a2 = 0xFFFF_FFFF_FFFFu // ULong: no expected type provided, constant doesn't fit in UInt"
   ],
   "metadata": {
    "collapsed": false,
    "ExecuteTime": {
     "end_time": "2024-02-27T01:52:28.456039400Z",
     "start_time": "2024-02-27T01:52:28.370038900Z"
    }
   },
   "execution_count": 5
  },
  {
   "cell_type": "code",
   "outputs": [
    {
     "name": "stdout",
     "output_type": "stream",
     "text": [
      "class kotlin.UInt\r\n",
      "class kotlin.UShort\r\n",
      "class kotlin.ULong\r\n",
      "class kotlin.UInt\r\n",
      "class kotlin.ULong\r\n"
     ]
    }
   ],
   "source": [
    "println(b.javaClass)\n",
    "println(s.javaClass)\n",
    "println(l.javaClass)\n",
    "println(a1.javaClass)\n",
    "println(a2.javaClass)"
   ],
   "metadata": {
    "collapsed": false,
    "ExecuteTime": {
     "end_time": "2024-02-27T01:52:28.568038800Z",
     "start_time": "2024-02-27T01:52:28.447038600Z"
    }
   },
   "execution_count": 6
  },
  {
   "cell_type": "markdown",
   "source": [
    "## Bitwise\n",
    "`shl(bits)` – signed shift left\n",
    "`shr(bits)` – signed shift right\n",
    "`ushr(bits)` – unsigned shift right\n",
    "`and(bits)` – bitwise AND\n",
    "`or(bits)` – bitwise OR\n",
    "`xor(bits)` – bitwise XOR\n",
    "`inv()` – bitwise inversion"
   ],
   "metadata": {
    "collapsed": false
   }
  },
  {
   "cell_type": "code",
   "outputs": [
    {
     "name": "stdout",
     "output_type": "stream",
     "text": [
      "Bitwise AND: 34\r\n",
      "Bitwise OR: 59\r\n",
      "Bitwise XOR: 25\r\n",
      "Bitwise NOT x: -43\r\n",
      "Bitwise NOT y: -52\r\n",
      "Left Shift x by 2: 168\r\n",
      "Right Shift y by 1: 25\r\n"
     ]
    }
   ],
   "source": [
    "val x = 0b101010 // Binary representation of 42\n",
    "val y = 0b110011 // Binary representation of 51\n",
    "// Bitwise AND\n",
    "val resultAnd = x and y\n",
    "println(\"Bitwise AND: $resultAnd\") // Output: 34 (0b100010)\n",
    "// Bitwise OR\n",
    "val resultOr = x or y\n",
    "println(\"Bitwise OR: $resultOr\") // Output: 59 (0b111011)\n",
    "// Bitwise XOR\n",
    "val resultXor = x xor y\n",
    "println(\"Bitwise XOR: $resultXor\") // Output: 25 (0b11001)\n",
    "// Bitwise NOT\n",
    "val resultNotX = x.inv()\n",
    "println(\"Bitwise NOT x: $resultNotX\") // Output: -43 (Two's complement of 42)\n",
    "val resultNotY = y.inv()\n",
    "println(\"Bitwise NOT y: $resultNotY\") // Output: -52 (Two's complement of 51)\n",
    "// Left shift\n",
    "val leftShifted = x shl 2\n",
    "println(\"Left Shift x by 2: $leftShifted\") // Output: 168 (0b10101000)\n",
    "// Right shift\n",
    "val rightShifted = y shr 1\n",
    "println(\"Right Shift y by 1: $rightShifted\") // Output: 25 (0b11001)"
   ],
   "metadata": {
    "collapsed": false,
    "ExecuteTime": {
     "end_time": "2024-02-27T01:52:28.716038100Z",
     "start_time": "2024-02-27T01:52:28.567038400Z"
    }
   },
   "execution_count": 7
  },
  {
   "cell_type": "markdown",
   "source": [
    "## Byte"
   ],
   "metadata": {
    "collapsed": false
   }
  },
  {
   "cell_type": "code",
   "execution_count": 8,
   "outputs": [
    {
     "name": "stdout",
     "output_type": "stream",
     "text": [
      "Byte max value = 127\r\n",
      "Byte min value = -128\r\n"
     ]
    }
   ],
   "source": [
    "val maxByteValue: Byte = Byte.MAX_VALUE\n",
    "val minByteValue: Byte = Byte.MIN_VALUE\n",
    "println(\"Byte max value = $maxByteValue\")\n",
    "println(\"Byte min value = $minByteValue\")"
   ],
   "metadata": {
    "collapsed": false,
    "ExecuteTime": {
     "end_time": "2024-02-27T01:52:28.788036900Z",
     "start_time": "2024-02-27T01:52:28.712038Z"
    }
   }
  },
  {
   "cell_type": "markdown",
   "source": [
    "## Short"
   ],
   "metadata": {
    "collapsed": false
   }
  },
  {
   "cell_type": "code",
   "execution_count": 9,
   "outputs": [
    {
     "name": "stdout",
     "output_type": "stream",
     "text": [
      "Short max value = 32767\r\n",
      "Short min value = -32768\r\n"
     ]
    }
   ],
   "source": [
    "val maxShortValue: Short = Short.MAX_VALUE\n",
    "val minShortValue: Short = Short.MIN_VALUE\n",
    "println(\"Short max value = $maxShortValue\")\n",
    "println(\"Short min value = $minShortValue\")\n"
   ],
   "metadata": {
    "collapsed": false,
    "ExecuteTime": {
     "end_time": "2024-02-27T01:52:28.847039900Z",
     "start_time": "2024-02-27T01:52:28.781039300Z"
    }
   }
  },
  {
   "cell_type": "markdown",
   "source": [
    "## Long"
   ],
   "metadata": {
    "collapsed": false
   }
  },
  {
   "cell_type": "code",
   "execution_count": 10,
   "outputs": [
    {
     "name": "stdout",
     "output_type": "stream",
     "text": [
      "Long max value = 9223372036854775807\r\n",
      "Long min value = -9223372036854775808\r\n"
     ]
    }
   ],
   "source": [
    "val maxLongValue: Long = Long.MAX_VALUE\n",
    "val minLongValue: Long = Long.MIN_VALUE\n",
    "println(\"Long max value = $maxLongValue\")\n",
    "println(\"Long min value = $minLongValue\")"
   ],
   "metadata": {
    "collapsed": false,
    "ExecuteTime": {
     "end_time": "2024-02-27T01:52:28.942038Z",
     "start_time": "2024-02-27T01:52:28.840039200Z"
    }
   }
  },
  {
   "cell_type": "markdown",
   "source": [
    "## Float"
   ],
   "metadata": {
    "collapsed": false
   }
  },
  {
   "cell_type": "code",
   "execution_count": 11,
   "outputs": [
    {
     "name": "stdout",
     "output_type": "stream",
     "text": [
      "Float max value = 3.4028235E38\r\n",
      "Float min value = 1.4E-45\r\n"
     ]
    }
   ],
   "source": [
    "val maxFloatValue: Float = Float.MAX_VALUE\n",
    "val minFloatValue: Float = Float.MIN_VALUE\n",
    "println(\"Float max value = $maxFloatValue\")\n",
    "println(\"Float min value = $minFloatValue\")"
   ],
   "metadata": {
    "collapsed": false,
    "ExecuteTime": {
     "end_time": "2024-02-27T01:52:29.021038800Z",
     "start_time": "2024-02-27T01:52:28.909037700Z"
    }
   }
  },
  {
   "cell_type": "markdown",
   "source": [
    "- `NaN` is considered equal to itself\n",
    "- `NaN` is considered greater than any other element including POSITIVE_INFINITY\n",
    "- `-0.0` is considered less than 0.0"
   ],
   "metadata": {
    "collapsed": false
   }
  },
  {
   "cell_type": "code",
   "outputs": [
    {
     "name": "stdout",
     "output_type": "stream",
     "text": [
      "false\r\n"
     ]
    }
   ],
   "source": [
    "// Operand statically typed as floating-point number\n",
    "println(Double.NaN == Double.NaN)"
   ],
   "metadata": {
    "collapsed": false,
    "ExecuteTime": {
     "end_time": "2024-02-27T01:52:29.098036600Z",
     "start_time": "2024-02-27T01:52:28.978038100Z"
    }
   },
   "execution_count": 12
  },
  {
   "cell_type": "code",
   "outputs": [
    {
     "name": "stdout",
     "output_type": "stream",
     "text": [
      "true\r\n"
     ]
    }
   ],
   "source": [
    "// Operand NOT statically typed as floating-point number\n",
    "// So NaN is equal to itself\n",
    "println(listOf(Double.NaN) == listOf(Double.NaN))"
   ],
   "metadata": {
    "collapsed": false,
    "ExecuteTime": {
     "end_time": "2024-02-27T01:52:29.178038600Z",
     "start_time": "2024-02-27T01:52:29.042040Z"
    }
   },
   "execution_count": 13
  },
  {
   "cell_type": "code",
   "outputs": [
    {
     "name": "stdout",
     "output_type": "stream",
     "text": [
      "true\r\n"
     ]
    }
   ],
   "source": [
    "// Operand statically typed as floating-point number\n",
    "println(0.0 == -0.0)      "
   ],
   "metadata": {
    "collapsed": false,
    "ExecuteTime": {
     "end_time": "2024-02-27T01:52:29.195038400Z",
     "start_time": "2024-02-27T01:52:29.110039800Z"
    }
   },
   "execution_count": 14
  },
  {
   "cell_type": "code",
   "outputs": [
    {
     "name": "stdout",
     "output_type": "stream",
     "text": [
      "false\r\n"
     ]
    }
   ],
   "source": [
    "// Operand NOT statically typed as floating-point number\n",
    "// So -0.0 is less than 0.0\n",
    "println(listOf(0.0) == listOf(-0.0))"
   ],
   "metadata": {
    "collapsed": false,
    "ExecuteTime": {
     "end_time": "2024-02-27T01:52:29.249038200Z",
     "start_time": "2024-02-27T01:52:29.164038400Z"
    }
   },
   "execution_count": 15
  },
  {
   "cell_type": "code",
   "outputs": [
    {
     "name": "stdout",
     "output_type": "stream",
     "text": [
      "[-0.0, 0.0, Infinity, NaN]\r\n"
     ]
    }
   ],
   "source": [
    "println(listOf(Double.NaN, Double.POSITIVE_INFINITY, 0.0, -0.0).sorted())"
   ],
   "metadata": {
    "collapsed": false,
    "ExecuteTime": {
     "end_time": "2024-02-27T01:52:29.344039300Z",
     "start_time": "2024-02-27T01:52:29.217040Z"
    }
   },
   "execution_count": 16
  },
  {
   "cell_type": "markdown",
   "source": [
    "## Double"
   ],
   "metadata": {
    "collapsed": false
   }
  },
  {
   "cell_type": "code",
   "execution_count": 17,
   "outputs": [
    {
     "name": "stdout",
     "output_type": "stream",
     "text": [
      "Double max value = 1.7976931348623157E308\r\n",
      "Double min value = 4.9E-324\r\n"
     ]
    }
   ],
   "source": [
    "val maxDoubleValue: Double = Double.MAX_VALUE\n",
    "val minDoubleValue: Double = Double.MIN_VALUE\n",
    "println(\"Double max value = $maxDoubleValue\")\n",
    "println(\"Double min value = $minDoubleValue\")"
   ],
   "metadata": {
    "collapsed": false,
    "ExecuteTime": {
     "end_time": "2024-02-27T01:52:29.414037100Z",
     "start_time": "2024-02-27T01:52:29.301038900Z"
    }
   }
  },
  {
   "cell_type": "markdown",
   "source": [
    "## Char"
   ],
   "metadata": {
    "collapsed": false
   }
  },
  {
   "cell_type": "code",
   "execution_count": 18,
   "outputs": [
    {
     "name": "stdout",
     "output_type": "stream",
     "text": [
      "Char value = a\r\n",
      "Boolean value = true\r\n"
     ]
    }
   ],
   "source": [
    "val myCharValue: Char = 'a'\n",
    "val myBooleanValue: Boolean = true\n",
    "println(\"Char value = $myCharValue\")\n",
    "println(\"Boolean value = $myBooleanValue\")"
   ],
   "metadata": {
    "collapsed": false,
    "ExecuteTime": {
     "end_time": "2024-02-27T01:52:29.513040400Z",
     "start_time": "2024-02-27T01:52:29.366037400Z"
    }
   }
  },
  {
   "cell_type": "markdown",
   "source": [
    "---"
   ],
   "metadata": {
    "collapsed": false
   }
  },
  {
   "cell_type": "code",
   "execution_count": 19,
   "outputs": [
    {
     "name": "stdout",
     "output_type": "stream",
     "text": [
      "Class = float\r\n",
      "Class = double\r\n"
     ]
    }
   ],
   "source": [
    "val myFNum = 1.5f\n",
    "println(\"Class = ${myFNum.javaClass}\")\n",
    "val myFNum2 = 3.5\n",
    "println(\"Class = ${myFNum2.javaClass}\")"
   ],
   "metadata": {
    "collapsed": false,
    "ExecuteTime": {
     "end_time": "2024-02-27T01:52:29.535037600Z",
     "start_time": "2024-02-27T01:52:29.429038300Z"
    }
   }
  },
  {
   "cell_type": "markdown",
   "source": [
    "---"
   ],
   "metadata": {
    "collapsed": false
   }
  },
  {
   "cell_type": "markdown",
   "source": [
    "Skip `Char`, `Booleans`"
   ],
   "metadata": {
    "collapsed": false
   }
  },
  {
   "cell_type": "markdown",
   "source": [
    "---"
   ],
   "metadata": {
    "collapsed": false
   }
  },
  {
   "cell_type": "markdown",
   "source": [
    "## Strings"
   ],
   "metadata": {
    "collapsed": false
   }
  },
  {
   "cell_type": "code",
   "outputs": [
    {
     "name": "stdout",
     "output_type": "stream",
     "text": [
      "H e l l o   W o r l d ! "
     ]
    }
   ],
   "source": [
    "val str = \"Hello World!\"\n",
    "for (c in str) {\n",
    "    print(c.plus(\" \"))\n",
    "}"
   ],
   "metadata": {
    "collapsed": false,
    "ExecuteTime": {
     "end_time": "2024-02-27T01:52:29.737038100Z",
     "start_time": "2024-02-27T01:52:29.497040300Z"
    }
   },
   "execution_count": 20
  },
  {
   "cell_type": "code",
   "outputs": [
    {
     "data": {
      "text/plain": "\n    for (c in \"foo\")\n        print(c)\n"
     },
     "execution_count": 21,
     "metadata": {},
     "output_type": "execute_result"
    }
   ],
   "source": [
    "val text = \"\"\"\n",
    "    for (c in \"foo\")\n",
    "        print(c)\n",
    "\"\"\"\n",
    "text"
   ],
   "metadata": {
    "collapsed": false,
    "ExecuteTime": {
     "end_time": "2024-02-27T01:52:29.789038500Z",
     "start_time": "2024-02-27T01:52:29.729039400Z"
    }
   },
   "execution_count": 21
  },
  {
   "cell_type": "code",
   "outputs": [
    {
     "data": {
      "text/plain": "Tell me and I forget.\nTeach me and I remember.\nInvolve me and I learn.\n(Benjamin Franklin)"
     },
     "execution_count": 22,
     "metadata": {},
     "output_type": "execute_result"
    }
   ],
   "source": [
    "val text = \"\"\"\n",
    "    |Tell me and I forget.\n",
    "    |Teach me and I remember.\n",
    "    |Involve me and I learn.\n",
    "    |(Benjamin Franklin)\n",
    "    \"\"\".trimMargin()\n",
    "text"
   ],
   "metadata": {
    "collapsed": false,
    "ExecuteTime": {
     "end_time": "2024-02-27T01:52:29.860039300Z",
     "start_time": "2024-02-27T01:52:29.777037700Z"
    }
   },
   "execution_count": 22
  },
  {
   "cell_type": "code",
   "outputs": [
    {
     "data": {
      "text/plain": "\n$_9.99\n"
     },
     "execution_count": 23,
     "metadata": {},
     "output_type": "execute_result"
    }
   ],
   "source": [
    "val price = \"\"\"\n",
    "${'$'}_9.99\n",
    "\"\"\"\n",
    "price"
   ],
   "metadata": {
    "collapsed": false,
    "ExecuteTime": {
     "end_time": "2024-02-27T01:52:29.929037600Z",
     "start_time": "2024-02-27T01:52:29.835039800Z"
    }
   },
   "execution_count": 23
  },
  {
   "cell_type": "markdown",
   "source": [
    "### Formatting"
   ],
   "metadata": {
    "collapsed": false
   }
  },
  {
   "cell_type": "code",
   "outputs": [
    {
     "name": "stdout",
     "output_type": "stream",
     "text": [
      "0031416\r\n"
     ]
    }
   ],
   "source": [
    "val integerNumber = String.format(\"%07d\", 31416)\n",
    "println(integerNumber)"
   ],
   "metadata": {
    "collapsed": false,
    "ExecuteTime": {
     "end_time": "2024-02-27T01:52:29.991037900Z",
     "start_time": "2024-02-27T01:52:29.874037400Z"
    }
   },
   "execution_count": 24
  },
  {
   "cell_type": "code",
   "outputs": [
    {
     "name": "stdout",
     "output_type": "stream",
     "text": [
      "+3.1416\r\n"
     ]
    }
   ],
   "source": [
    "val floatNumber = String.format(\"%+.4f\", 3.141592)\n",
    "println(floatNumber)"
   ],
   "metadata": {
    "collapsed": false,
    "ExecuteTime": {
     "end_time": "2024-02-27T01:52:30.047038100Z",
     "start_time": "2024-02-27T01:52:29.933041500Z"
    }
   },
   "execution_count": 25
  },
  {
   "cell_type": "code",
   "outputs": [
    {
     "name": "stdout",
     "output_type": "stream",
     "text": [
      "HELLO WORLD\r\n"
     ]
    }
   ],
   "source": [
    "val helloString = String.format(\"%S %S\", \"hello\", \"world\")\n",
    "println(helloString)"
   ],
   "metadata": {
    "collapsed": false,
    "ExecuteTime": {
     "end_time": "2024-02-27T01:52:30.086038400Z",
     "start_time": "2024-02-27T01:52:29.982038600Z"
    }
   },
   "execution_count": 26
  },
  {
   "cell_type": "markdown",
   "source": [
    "## Arrays"
   ],
   "metadata": {
    "collapsed": false
   }
  },
  {
   "cell_type": "code",
   "outputs": [
    {
     "name": "stdout",
     "output_type": "stream",
     "text": [
      "1, 2, 3\r\n"
     ]
    }
   ],
   "source": [
    "val simpleArray = arrayOf(1, 2, 3)\n",
    "println(simpleArray.joinToString())"
   ],
   "metadata": {
    "collapsed": false,
    "ExecuteTime": {
     "end_time": "2024-02-27T01:52:30.176039300Z",
     "start_time": "2024-02-27T01:52:30.033038800Z"
    }
   },
   "execution_count": 27
  },
  {
   "cell_type": "code",
   "outputs": [
    {
     "name": "stdout",
     "output_type": "stream",
     "text": [
      "null, null, null\r\n"
     ]
    }
   ],
   "source": [
    "val nullArray: Array<Int?> = arrayOfNulls(3)\n",
    "println(nullArray.joinToString())"
   ],
   "metadata": {
    "collapsed": false,
    "ExecuteTime": {
     "end_time": "2024-02-27T01:52:30.196039500Z",
     "start_time": "2024-02-27T01:52:30.099037Z"
    }
   },
   "execution_count": 28
  },
  {
   "cell_type": "code",
   "outputs": [],
   "source": [
    "//var exampleArray = emptyArray<String>()\n",
    "\n",
    "var exampleArray: Array<String> = emptyArray()"
   ],
   "metadata": {
    "collapsed": false,
    "ExecuteTime": {
     "end_time": "2024-02-27T01:52:30.250039600Z",
     "start_time": "2024-02-27T01:52:30.159037400Z"
    }
   },
   "execution_count": 29
  },
  {
   "cell_type": "code",
   "outputs": [
    {
     "name": "stdout",
     "output_type": "stream",
     "text": [
      "100, 100, 100\r\n"
     ]
    }
   ],
   "source": [
    "val initArray = Array<Int>(3) { 100 }\n",
    "println(initArray.joinToString())"
   ],
   "metadata": {
    "collapsed": false,
    "ExecuteTime": {
     "end_time": "2024-02-27T01:52:30.308036800Z",
     "start_time": "2024-02-27T01:52:30.204038300Z"
    }
   },
   "execution_count": 30
  },
  {
   "cell_type": "code",
   "outputs": [
    {
     "name": "stdout",
     "output_type": "stream",
     "text": [
      "0, 1, 4, 9, 16, "
     ]
    }
   ],
   "source": [
    "val asc = Array(5) { i -> (i * i).toString() }\n",
    "asc.forEach { print(it.plus(\", \")) }"
   ],
   "metadata": {
    "collapsed": false,
    "ExecuteTime": {
     "end_time": "2024-02-27T01:52:30.391038200Z",
     "start_time": "2024-02-27T01:52:30.284037200Z"
    }
   },
   "execution_count": 31
  },
  {
   "cell_type": "markdown",
   "source": [
    "### Nested arrays"
   ],
   "metadata": {
    "collapsed": false
   }
  },
  {
   "cell_type": "code",
   "outputs": [
    {
     "name": "stdout",
     "output_type": "stream",
     "text": [
      "[[7, 7], [7, 7]]\r\n"
     ]
    }
   ],
   "source": [
    "val twoDArray = Array(2) { Array<Int>(2) { 7 } }\n",
    "println(twoDArray.contentDeepToString())"
   ],
   "metadata": {
    "collapsed": false,
    "ExecuteTime": {
     "end_time": "2024-02-27T01:52:30.482037800Z",
     "start_time": "2024-02-27T01:52:30.388038800Z"
    }
   },
   "execution_count": 32
  },
  {
   "cell_type": "code",
   "outputs": [
    {
     "name": "stdout",
     "output_type": "stream",
     "text": [
      "[[[6], [6]], [[6], [6]], [[6], [6]]]\r\n"
     ]
    }
   ],
   "source": [
    "val threeDArray = Array(3) { Array(2) { Array<Int>(1) { 6 } } }\n",
    "println(threeDArray.contentDeepToString())"
   ],
   "metadata": {
    "collapsed": false,
    "ExecuteTime": {
     "end_time": "2024-02-27T01:52:30.573039600Z",
     "start_time": "2024-02-27T01:52:30.477039700Z"
    }
   },
   "execution_count": 33
  },
  {
   "cell_type": "markdown",
   "source": [
    "### Pass variable number of arguments to a function\n",
    "- `*` : 擴展運算子"
   ],
   "metadata": {
    "collapsed": false
   }
  },
  {
   "cell_type": "code",
   "outputs": [
    {
     "name": "stdout",
     "output_type": "stream",
     "text": [
      "abcd"
     ]
    }
   ],
   "source": [
    "fun printAllStrings(vararg strings: String) {\n",
    "    for (string in strings) {\n",
    "        print(string)\n",
    "    }\n",
    "}\n",
    "\n",
    "val lettersArray = arrayOf(\"c\", \"d\")\n",
    "printAllStrings(\"a\", \"b\", *lettersArray)"
   ],
   "metadata": {
    "collapsed": false,
    "ExecuteTime": {
     "end_time": "2024-02-27T01:52:30.655036200Z",
     "start_time": "2024-02-27T01:52:30.554038600Z"
    }
   },
   "execution_count": 34
  },
  {
   "cell_type": "markdown",
   "source": [
    "### Compare arrays"
   ],
   "metadata": {
    "collapsed": false
   }
  },
  {
   "cell_type": "code",
   "outputs": [],
   "source": [
    "val simpleArray = arrayOf(1, 2, 3)\n",
    "val anotherArray = arrayOf(1, 2, 3)"
   ],
   "metadata": {
    "collapsed": false,
    "ExecuteTime": {
     "end_time": "2024-02-27T01:52:30.728038Z",
     "start_time": "2024-02-27T01:52:30.631039500Z"
    }
   },
   "execution_count": 35
  },
  {
   "cell_type": "code",
   "outputs": [
    {
     "name": "stdout",
     "output_type": "stream",
     "text": [
      "true\r\n"
     ]
    }
   ],
   "source": [
    "println(simpleArray.contentEquals(anotherArray))"
   ],
   "metadata": {
    "collapsed": false,
    "ExecuteTime": {
     "end_time": "2024-02-27T01:52:30.766038200Z",
     "start_time": "2024-02-27T01:52:30.683039200Z"
    }
   },
   "execution_count": 36
  },
  {
   "cell_type": "code",
   "outputs": [
    {
     "name": "stdout",
     "output_type": "stream",
     "text": [
      "false\r\n"
     ]
    }
   ],
   "source": [
    "simpleArray[0] = 10\n",
    "println(simpleArray contentEquals anotherArray)"
   ],
   "metadata": {
    "collapsed": false,
    "ExecuteTime": {
     "end_time": "2024-02-27T01:52:30.817038900Z",
     "start_time": "2024-02-27T01:52:30.738038700Z"
    }
   },
   "execution_count": 37
  },
  {
   "cell_type": "markdown",
   "source": [
    "### Transform arrays"
   ],
   "metadata": {
    "collapsed": false
   }
  },
  {
   "cell_type": "code",
   "outputs": [
    {
     "name": "stdout",
     "output_type": "stream",
     "text": [
      "6\r\n"
     ]
    }
   ],
   "source": [
    "val sumArray = arrayOf(1, 2, 3)\n",
    "println(sumArray.sum())"
   ],
   "metadata": {
    "collapsed": false,
    "ExecuteTime": {
     "end_time": "2024-02-27T01:52:30.900038400Z",
     "start_time": "2024-02-27T01:52:30.795039700Z"
    }
   },
   "execution_count": 38
  },
  {
   "cell_type": "code",
   "outputs": [
    {
     "name": "stdout",
     "output_type": "stream",
     "text": [
      "2, 1, 3\r\n"
     ]
    }
   ],
   "source": [
    "val simpleArray = arrayOf(1, 2, 3)\n",
    "simpleArray.shuffle()\n",
    "println(simpleArray.joinToString())"
   ],
   "metadata": {
    "collapsed": false,
    "ExecuteTime": {
     "end_time": "2024-02-27T01:52:30.951038900Z",
     "start_time": "2024-02-27T01:52:30.863037800Z"
    }
   },
   "execution_count": 39
  },
  {
   "cell_type": "code",
   "outputs": [
    {
     "name": "stdout",
     "output_type": "stream",
     "text": [
      "2, 3, 1\r\n"
     ]
    }
   ],
   "source": [
    "simpleArray.shuffle()\n",
    "println(simpleArray.joinToString())"
   ],
   "metadata": {
    "collapsed": false,
    "ExecuteTime": {
     "end_time": "2024-02-27T01:52:31.011037400Z",
     "start_time": "2024-02-27T01:52:30.925039300Z"
    }
   },
   "execution_count": 40
  },
  {
   "cell_type": "markdown",
   "source": [
    "### Convert arrays to collections"
   ],
   "metadata": {
    "collapsed": false
   }
  },
  {
   "cell_type": "code",
   "outputs": [
    {
     "name": "stdout",
     "output_type": "stream",
     "text": [
      "[a, b, c]\r\n"
     ]
    }
   ],
   "source": [
    "val simpleArray = arrayOf(\"a\", \"b\", \"c\", \"c\")\n",
    "println(simpleArray.toSet())"
   ],
   "metadata": {
    "collapsed": false,
    "ExecuteTime": {
     "end_time": "2024-02-27T01:52:31.089039900Z",
     "start_time": "2024-02-27T01:52:30.975038100Z"
    }
   },
   "execution_count": 41
  },
  {
   "cell_type": "code",
   "outputs": [
    {
     "name": "stdout",
     "output_type": "stream",
     "text": [
      "[a, b, c, c]\r\n"
     ]
    }
   ],
   "source": [
    "println(simpleArray.toList())"
   ],
   "metadata": {
    "collapsed": false,
    "ExecuteTime": {
     "end_time": "2024-02-27T01:52:31.107038700Z",
     "start_time": "2024-02-27T01:52:31.022039900Z"
    }
   },
   "execution_count": 42
  },
  {
   "cell_type": "code",
   "outputs": [
    {
     "name": "stdout",
     "output_type": "stream",
     "text": [
      "{apple=140, banana=150, cherry=90}\r\n"
     ]
    }
   ],
   "source": [
    "val pairArray = arrayOf(\"apple\" to 120, \"banana\" to 150, \"cherry\" to 90, \"apple\" to 140)\n",
    "println(pairArray.toMap())"
   ],
   "metadata": {
    "collapsed": false,
    "ExecuteTime": {
     "end_time": "2024-02-27T01:52:31.205038300Z",
     "start_time": "2024-02-27T01:52:31.063039700Z"
    }
   },
   "execution_count": 43
  },
  {
   "cell_type": "markdown",
   "source": [
    "### Primitive-type arrays"
   ],
   "metadata": {
    "collapsed": false
   }
  },
  {
   "cell_type": "code",
   "outputs": [
    {
     "name": "stdout",
     "output_type": "stream",
     "text": [
      "999, 999, 999, 999, 999\r\n"
     ]
    }
   ],
   "source": [
    "val exampleArray = IntArray(5) { 999 }\n",
    "println(exampleArray.joinToString())"
   ],
   "metadata": {
    "collapsed": false,
    "ExecuteTime": {
     "end_time": "2024-02-27T01:52:31.238037300Z",
     "start_time": "2024-02-27T01:52:31.141038900Z"
    }
   },
   "execution_count": 44
  },
  {
   "cell_type": "code",
   "outputs": [],
   "source": [],
   "metadata": {
    "collapsed": false,
    "ExecuteTime": {
     "end_time": "2024-02-27T01:52:31.252036700Z",
     "start_time": "2024-02-27T01:52:31.189040Z"
    }
   },
   "execution_count": 45
  }
 ],
 "metadata": {
  "kernelspec": {
   "display_name": "Kotlin",
   "language": "kotlin",
   "name": "kotlin"
  },
  "language_info": {
   "name": "kotlin",
   "version": "1.9.0",
   "mimetype": "text/x-kotlin",
   "file_extension": ".kt",
   "pygments_lexer": "kotlin",
   "codemirror_mode": "text/x-kotlin",
   "nbconvert_exporter": ""
  }
 },
 "nbformat": 4,
 "nbformat_minor": 0
}
