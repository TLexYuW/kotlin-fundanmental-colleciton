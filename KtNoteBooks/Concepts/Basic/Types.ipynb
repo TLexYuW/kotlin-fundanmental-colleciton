{
 "cells": [
  {
   "cell_type": "markdown",
   "source": [
    "# Types\n",
    "- [Integer](#integer)\n",
    "- [Bitwise](#bitwise)\n",
    "- [Byte](#byte)\n",
    "- [Short](#short)\n",
    "- [Long](#long)\n",
    "- [Float](#float)\n",
    "- [Double](#double)\n",
    "- [Char](#char)\n",
    "- [Strings](#strings)\n",
    "- [Arrays](#arrays) "
   ],
   "metadata": {
    "collapsed": false
   }
  },
  {
   "cell_type": "markdown",
   "source": [
    "## Integer"
   ],
   "metadata": {
    "collapsed": false
   }
  },
  {
   "cell_type": "code",
   "execution_count": 20,
   "outputs": [
    {
     "name": "stdout",
     "output_type": "stream",
     "text": [
      "Int max value = 2147483647\r\n",
      "Int min value = -2147483648\r\n",
      "overflow ... -2147483648\r\n"
     ]
    }
   ],
   "source": [
    "var number: Int = 22\n",
    "val maxIntegerValue: Int = Int.MAX_VALUE\n",
    "val minIntegerValue: Int = Int.MIN_VALUE\n",
    "println(\"Int max value = $maxIntegerValue\")\n",
    "println(\"Int min value = $minIntegerValue\")\n",
    "number = 2147483647 + 1\n",
    "println(\"overflow ... $number\")"
   ],
   "metadata": {
    "collapsed": false,
    "ExecuteTime": {
     "end_time": "2024-02-25T14:40:51.049434600Z",
     "start_time": "2024-02-25T14:40:50.985989500Z"
    }
   }
  },
  {
   "cell_type": "code",
   "outputs": [
    {
     "name": "stdout",
     "output_type": "stream",
     "text": [
      "int\r\n",
      "true\r\n"
     ]
    }
   ],
   "source": [
    "val x = 5 / 2\n",
    "println(x.javaClass)\n",
    "//println(x == 2.5) // ERROR: Operator '==' cannot be applied to 'Int' and 'Double'\n",
    "println(x == 2)"
   ],
   "metadata": {
    "collapsed": false,
    "ExecuteTime": {
     "end_time": "2024-02-25T14:40:51.596750800Z",
     "start_time": "2024-02-25T14:40:51.551270300Z"
    }
   },
   "execution_count": 21
  },
  {
   "cell_type": "code",
   "outputs": [
    {
     "name": "stdout",
     "output_type": "stream",
     "text": [
      "long\r\n",
      "true\r\n"
     ]
    }
   ],
   "source": [
    "val x = 5L / 2\n",
    "println(x.javaClass)\n",
    "println(x == 2L)"
   ],
   "metadata": {
    "collapsed": false,
    "ExecuteTime": {
     "end_time": "2024-02-25T14:40:52.244996300Z",
     "start_time": "2024-02-25T14:40:52.195767800Z"
    }
   },
   "execution_count": 22
  },
  {
   "cell_type": "code",
   "outputs": [
    {
     "name": "stdout",
     "output_type": "stream",
     "text": [
      "double\r\n",
      "true\r\n"
     ]
    }
   ],
   "source": [
    "val x = 5 / 2.toDouble()\n",
    "println(x.javaClass)\n",
    "println(x == 2.5)"
   ],
   "metadata": {
    "collapsed": false,
    "ExecuteTime": {
     "end_time": "2024-02-25T14:40:53.501708900Z",
     "start_time": "2024-02-25T14:40:53.457193400Z"
    }
   },
   "execution_count": 23
  },
  {
   "cell_type": "markdown",
   "source": [
    "### Unsigned integer types"
   ],
   "metadata": {
    "collapsed": false
   }
  },
  {
   "cell_type": "code",
   "outputs": [],
   "source": [
    "val b = 255u\n",
    "val s: UShort = 65535u // UShort, expected type provided\n",
    "val l: ULong = 4_294_967_295u  // ULong, expected type provided\n",
    "val a1 = 42u // UInt: no expected type provided, constant fits in UInt\n",
    "val a2 = 0xFFFF_FFFF_FFFFu // ULong: no expected type provided, constant doesn't fit in UInt"
   ],
   "metadata": {
    "collapsed": false,
    "ExecuteTime": {
     "end_time": "2024-02-25T14:46:27.842913200Z",
     "start_time": "2024-02-25T14:46:27.802847500Z"
    }
   },
   "execution_count": 46
  },
  {
   "cell_type": "code",
   "outputs": [
    {
     "name": "stdout",
     "output_type": "stream",
     "text": [
      "class kotlin.UInt\r\n",
      "class kotlin.UShort\r\n",
      "class kotlin.ULong\r\n",
      "class kotlin.UInt\r\n",
      "class kotlin.ULong\r\n"
     ]
    }
   ],
   "source": [
    "println(b.javaClass)\n",
    "println(s.javaClass)\n",
    "println(l.javaClass)\n",
    "println(a1.javaClass)\n",
    "println(a2.javaClass)"
   ],
   "metadata": {
    "collapsed": false,
    "ExecuteTime": {
     "end_time": "2024-02-25T14:46:49.642196700Z",
     "start_time": "2024-02-25T14:46:49.582273600Z"
    }
   },
   "execution_count": 48
  },
  {
   "cell_type": "markdown",
   "source": [
    "## Bitwise\n",
    "`shl(bits)` – signed shift left\n",
    "`shr(bits)` – signed shift right\n",
    "`ushr(bits)` – unsigned shift right\n",
    "`and(bits)` – bitwise AND\n",
    "`or(bits)` – bitwise OR\n",
    "`xor(bits)` – bitwise XOR\n",
    "`inv()` – bitwise inversion"
   ],
   "metadata": {
    "collapsed": false
   }
  },
  {
   "cell_type": "code",
   "outputs": [
    {
     "name": "stdout",
     "output_type": "stream",
     "text": [
      "Bitwise AND: 34\r\n",
      "Bitwise OR: 59\r\n",
      "Bitwise XOR: 25\r\n",
      "Bitwise NOT x: -43\r\n",
      "Bitwise NOT y: -52\r\n",
      "Left Shift x by 2: 168\r\n",
      "Right Shift y by 1: 25\r\n"
     ]
    }
   ],
   "source": [
    "val x = 0b101010 // Binary representation of 42\n",
    "val y = 0b110011 // Binary representation of 51\n",
    "// Bitwise AND\n",
    "val resultAnd = x and y\n",
    "println(\"Bitwise AND: $resultAnd\") // Output: 34 (0b100010)\n",
    "// Bitwise OR\n",
    "val resultOr = x or y\n",
    "println(\"Bitwise OR: $resultOr\") // Output: 59 (0b111011)\n",
    "// Bitwise XOR\n",
    "val resultXor = x xor y\n",
    "println(\"Bitwise XOR: $resultXor\") // Output: 25 (0b11001)\n",
    "// Bitwise NOT\n",
    "val resultNotX = x.inv()\n",
    "println(\"Bitwise NOT x: $resultNotX\") // Output: -43 (Two's complement of 42)\n",
    "val resultNotY = y.inv()\n",
    "println(\"Bitwise NOT y: $resultNotY\") // Output: -52 (Two's complement of 51)\n",
    "// Left shift\n",
    "val leftShifted = x shl 2\n",
    "println(\"Left Shift x by 2: $leftShifted\") // Output: 168 (0b10101000)\n",
    "// Right shift\n",
    "val rightShifted = y shr 1\n",
    "println(\"Right Shift y by 1: $rightShifted\") // Output: 25 (0b11001)"
   ],
   "metadata": {
    "collapsed": false,
    "ExecuteTime": {
     "end_time": "2024-02-25T14:35:38.630305800Z",
     "start_time": "2024-02-25T14:35:38.495162Z"
    }
   },
   "execution_count": 5
  },
  {
   "cell_type": "markdown",
   "source": [
    "## Byte"
   ],
   "metadata": {
    "collapsed": false
   }
  },
  {
   "cell_type": "code",
   "execution_count": 6,
   "outputs": [
    {
     "name": "stdout",
     "output_type": "stream",
     "text": [
      "Byte max value = 127\r\n",
      "Byte min value = -128\r\n"
     ]
    }
   ],
   "source": [
    "val maxByteValue: Byte = Byte.MAX_VALUE\n",
    "val minByteValue: Byte = Byte.MIN_VALUE\n",
    "println(\"Byte max value = $maxByteValue\")\n",
    "println(\"Byte min value = $minByteValue\")"
   ],
   "metadata": {
    "collapsed": false,
    "ExecuteTime": {
     "end_time": "2024-02-25T14:35:38.688355700Z",
     "start_time": "2024-02-25T14:35:38.629304900Z"
    }
   }
  },
  {
   "cell_type": "markdown",
   "source": [
    "## Short"
   ],
   "metadata": {
    "collapsed": false
   }
  },
  {
   "cell_type": "code",
   "execution_count": 7,
   "outputs": [
    {
     "name": "stdout",
     "output_type": "stream",
     "text": [
      "Short max value = 32767\r\n",
      "Short min value = -32768\r\n"
     ]
    }
   ],
   "source": [
    "val maxShortValue: Short = Short.MAX_VALUE\n",
    "val minShortValue: Short = Short.MIN_VALUE\n",
    "println(\"Short max value = $maxShortValue\")\n",
    "println(\"Short min value = $minShortValue\")\n"
   ],
   "metadata": {
    "collapsed": false,
    "ExecuteTime": {
     "end_time": "2024-02-25T14:35:38.743882700Z",
     "start_time": "2024-02-25T14:35:38.685356100Z"
    }
   }
  },
  {
   "cell_type": "markdown",
   "source": [
    "## Long"
   ],
   "metadata": {
    "collapsed": false
   }
  },
  {
   "cell_type": "code",
   "execution_count": 8,
   "outputs": [
    {
     "name": "stdout",
     "output_type": "stream",
     "text": [
      "Long max value = 9223372036854775807\r\n",
      "Long min value = -9223372036854775808\r\n"
     ]
    }
   ],
   "source": [
    "val maxLongValue: Long = Long.MAX_VALUE\n",
    "val minLongValue: Long = Long.MIN_VALUE\n",
    "println(\"Long max value = $maxLongValue\")\n",
    "println(\"Long min value = $minLongValue\")"
   ],
   "metadata": {
    "collapsed": false,
    "ExecuteTime": {
     "end_time": "2024-02-25T14:35:38.801691300Z",
     "start_time": "2024-02-25T14:35:38.737881800Z"
    }
   }
  },
  {
   "cell_type": "markdown",
   "source": [
    "## Float"
   ],
   "metadata": {
    "collapsed": false
   }
  },
  {
   "cell_type": "code",
   "execution_count": 9,
   "outputs": [
    {
     "name": "stdout",
     "output_type": "stream",
     "text": [
      "Float max value = 3.4028235E38\r\n",
      "Float min value = 1.4E-45\r\n"
     ]
    }
   ],
   "source": [
    "val maxFloatValue: Float = Float.MAX_VALUE\n",
    "val minFloatValue: Float = Float.MIN_VALUE\n",
    "println(\"Float max value = $maxFloatValue\")\n",
    "println(\"Float min value = $minFloatValue\")"
   ],
   "metadata": {
    "collapsed": false,
    "ExecuteTime": {
     "end_time": "2024-02-25T14:35:38.850820700Z",
     "start_time": "2024-02-25T14:35:38.798691400Z"
    }
   }
  },
  {
   "cell_type": "markdown",
   "source": [
    "- `NaN` is considered equal to itself\n",
    "- `NaN` is considered greater than any other element including POSITIVE_INFINITY\n",
    "- `-0.0` is considered less than 0.0"
   ],
   "metadata": {
    "collapsed": false
   }
  },
  {
   "cell_type": "code",
   "outputs": [
    {
     "name": "stdout",
     "output_type": "stream",
     "text": [
      "false\r\n"
     ]
    }
   ],
   "source": [
    "// Operand statically typed as floating-point number\n",
    "println(Double.NaN == Double.NaN)"
   ],
   "metadata": {
    "collapsed": false,
    "ExecuteTime": {
     "end_time": "2024-02-25T14:37:28.419127Z",
     "start_time": "2024-02-25T14:37:28.373735100Z"
    }
   },
   "execution_count": 14
  },
  {
   "cell_type": "code",
   "outputs": [
    {
     "name": "stdout",
     "output_type": "stream",
     "text": [
      "true\r\n"
     ]
    }
   ],
   "source": [
    "// Operand NOT statically typed as floating-point number\n",
    "// So NaN is equal to itself\n",
    "println(listOf(Double.NaN) == listOf(Double.NaN))"
   ],
   "metadata": {
    "collapsed": false,
    "ExecuteTime": {
     "end_time": "2024-02-25T14:38:14.068646Z",
     "start_time": "2024-02-25T14:38:14.023151100Z"
    }
   },
   "execution_count": 16
  },
  {
   "cell_type": "code",
   "outputs": [
    {
     "name": "stdout",
     "output_type": "stream",
     "text": [
      "true\r\n"
     ]
    }
   ],
   "source": [
    "// Operand statically typed as floating-point number\n",
    "println(0.0 == -0.0)      "
   ],
   "metadata": {
    "collapsed": false,
    "ExecuteTime": {
     "end_time": "2024-02-25T14:39:27.101977200Z",
     "start_time": "2024-02-25T14:39:27.056976600Z"
    }
   },
   "execution_count": 17
  },
  {
   "cell_type": "code",
   "outputs": [
    {
     "name": "stdout",
     "output_type": "stream",
     "text": [
      "false\r\n"
     ]
    }
   ],
   "source": [
    "// Operand NOT statically typed as floating-point number\n",
    "// So -0.0 is less than 0.0\n",
    "println(listOf(0.0) == listOf(-0.0))"
   ],
   "metadata": {
    "collapsed": false,
    "ExecuteTime": {
     "end_time": "2024-02-25T14:39:45.533724900Z",
     "start_time": "2024-02-25T14:39:45.490726600Z"
    }
   },
   "execution_count": 18
  },
  {
   "cell_type": "code",
   "outputs": [
    {
     "name": "stdout",
     "output_type": "stream",
     "text": [
      "[-0.0, 0.0, Infinity, NaN]\r\n"
     ]
    }
   ],
   "source": [
    "println(listOf(Double.NaN, Double.POSITIVE_INFINITY, 0.0, -0.0).sorted())"
   ],
   "metadata": {
    "collapsed": false,
    "ExecuteTime": {
     "end_time": "2024-02-25T14:39:59.873645700Z",
     "start_time": "2024-02-25T14:39:59.801645200Z"
    }
   },
   "execution_count": 19
  },
  {
   "cell_type": "markdown",
   "source": [
    "## Double"
   ],
   "metadata": {
    "collapsed": false
   }
  },
  {
   "cell_type": "code",
   "execution_count": 10,
   "outputs": [
    {
     "name": "stdout",
     "output_type": "stream",
     "text": [
      "Double max value = 1.7976931348623157E308\r\n",
      "Double min value = 4.9E-324\r\n"
     ]
    }
   ],
   "source": [
    "val maxDoubleValue: Double = Double.MAX_VALUE\n",
    "val minDoubleValue: Double = Double.MIN_VALUE\n",
    "println(\"Double max value = $maxDoubleValue\")\n",
    "println(\"Double min value = $minDoubleValue\")"
   ],
   "metadata": {
    "collapsed": false,
    "ExecuteTime": {
     "end_time": "2024-02-25T14:35:38.906820600Z",
     "start_time": "2024-02-25T14:35:38.850820700Z"
    }
   }
  },
  {
   "cell_type": "markdown",
   "source": [
    "## Char"
   ],
   "metadata": {
    "collapsed": false
   }
  },
  {
   "cell_type": "code",
   "execution_count": 11,
   "outputs": [
    {
     "name": "stdout",
     "output_type": "stream",
     "text": [
      "Char value = a\r\n",
      "Boolean value = true\r\n"
     ]
    }
   ],
   "source": [
    "val myCharValue: Char = 'a'\n",
    "val myBooleanValue: Boolean = true\n",
    "println(\"Char value = $myCharValue\")\n",
    "println(\"Boolean value = $myBooleanValue\")"
   ],
   "metadata": {
    "collapsed": false,
    "ExecuteTime": {
     "end_time": "2024-02-25T14:35:38.952304800Z",
     "start_time": "2024-02-25T14:35:38.905819100Z"
    }
   }
  },
  {
   "cell_type": "markdown",
   "source": [
    "---"
   ],
   "metadata": {
    "collapsed": false
   }
  },
  {
   "cell_type": "code",
   "execution_count": 12,
   "outputs": [
    {
     "name": "stdout",
     "output_type": "stream",
     "text": [
      "Class = float\r\n",
      "Class = double\r\n"
     ]
    }
   ],
   "source": [
    "val myFNum = 1.5f\n",
    "println(\"Class = ${myFNum.javaClass}\")\n",
    "val myFNum2 = 3.5\n",
    "println(\"Class = ${myFNum2.javaClass}\")"
   ],
   "metadata": {
    "collapsed": false,
    "ExecuteTime": {
     "end_time": "2024-02-25T14:35:39.005701800Z",
     "start_time": "2024-02-25T14:35:38.951305800Z"
    }
   }
  },
  {
   "cell_type": "markdown",
   "source": [
    "---"
   ],
   "metadata": {
    "collapsed": false
   }
  },
  {
   "cell_type": "markdown",
   "source": [
    "Skip `Char`, `Booleans`"
   ],
   "metadata": {
    "collapsed": false
   }
  },
  {
   "cell_type": "markdown",
   "source": [
    "---"
   ],
   "metadata": {
    "collapsed": false
   }
  },
  {
   "cell_type": "markdown",
   "source": [
    "## Strings"
   ],
   "metadata": {
    "collapsed": false
   }
  },
  {
   "cell_type": "code",
   "outputs": [
    {
     "name": "stdout",
     "output_type": "stream",
     "text": [
      "H e l l o   W o r l d ! "
     ]
    }
   ],
   "source": [
    "val str = \"Hello World!\"\n",
    "for (c in str) {\n",
    "    print(c.plus(\" \"))\n",
    "}"
   ],
   "metadata": {
    "collapsed": false,
    "ExecuteTime": {
     "end_time": "2024-02-25T14:52:31.343879Z",
     "start_time": "2024-02-25T14:52:31.287559Z"
    }
   },
   "execution_count": 55
  },
  {
   "cell_type": "code",
   "outputs": [
    {
     "data": {
      "text/plain": "\n    for (c in \"foo\")\n        print(c)\n"
     },
     "execution_count": 57,
     "metadata": {},
     "output_type": "execute_result"
    }
   ],
   "source": [
    "val text = \"\"\"\n",
    "    for (c in \"foo\")\n",
    "        print(c)\n",
    "\"\"\"\n",
    "text"
   ],
   "metadata": {
    "collapsed": false,
    "ExecuteTime": {
     "end_time": "2024-02-25T14:52:59.866022800Z",
     "start_time": "2024-02-25T14:52:59.836023500Z"
    }
   },
   "execution_count": 57
  },
  {
   "cell_type": "code",
   "outputs": [
    {
     "data": {
      "text/plain": "Tell me and I forget.\nTeach me and I remember.\nInvolve me and I learn.\n(Benjamin Franklin)"
     },
     "execution_count": 64,
     "metadata": {},
     "output_type": "execute_result"
    }
   ],
   "source": [
    "val text = \"\"\"\n",
    "    |Tell me and I forget.\n",
    "    |Teach me and I remember.\n",
    "    |Involve me and I learn.\n",
    "    |(Benjamin Franklin)\n",
    "    \"\"\".trimMargin()\n",
    "text"
   ],
   "metadata": {
    "collapsed": false,
    "ExecuteTime": {
     "end_time": "2024-02-25T14:53:49.563375800Z",
     "start_time": "2024-02-25T14:53:49.527433800Z"
    }
   },
   "execution_count": 64
  },
  {
   "cell_type": "code",
   "outputs": [
    {
     "data": {
      "text/plain": "\n$_9.99\n"
     },
     "execution_count": 68,
     "metadata": {},
     "output_type": "execute_result"
    }
   ],
   "source": [
    "val price = \"\"\"\n",
    "${'$'}_9.99\n",
    "\"\"\"\n",
    "price"
   ],
   "metadata": {
    "collapsed": false,
    "ExecuteTime": {
     "end_time": "2024-02-25T14:54:36.801758700Z",
     "start_time": "2024-02-25T14:54:36.747010600Z"
    }
   },
   "execution_count": 68
  },
  {
   "cell_type": "markdown",
   "source": [
    "### Formatting"
   ],
   "metadata": {
    "collapsed": false
   }
  },
  {
   "cell_type": "code",
   "outputs": [
    {
     "name": "stdout",
     "output_type": "stream",
     "text": [
      "0031416\r\n"
     ]
    }
   ],
   "source": [
    "val integerNumber = String.format(\"%07d\", 31416)\n",
    "println(integerNumber)"
   ],
   "metadata": {
    "collapsed": false,
    "ExecuteTime": {
     "end_time": "2024-02-25T14:56:15.962740700Z",
     "start_time": "2024-02-25T14:56:15.910831200Z"
    }
   },
   "execution_count": 69
  },
  {
   "cell_type": "code",
   "outputs": [
    {
     "name": "stdout",
     "output_type": "stream",
     "text": [
      "+3.1416\r\n"
     ]
    }
   ],
   "source": [
    "val floatNumber = String.format(\"%+.4f\", 3.141592)\n",
    "println(floatNumber)"
   ],
   "metadata": {
    "collapsed": false,
    "ExecuteTime": {
     "end_time": "2024-02-25T14:56:24.635990Z",
     "start_time": "2024-02-25T14:56:24.600971Z"
    }
   },
   "execution_count": 70
  },
  {
   "cell_type": "code",
   "outputs": [
    {
     "name": "stdout",
     "output_type": "stream",
     "text": [
      "HELLO WORLD\r\n"
     ]
    }
   ],
   "source": [
    "val helloString = String.format(\"%S %S\", \"hello\", \"world\")\n",
    "println(helloString)"
   ],
   "metadata": {
    "collapsed": false,
    "ExecuteTime": {
     "end_time": "2024-02-25T15:02:15.303762400Z",
     "start_time": "2024-02-25T15:02:15.256068400Z"
    }
   },
   "execution_count": 83
  },
  {
   "cell_type": "markdown",
   "source": [
    "## Arrays"
   ],
   "metadata": {
    "collapsed": false
   }
  },
  {
   "cell_type": "code",
   "outputs": [
    {
     "name": "stdout",
     "output_type": "stream",
     "text": [
      "1, 2, 3\r\n"
     ]
    }
   ],
   "source": [
    "val simpleArray = arrayOf(1, 2, 3)\n",
    "println(simpleArray.joinToString())"
   ],
   "metadata": {
    "collapsed": false,
    "ExecuteTime": {
     "end_time": "2024-02-25T15:03:43.682838800Z",
     "start_time": "2024-02-25T15:03:43.632839300Z"
    }
   },
   "execution_count": 88
  },
  {
   "cell_type": "code",
   "outputs": [
    {
     "name": "stdout",
     "output_type": "stream",
     "text": [
      "null, null, null\r\n"
     ]
    }
   ],
   "source": [
    "val nullArray: Array<Int?> = arrayOfNulls(3)\n",
    "println(nullArray.joinToString())"
   ],
   "metadata": {
    "collapsed": false,
    "ExecuteTime": {
     "end_time": "2024-02-25T15:03:53.918458400Z",
     "start_time": "2024-02-25T15:03:53.865057100Z"
    }
   },
   "execution_count": 89
  },
  {
   "cell_type": "code",
   "outputs": [],
   "source": [
    "//var exampleArray = emptyArray<String>()\n",
    "\n",
    "var exampleArray: Array<String> = emptyArray()"
   ],
   "metadata": {
    "collapsed": false,
    "ExecuteTime": {
     "end_time": "2024-02-25T15:04:43.443562400Z",
     "start_time": "2024-02-25T15:04:43.410386500Z"
    }
   },
   "execution_count": 91
  },
  {
   "cell_type": "code",
   "outputs": [
    {
     "name": "stdout",
     "output_type": "stream",
     "text": [
      "100, 100, 100\r\n"
     ]
    }
   ],
   "source": [
    "val initArray = Array<Int>(3) { 100 }\n",
    "println(initArray.joinToString())"
   ],
   "metadata": {
    "collapsed": false,
    "ExecuteTime": {
     "end_time": "2024-02-25T15:05:01.253225700Z",
     "start_time": "2024-02-25T15:05:01.211795100Z"
    }
   },
   "execution_count": 93
  },
  {
   "cell_type": "code",
   "outputs": [
    {
     "name": "stdout",
     "output_type": "stream",
     "text": [
      "0, 1, 4, 9, 16, "
     ]
    }
   ],
   "source": [
    "val asc = Array(5) { i -> (i * i).toString() }\n",
    "asc.forEach { print(it.plus(\", \")) }"
   ],
   "metadata": {
    "collapsed": false,
    "ExecuteTime": {
     "end_time": "2024-02-25T15:06:07.348838200Z",
     "start_time": "2024-02-25T15:06:07.288838500Z"
    }
   },
   "execution_count": 97
  },
  {
   "cell_type": "markdown",
   "source": [
    "### Nested arrays"
   ],
   "metadata": {
    "collapsed": false
   }
  },
  {
   "cell_type": "code",
   "outputs": [
    {
     "name": "stdout",
     "output_type": "stream",
     "text": [
      "[[7, 7], [7, 7]]\r\n"
     ]
    }
   ],
   "source": [
    "val twoDArray = Array(2) { Array<Int>(2) { 7 } }\n",
    "println(twoDArray.contentDeepToString())"
   ],
   "metadata": {
    "collapsed": false,
    "ExecuteTime": {
     "end_time": "2024-02-25T15:06:47.143392700Z",
     "start_time": "2024-02-25T15:06:47.089342200Z"
    }
   },
   "execution_count": 100
  },
  {
   "cell_type": "code",
   "outputs": [
    {
     "name": "stdout",
     "output_type": "stream",
     "text": [
      "[[[6], [6]], [[6], [6]], [[6], [6]]]\r\n"
     ]
    }
   ],
   "source": [
    "val threeDArray = Array(3) { Array(2) { Array<Int>(1) { 6 } } }\n",
    "println(threeDArray.contentDeepToString())"
   ],
   "metadata": {
    "collapsed": false,
    "ExecuteTime": {
     "end_time": "2024-02-25T15:08:38.072856700Z",
     "start_time": "2024-02-25T15:08:38.025898100Z"
    }
   },
   "execution_count": 107
  },
  {
   "cell_type": "markdown",
   "source": [
    "### Pass variable number of arguments to a function\n",
    "- `*` : 擴展運算子"
   ],
   "metadata": {
    "collapsed": false
   }
  },
  {
   "cell_type": "code",
   "outputs": [
    {
     "name": "stdout",
     "output_type": "stream",
     "text": [
      "abcd"
     ]
    }
   ],
   "source": [
    "fun printAllStrings(vararg strings: String) {\n",
    "    for (string in strings) {\n",
    "        print(string)\n",
    "    }\n",
    "}\n",
    "\n",
    "val lettersArray = arrayOf(\"c\", \"d\")\n",
    "printAllStrings(\"a\", \"b\", *lettersArray)"
   ],
   "metadata": {
    "collapsed": false,
    "ExecuteTime": {
     "end_time": "2024-02-25T15:09:50.845269400Z",
     "start_time": "2024-02-25T15:09:50.782270800Z"
    }
   },
   "execution_count": 108
  },
  {
   "cell_type": "markdown",
   "source": [
    "### Compare arrays"
   ],
   "metadata": {
    "collapsed": false
   }
  },
  {
   "cell_type": "code",
   "outputs": [],
   "source": [
    "val simpleArray = arrayOf(1, 2, 3)\n",
    "val anotherArray = arrayOf(1, 2, 3)"
   ],
   "metadata": {
    "collapsed": false,
    "ExecuteTime": {
     "end_time": "2024-02-25T15:11:04.421984800Z",
     "start_time": "2024-02-25T15:11:04.375984600Z"
    }
   },
   "execution_count": 109
  },
  {
   "cell_type": "code",
   "outputs": [
    {
     "name": "stdout",
     "output_type": "stream",
     "text": [
      "true\r\n"
     ]
    }
   ],
   "source": [
    "println(simpleArray.contentEquals(anotherArray))"
   ],
   "metadata": {
    "collapsed": false,
    "ExecuteTime": {
     "end_time": "2024-02-25T15:11:06.739155900Z",
     "start_time": "2024-02-25T15:11:06.690510Z"
    }
   },
   "execution_count": 110
  },
  {
   "cell_type": "code",
   "outputs": [
    {
     "name": "stdout",
     "output_type": "stream",
     "text": [
      "false\r\n"
     ]
    }
   ],
   "source": [
    "simpleArray[0] = 10\n",
    "println(simpleArray contentEquals anotherArray)"
   ],
   "metadata": {
    "collapsed": false,
    "ExecuteTime": {
     "end_time": "2024-02-25T15:11:12.682274800Z",
     "start_time": "2024-02-25T15:11:12.636813700Z"
    }
   },
   "execution_count": 111
  },
  {
   "cell_type": "markdown",
   "source": [
    "### Transform arrays"
   ],
   "metadata": {
    "collapsed": false
   }
  },
  {
   "cell_type": "code",
   "outputs": [
    {
     "name": "stdout",
     "output_type": "stream",
     "text": [
      "6\r\n"
     ]
    }
   ],
   "source": [
    "val sumArray = arrayOf(1, 2, 3)\n",
    "println(sumArray.sum())"
   ],
   "metadata": {
    "collapsed": false,
    "ExecuteTime": {
     "end_time": "2024-02-25T15:13:54.081937300Z",
     "start_time": "2024-02-25T15:13:54.028814500Z"
    }
   },
   "execution_count": 112
  },
  {
   "cell_type": "code",
   "outputs": [
    {
     "name": "stdout",
     "output_type": "stream",
     "text": [
      "3, 2, 1\r\n"
     ]
    }
   ],
   "source": [
    "val simpleArray = arrayOf(1, 2, 3)\n",
    "simpleArray.shuffle()\n",
    "println(simpleArray.joinToString())"
   ],
   "metadata": {
    "collapsed": false,
    "ExecuteTime": {
     "end_time": "2024-02-25T15:14:30.295693Z",
     "start_time": "2024-02-25T15:14:30.225689900Z"
    }
   },
   "execution_count": 117
  },
  {
   "cell_type": "code",
   "outputs": [
    {
     "name": "stdout",
     "output_type": "stream",
     "text": [
      "2, 3, 1\r\n"
     ]
    }
   ],
   "source": [
    "simpleArray.shuffle()\n",
    "println(simpleArray.joinToString())"
   ],
   "metadata": {
    "collapsed": false,
    "ExecuteTime": {
     "end_time": "2024-02-25T15:14:36.998467500Z",
     "start_time": "2024-02-25T15:14:36.951422400Z"
    }
   },
   "execution_count": 122
  },
  {
   "cell_type": "markdown",
   "source": [
    "### Convert arrays to collections"
   ],
   "metadata": {
    "collapsed": false
   }
  },
  {
   "cell_type": "code",
   "outputs": [
    {
     "name": "stdout",
     "output_type": "stream",
     "text": [
      "[a, b, c]\r\n"
     ]
    }
   ],
   "source": [
    "val simpleArray = arrayOf(\"a\", \"b\", \"c\", \"c\")\n",
    "println(simpleArray.toSet())"
   ],
   "metadata": {
    "collapsed": false,
    "ExecuteTime": {
     "end_time": "2024-02-25T15:16:43.985983600Z",
     "start_time": "2024-02-25T15:16:43.944299500Z"
    }
   },
   "execution_count": 123
  },
  {
   "cell_type": "code",
   "outputs": [
    {
     "name": "stdout",
     "output_type": "stream",
     "text": [
      "[a, b, c, c]\r\n"
     ]
    }
   ],
   "source": [
    "println(simpleArray.toList())"
   ],
   "metadata": {
    "collapsed": false,
    "ExecuteTime": {
     "end_time": "2024-02-25T15:16:49.871307900Z",
     "start_time": "2024-02-25T15:16:49.829307900Z"
    }
   },
   "execution_count": 124
  },
  {
   "cell_type": "code",
   "outputs": [
    {
     "name": "stdout",
     "output_type": "stream",
     "text": [
      "{apple=140, banana=150, cherry=90}\r\n"
     ]
    }
   ],
   "source": [
    "val pairArray = arrayOf(\"apple\" to 120, \"banana\" to 150, \"cherry\" to 90, \"apple\" to 140)\n",
    "println(pairArray.toMap())"
   ],
   "metadata": {
    "collapsed": false,
    "ExecuteTime": {
     "end_time": "2024-02-25T15:17:06.894875800Z",
     "start_time": "2024-02-25T15:17:06.837325300Z"
    }
   },
   "execution_count": 126
  },
  {
   "cell_type": "markdown",
   "source": [
    "### Primitive-type arrays"
   ],
   "metadata": {
    "collapsed": false
   }
  },
  {
   "cell_type": "code",
   "outputs": [
    {
     "name": "stdout",
     "output_type": "stream",
     "text": [
      "999, 999, 999, 999, 999\r\n"
     ]
    }
   ],
   "source": [
    "val exampleArray = IntArray(5) { 999 }\n",
    "println(exampleArray.joinToString())"
   ],
   "metadata": {
    "collapsed": false,
    "ExecuteTime": {
     "end_time": "2024-02-25T15:19:08.532852100Z",
     "start_time": "2024-02-25T15:19:08.486853300Z"
    }
   },
   "execution_count": 129
  },
  {
   "cell_type": "code",
   "outputs": [],
   "source": [],
   "metadata": {
    "collapsed": false
   }
  }
 ],
 "metadata": {
  "kernelspec": {
   "display_name": "Kotlin",
   "language": "kotlin",
   "name": "kotlin"
  },
  "language_info": {
   "name": "kotlin",
   "version": "1.9.0",
   "mimetype": "text/x-kotlin",
   "file_extension": ".kt",
   "pygments_lexer": "kotlin",
   "codemirror_mode": "text/x-kotlin",
   "nbconvert_exporter": ""
  }
 },
 "nbformat": 4,
 "nbformat_minor": 0
}
