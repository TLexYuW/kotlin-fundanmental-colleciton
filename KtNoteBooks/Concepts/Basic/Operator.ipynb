{
 "cells": [
  {
   "cell_type": "markdown",
   "source": [
    "# Operators"
   ],
   "metadata": {
    "collapsed": false
   }
  },
  {
   "cell_type": "markdown",
   "source": [
    "## Demo-1"
   ],
   "metadata": {
    "collapsed": false
   }
  },
  {
   "cell_type": "code",
   "outputs": [],
   "source": [
    "var x = 10\n",
    "val y = 3\n",
    "println(\"x + y = ${x + y}\")\n",
    "println(\"x - y = ${x - y}\")\n",
    "println(\"x * y = ${x * y}\")\n",
    "println(\"x / y = ${x / y}\")\n",
    "println(\"x % y = ${x % y}\")"
   ],
   "metadata": {
    "collapsed": false
   }
  },
  {
   "cell_type": "markdown",
   "source": [
    "## Demo-2"
   ],
   "metadata": {
    "collapsed": false
   }
  },
  {
   "cell_type": "code",
   "outputs": [],
   "source": [
    "var result = x + y\n",
    "\n",
    "result += 2\n",
    "println(\"result = $result\")\n",
    "result -= 2\n",
    "println(\"result = $result\")\n",
    "result *= 2\n",
    "println(\"result = $result\")\n",
    "result /= 2\n",
    "println(\"result = $result\")\n",
    "result %= 2\n",
    "println(\"result = $result\")"
   ],
   "metadata": {
    "collapsed": false
   }
  },
  {
   "cell_type": "markdown",
   "source": [
    "## Demo-3"
   ],
   "metadata": {
    "collapsed": false
   }
  },
  {
   "cell_type": "code",
   "outputs": [
    {
     "name": "stdout",
     "output_type": "stream",
     "text": [
      "x = 1\r\n",
      "x = 3\r\n",
      "x = 3\r\n",
      "x = 1\r\n"
     ]
    }
   ],
   "source": [
    "var x = 1\n",
    "println(\"x = ${x++}\")\n",
    "println(\"x = ${++x}\")\n",
    "println(\"x = ${x--}\")\n",
    "println(\"x = ${--x}\")"
   ],
   "metadata": {
    "collapsed": false,
    "ExecuteTime": {
     "end_time": "2024-02-25T14:34:34.013901300Z",
     "start_time": "2024-02-25T14:34:33.837967800Z"
    }
   },
   "execution_count": 2
  },
  {
   "cell_type": "code",
   "outputs": [],
   "source": [],
   "metadata": {
    "collapsed": false
   }
  }
 ],
 "metadata": {
  "kernelspec": {
   "display_name": "Kotlin",
   "language": "kotlin",
   "name": "kotlin"
  },
  "language_info": {
   "name": "kotlin",
   "version": "1.9.0",
   "mimetype": "text/x-kotlin",
   "file_extension": ".kt",
   "pygments_lexer": "kotlin",
   "codemirror_mode": "text/x-kotlin",
   "nbconvert_exporter": ""
  }
 },
 "nbformat": 4,
 "nbformat_minor": 0
}
