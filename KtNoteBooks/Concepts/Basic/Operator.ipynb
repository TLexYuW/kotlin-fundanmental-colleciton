{
 "cells": [
  {
   "cell_type": "markdown",
   "source": [
    "# Operators"
   ],
   "metadata": {
    "collapsed": false
   }
  },
  {
   "cell_type": "markdown",
   "source": [
    "## Demo-1"
   ],
   "metadata": {
    "collapsed": false
   }
  },
  {
   "cell_type": "code",
   "execution_count": 1,
   "outputs": [
    {
     "name": "stdout",
     "output_type": "stream",
     "text": [
      "x + y = 13\n",
      "x - y = 7\n",
      "x * y = 30\n",
      "x / y = 3\n",
      "x % y = 1\n"
     ]
    }
   ],
   "source": [
    "var x = 10\n",
    "val y = 3\n",
    "println(\"x + y = ${x + y}\")\n",
    "println(\"x - y = ${x - y}\")\n",
    "println(\"x * y = ${x * y}\")\n",
    "println(\"x / y = ${x / y}\")\n",
    "println(\"x % y = ${x % y}\")"
   ],
   "metadata": {
    "collapsed": false,
    "ExecuteTime": {
     "end_time": "2024-02-24T06:00:58.189482Z",
     "start_time": "2024-02-24T06:00:58.003123Z"
    }
   }
  },
  {
   "cell_type": "markdown",
   "source": [
    "## Demo-2"
   ],
   "metadata": {
    "collapsed": false
   }
  },
  {
   "cell_type": "code",
   "execution_count": 2,
   "outputs": [
    {
     "name": "stdout",
     "output_type": "stream",
     "text": [
      "result = 15\n",
      "result = 13\n",
      "result = 26\n",
      "result = 13\n",
      "result = 1\n"
     ]
    }
   ],
   "source": [
    "var result = x + y\n",
    "\n",
    "result += 2\n",
    "println(\"result = $result\")\n",
    "result -= 2\n",
    "println(\"result = $result\")\n",
    "result *= 2\n",
    "println(\"result = $result\")\n",
    "result /= 2\n",
    "println(\"result = $result\")\n",
    "result %= 2\n",
    "println(\"result = $result\")"
   ],
   "metadata": {
    "collapsed": false,
    "ExecuteTime": {
     "end_time": "2024-02-24T06:01:06.228511Z",
     "start_time": "2024-02-24T06:01:06.053351Z"
    }
   }
  },
  {
   "cell_type": "markdown",
   "source": [
    "## Demo-3"
   ],
   "metadata": {
    "collapsed": false
   }
  },
  {
   "cell_type": "code",
   "execution_count": 3,
   "outputs": [
    {
     "name": "stdout",
     "output_type": "stream",
     "text": [
      "x = 1\n",
      "x = 3\n",
      "x = 3\n",
      "x = 1\n"
     ]
    }
   ],
   "source": [
    "x = 1\n",
    "println(\"x = ${x++}\")\n",
    "println(\"x = ${++x}\")\n",
    "println(\"x = ${x--}\")\n",
    "println(\"x = ${--x}\")"
   ],
   "metadata": {
    "collapsed": false,
    "ExecuteTime": {
     "end_time": "2024-02-24T06:01:10.067851Z",
     "start_time": "2024-02-24T06:01:09.989043Z"
    }
   }
  }
 ],
 "metadata": {
  "kernelspec": {
   "display_name": "Kotlin",
   "language": "kotlin",
   "name": "kotlin"
  },
  "language_info": {
   "name": "kotlin",
   "version": "1.9.0",
   "mimetype": "text/x-kotlin",
   "file_extension": ".kt",
   "pygments_lexer": "kotlin",
   "codemirror_mode": "text/x-kotlin",
   "nbconvert_exporter": ""
  }
 },
 "nbformat": 4,
 "nbformat_minor": 0
}
