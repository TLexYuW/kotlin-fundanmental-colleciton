{
 "cells": [
  {
   "cell_type": "markdown",
   "source": [
    "# Operators"
   ],
   "metadata": {
    "collapsed": false
   }
  },
  {
   "cell_type": "markdown",
   "source": [
    "## Demo-1"
   ],
   "metadata": {
    "collapsed": false
   }
  },
  {
   "cell_type": "code",
   "outputs": [
    {
     "name": "stdout",
     "output_type": "stream",
     "text": [
      "x + y = 13\r\n",
      "x - y = 7\r\n",
      "x * y = 30\r\n",
      "x / y = 3\r\n",
      "x % y = 1\r\n"
     ]
    }
   ],
   "source": [
    "var x = 10\n",
    "val y = 3\n",
    "println(\"x + y = ${x + y}\")\n",
    "println(\"x - y = ${x - y}\")\n",
    "println(\"x * y = ${x * y}\")\n",
    "println(\"x / y = ${x / y}\")\n",
    "println(\"x % y = ${x % y}\")"
   ],
   "metadata": {
    "collapsed": false,
    "ExecuteTime": {
     "end_time": "2024-02-27T01:46:45.922265200Z",
     "start_time": "2024-02-27T01:46:45.657265700Z"
    }
   },
   "execution_count": 1
  },
  {
   "cell_type": "markdown",
   "source": [
    "## Demo-2"
   ],
   "metadata": {
    "collapsed": false
   }
  },
  {
   "cell_type": "code",
   "outputs": [
    {
     "name": "stdout",
     "output_type": "stream",
     "text": [
      "result = 15\r\n",
      "result = 13\r\n",
      "result = 26\r\n",
      "result = 13\r\n",
      "result = 1\r\n"
     ]
    }
   ],
   "source": [
    "var result = x + y\n",
    "\n",
    "result += 2\n",
    "println(\"result = $result\")\n",
    "result -= 2\n",
    "println(\"result = $result\")\n",
    "result *= 2\n",
    "println(\"result = $result\")\n",
    "result /= 2\n",
    "println(\"result = $result\")\n",
    "result %= 2\n",
    "println(\"result = $result\")"
   ],
   "metadata": {
    "collapsed": false,
    "ExecuteTime": {
     "end_time": "2024-02-27T01:46:46.135267400Z",
     "start_time": "2024-02-27T01:46:45.920266300Z"
    }
   },
   "execution_count": 2
  },
  {
   "cell_type": "markdown",
   "source": [
    "## Demo-3"
   ],
   "metadata": {
    "collapsed": false
   }
  },
  {
   "cell_type": "code",
   "outputs": [
    {
     "name": "stdout",
     "output_type": "stream",
     "text": [
      "x = 1\r\n",
      "x = 3\r\n",
      "x = 3\r\n",
      "x = 1\r\n"
     ]
    }
   ],
   "source": [
    "var x = 1\n",
    "println(\"x = ${x++}\")\n",
    "println(\"x = ${++x}\")\n",
    "println(\"x = ${x--}\")\n",
    "println(\"x = ${--x}\")"
   ],
   "metadata": {
    "collapsed": false,
    "ExecuteTime": {
     "end_time": "2024-02-27T01:46:46.231267800Z",
     "start_time": "2024-02-27T01:46:46.132265500Z"
    }
   },
   "execution_count": 3
  },
  {
   "cell_type": "code",
   "outputs": [],
   "source": [],
   "metadata": {
    "collapsed": false,
    "ExecuteTime": {
     "end_time": "2024-02-27T01:46:46.236267300Z",
     "start_time": "2024-02-27T01:46:46.228266900Z"
    }
   },
   "execution_count": 4
  }
 ],
 "metadata": {
  "kernelspec": {
   "display_name": "Kotlin",
   "language": "kotlin",
   "name": "kotlin"
  },
  "language_info": {
   "name": "kotlin",
   "version": "1.9.0",
   "mimetype": "text/x-kotlin",
   "file_extension": ".kt",
   "pygments_lexer": "kotlin",
   "codemirror_mode": "text/x-kotlin",
   "nbconvert_exporter": ""
  }
 },
 "nbformat": 4,
 "nbformat_minor": 0
}
