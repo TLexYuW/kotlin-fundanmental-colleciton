{
 "cells": [
  {
   "cell_type": "markdown",
   "source": [
    "# TOC\n",
    "- Declare a sealed class or interface\n",
    "- Constructors"
   ],
   "metadata": {
    "collapsed": false
   }
  },
  {
   "cell_type": "markdown",
   "source": [
    "## Declare a sealed class or interface"
   ],
   "metadata": {
    "collapsed": false
   }
  },
  {
   "cell_type": "code",
   "outputs": [],
   "source": [
    "import java.io.File\n",
    "import javax.sql.DataSource\n",
    "\n",
    "// Create a sealed interface\n",
    "sealed interface Error\n",
    "\n",
    "// Create a sealed class that implements sealed interface Error\n",
    "sealed class IOError(): Error\n",
    "\n",
    "// Define subclasses that extend sealed class 'IOError'\n",
    "class FileReadError(val file: File): IOError()\n",
    "class DatabaseError(val source: DataSource): IOError()\n",
    "\n",
    "// Create a singleton object implementing the 'Error' sealed interface\n",
    "object RuntimeError : Error"
   ],
   "metadata": {
    "collapsed": false,
    "ExecuteTime": {
     "end_time": "2024-03-17T13:11:27.125938800Z",
     "start_time": "2024-03-17T13:11:26.972354900Z"
    }
   },
   "execution_count": 15
  },
  {
   "cell_type": "markdown",
   "source": [
    "## Constructors"
   ],
   "metadata": {
    "collapsed": false
   }
  },
  {
   "cell_type": "code",
   "execution_count": 16,
   "outputs": [],
   "source": [
    "sealed class Error(val message: String) {\n",
    "    class NetworkError : Error(\"Network failure\")\n",
    "    class DatabaseError : Error(\"Database cannot be reached\")\n",
    "    class UnknownError : Error(\"An unknown error has occurred\")\n",
    "}"
   ],
   "metadata": {
    "collapsed": false,
    "ExecuteTime": {
     "end_time": "2024-03-17T13:11:27.171990500Z",
     "start_time": "2024-03-17T13:11:27.124859Z"
    }
   }
  },
  {
   "cell_type": "code",
   "outputs": [
    {
     "name": "stdout",
     "output_type": "stream",
     "text": [
      "Network failure\r\n",
      "Database cannot be reached\r\n",
      "An unknown error has occurred\r\n"
     ]
    }
   ],
   "source": [
    "val errors = listOf(Error.NetworkError(), Error.DatabaseError(), Error.UnknownError())\n",
    "errors.forEach { println(it.message) }"
   ],
   "metadata": {
    "collapsed": false,
    "ExecuteTime": {
     "end_time": "2024-03-17T13:11:27.236249Z",
     "start_time": "2024-03-17T13:11:27.171990500Z"
    }
   },
   "execution_count": 17
  },
  {
   "cell_type": "markdown",
   "source": [
    "### With Enum"
   ],
   "metadata": {
    "collapsed": false
   }
  },
  {
   "cell_type": "code",
   "execution_count": 18,
   "outputs": [],
   "source": [
    "enum class ErrorSeverity { MINOR, MAJOR, CRITICAL }\n",
    "\n",
    "sealed class Error(val severity: ErrorSeverity) {\n",
    "    class FileReadError(val file: String): Error(ErrorSeverity.MAJOR)\n",
    "    class DatabaseError(val source: String): Error(ErrorSeverity.CRITICAL)\n",
    "    object RuntimeError : Error(ErrorSeverity.CRITICAL)\n",
    "}"
   ],
   "metadata": {
    "collapsed": false,
    "ExecuteTime": {
     "end_time": "2024-03-17T13:11:27.304251200Z",
     "start_time": "2024-03-17T13:11:27.236249Z"
    }
   }
  },
  {
   "cell_type": "code",
   "outputs": [],
   "source": [
    "fun log(e: Error) = when(e) {\n",
    "    is Error.FileReadError -> println(\"Error while reading file ${e.file}\")\n",
    "    is Error.DatabaseError -> println(\"Error while reading from database ${e.source}\")\n",
    "    Error.RuntimeError -> println(\"Runtime error\")\n",
    "    // No `else` clause is required because all the cases are covered\n",
    "}"
   ],
   "metadata": {
    "collapsed": false,
    "ExecuteTime": {
     "end_time": "2024-03-17T13:11:27.360248900Z",
     "start_time": "2024-03-17T13:11:27.303251200Z"
    }
   },
   "execution_count": 19
  },
  {
   "cell_type": "code",
   "outputs": [
    {
     "name": "stdout",
     "output_type": "stream",
     "text": [
      "Error while reading file example.txt\r\n",
      "Error while reading from database usersDatabase\r\n",
      "Runtime error\r\n"
     ]
    }
   ],
   "source": [
    "val errors = listOf(\n",
    "    Error.FileReadError(\"example.txt\"),\n",
    "    Error.DatabaseError(\"usersDatabase\"),\n",
    "    Error.RuntimeError\n",
    ")\n",
    "errors.forEach { log(it) }"
   ],
   "metadata": {
    "collapsed": false,
    "ExecuteTime": {
     "end_time": "2024-03-17T13:11:27.417250100Z",
     "start_time": "2024-03-17T13:11:27.360248900Z"
    }
   },
   "execution_count": 20
  }
 ],
 "metadata": {
  "kernelspec": {
   "display_name": "Kotlin",
   "language": "kotlin",
   "name": "kotlin"
  },
  "language_info": {
   "name": "kotlin",
   "version": "1.9.0",
   "mimetype": "text/x-kotlin",
   "file_extension": ".kt",
   "pygments_lexer": "kotlin",
   "codemirror_mode": "text/x-kotlin",
   "nbconvert_exporter": ""
  }
 },
 "nbformat": 4,
 "nbformat_minor": 0
}
