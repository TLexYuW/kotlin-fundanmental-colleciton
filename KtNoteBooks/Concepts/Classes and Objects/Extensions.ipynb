{
 "cells": [
  {
   "cell_type": "markdown",
   "source": [
    "# TOC\n",
    "- Extension functions\n",
    "- Extensions are resolved statically"
   ],
   "metadata": {
    "collapsed": false
   }
  },
  {
   "cell_type": "markdown",
   "source": [
    "## Extension functions"
   ],
   "metadata": {
    "collapsed": false
   }
  },
  {
   "cell_type": "code",
   "execution_count": 39,
   "outputs": [],
   "source": [
    "fun <T> MutableList<T>.swap(index1: Int, index2: Int) {\n",
    "    val tmp = this[index1] // 'this' corresponds to the list\n",
    "    this[index1] = this[index2]\n",
    "    this[index2] = tmp\n",
    "}"
   ],
   "metadata": {
    "collapsed": false,
    "ExecuteTime": {
     "end_time": "2024-03-13T15:46:01.965846500Z",
     "start_time": "2024-03-13T15:46:01.881846900Z"
    }
   }
  },
  {
   "cell_type": "code",
   "outputs": [],
   "source": [
    "val arr = mutableListOf('a','b','c')"
   ],
   "metadata": {
    "collapsed": false,
    "ExecuteTime": {
     "end_time": "2024-03-13T15:46:01.986846600Z",
     "start_time": "2024-03-13T15:46:01.944846100Z"
    }
   },
   "execution_count": 40
  },
  {
   "cell_type": "code",
   "outputs": [
    {
     "name": "stdout",
     "output_type": "stream",
     "text": [
      "[a, c, b]\r\n"
     ]
    }
   ],
   "source": [
    "arr.swap(1, 2)\n",
    "println(arr)"
   ],
   "metadata": {
    "collapsed": false,
    "ExecuteTime": {
     "end_time": "2024-03-13T15:46:02.028846400Z",
     "start_time": "2024-03-13T15:46:01.980846800Z"
    }
   },
   "execution_count": 41
  },
  {
   "cell_type": "markdown",
   "source": [
    "## Extensions are resolved statically"
   ],
   "metadata": {
    "collapsed": false
   }
  },
  {
   "cell_type": "code",
   "execution_count": 42,
   "outputs": [
    {
     "name": "stdout",
     "output_type": "stream",
     "text": [
      "Shape\r\n"
     ]
    }
   ],
   "source": [
    "open class Shape\n",
    "class Rectangle: Shape()\n",
    "\n",
    "fun Shape.getName() = \"Shape\"\n",
    "fun Rectangle.getName() = \"Rectangle\"\n",
    "\n",
    "fun printClassName(s: Shape) {\n",
    "    println(s.getName())\n",
    "}\n",
    "\n",
    "printClassName(Rectangle())"
   ],
   "metadata": {
    "collapsed": false,
    "ExecuteTime": {
     "end_time": "2024-03-13T15:46:02.076491700Z",
     "start_time": "2024-03-13T15:46:02.021846100Z"
    }
   }
  },
  {
   "cell_type": "markdown",
   "source": [
    "### Member always wins"
   ],
   "metadata": {
    "collapsed": false
   }
  },
  {
   "cell_type": "code",
   "execution_count": 43,
   "outputs": [
    {
     "name": "stdout",
     "output_type": "stream",
     "text": [
      "Class method\r\n"
     ]
    }
   ],
   "source": [
    "class Example {\n",
    "    fun printFunctionType() { println(\"Class method\") }\n",
    "}\n",
    "\n",
    "fun Example.printFunctionType() { println(\"Extension function\") }\n",
    "\n",
    "Example().printFunctionType()"
   ],
   "metadata": {
    "collapsed": false,
    "ExecuteTime": {
     "end_time": "2024-03-13T15:46:02.164503200Z",
     "start_time": "2024-03-13T15:46:02.070492Z"
    }
   }
  },
  {
   "cell_type": "markdown",
   "source": [
    "### Overload member functions "
   ],
   "metadata": {
    "collapsed": false
   }
  },
  {
   "cell_type": "code",
   "execution_count": 44,
   "outputs": [
    {
     "name": "stdout",
     "output_type": "stream",
     "text": [
      "Extension function #1\r\n"
     ]
    }
   ],
   "source": [
    "class Example {\n",
    "    fun printFunctionType() { println(\"Class method\") }\n",
    "}\n",
    "\n",
    "fun Example.printFunctionType(i: Int) { println(\"Extension function #$i\") }\n",
    "\n",
    "Example().printFunctionType(1)"
   ],
   "metadata": {
    "collapsed": false,
    "ExecuteTime": {
     "end_time": "2024-03-13T15:46:02.264503Z",
     "start_time": "2024-03-13T15:46:02.163502300Z"
    }
   }
  },
  {
   "cell_type": "markdown",
   "source": [
    "## Nullable receiver"
   ],
   "metadata": {
    "collapsed": false
   }
  },
  {
   "cell_type": "code",
   "execution_count": 45,
   "outputs": [],
   "source": [
    "fun Any?.toString(): String {\n",
    "    if (this == null) return \"test\"\n",
    "    // After the null check, 'this' is autocast to a non-nullable type, so the toString() below\n",
    "    // resolves to the member function of the Any class\n",
    "    return toString()\n",
    "}"
   ],
   "metadata": {
    "collapsed": false,
    "ExecuteTime": {
     "end_time": "2024-03-13T15:46:02.308526100Z",
     "start_time": "2024-03-13T15:46:02.263503300Z"
    }
   }
  },
  {
   "cell_type": "code",
   "outputs": [
    {
     "data": {
      "text/plain": "test"
     },
     "execution_count": 46,
     "metadata": {},
     "output_type": "execute_result"
    }
   ],
   "source": [
    "var x = null\n",
    "x.toString()"
   ],
   "metadata": {
    "collapsed": false,
    "ExecuteTime": {
     "end_time": "2024-03-13T15:46:02.333569100Z",
     "start_time": "2024-03-13T15:46:02.290506700Z"
    }
   },
   "execution_count": 46
  },
  {
   "cell_type": "markdown",
   "source": [
    "## Extension properties"
   ],
   "metadata": {
    "collapsed": false
   }
  },
  {
   "cell_type": "code",
   "execution_count": 47,
   "outputs": [],
   "source": [
    "val <T> List<T>.lastIndex: Int\n",
    "    get() = size - 1\n",
    "\n",
    "val <T> List<T>.penultimate: Int\n",
    "    get() = size - 2"
   ],
   "metadata": {
    "collapsed": false,
    "ExecuteTime": {
     "end_time": "2024-03-13T15:46:02.371186500Z",
     "start_time": "2024-03-13T15:46:02.325522500Z"
    }
   }
  },
  {
   "cell_type": "code",
   "execution_count": 48,
   "outputs": [
    {
     "data": {
      "text/plain": "qwe"
     },
     "execution_count": 48,
     "metadata": {},
     "output_type": "execute_result"
    }
   ],
   "source": [
    "val list = listOf(\"abc\", \"def\", \"qwe\", \"string\")\n",
    "list.get(list.penultimate)"
   ],
   "metadata": {
    "collapsed": false,
    "ExecuteTime": {
     "end_time": "2024-03-13T15:46:02.402709600Z",
     "start_time": "2024-03-13T15:46:02.362183Z"
    }
   }
  },
  {
   "cell_type": "markdown",
   "source": [
    "## Companion object extension"
   ],
   "metadata": {
    "collapsed": false
   }
  },
  {
   "cell_type": "code",
   "execution_count": 49,
   "outputs": [],
   "source": [
    "class CompainonObjDemo {\n",
    "    companion object CustomCompanionName {\n",
    "        var x = 100\n",
    "    }  // will be called \"Companion\"\n",
    "}\n",
    "\n",
    "fun CompainonObjDemo.CustomCompanionName.printCompanion() {\n",
    "    println(x)\n",
    "    x = 200\n",
    "    println(x)\n",
    "}"
   ],
   "metadata": {
    "collapsed": false,
    "ExecuteTime": {
     "end_time": "2024-03-13T15:46:02.448405200Z",
     "start_time": "2024-03-13T15:46:02.400712100Z"
    }
   }
  },
  {
   "cell_type": "code",
   "outputs": [
    {
     "name": "stdout",
     "output_type": "stream",
     "text": [
      "100\r\n",
      "200\r\n"
     ]
    }
   ],
   "source": [
    "CompainonObjDemo.printCompanion()"
   ],
   "metadata": {
    "collapsed": false,
    "ExecuteTime": {
     "end_time": "2024-03-13T15:46:02.474358800Z",
     "start_time": "2024-03-13T15:46:02.445404800Z"
    }
   },
   "execution_count": 50
  },
  {
   "cell_type": "markdown",
   "source": [
    "## Declaring extensions as members"
   ],
   "metadata": {
    "collapsed": false
   }
  },
  {
   "cell_type": "code",
   "outputs": [],
   "source": [
    "class Host(val hostname: String) {\n",
    "    init {\n",
    "        println(\"class Host init block\")\n",
    "    }\n",
    "\n",
    "    fun printHostname() {\n",
    "        print(hostname)\n",
    "    }\n",
    "}\n",
    "class Connection(val host: Host, val port: Int) {\n",
    "    init {\n",
    "        println(\"class Connection init block\")\n",
    "    }\n",
    "    \n",
    "    fun printPort() {\n",
    "        print(port) \n",
    "    }\n",
    "    \n",
    "    fun Host.print(){\n",
    "        toString()\n",
    "        this@Connection.toString()\n",
    "    }\n",
    "\n",
    "    fun Host.printConnectionString() {\n",
    "        printHostname()   // calls Host.printHostname()\n",
    "        print(\":\")\n",
    "        printPort()   // calls Connection.printPort()\n",
    "    }\n",
    "\n",
    "    fun connect() {\n",
    "        host.printConnectionString()   // calls the extension function\n",
    "    }\n",
    "}"
   ],
   "metadata": {
    "collapsed": false,
    "ExecuteTime": {
     "end_time": "2024-03-13T15:46:02.573766400Z",
     "start_time": "2024-03-13T15:46:02.473356800Z"
    }
   },
   "execution_count": 51
  },
  {
   "cell_type": "code",
   "outputs": [
    {
     "name": "stdout",
     "output_type": "stream",
     "text": [
      "class Host init block\r\n",
      "class Connection init block\r\n",
      "localhost:8000"
     ]
    }
   ],
   "source": [
    "Connection(Host(\"localhost\"), 8000).connect()"
   ],
   "metadata": {
    "collapsed": false,
    "ExecuteTime": {
     "end_time": "2024-03-13T15:46:02.601396Z",
     "start_time": "2024-03-13T15:46:02.573766400Z"
    }
   },
   "execution_count": 52
  },
  {
   "cell_type": "code",
   "outputs": [],
   "source": [
    "open class Base { }\n",
    "\n",
    "class Derived : Base() { }\n",
    "\n",
    "open class BaseCaller {\n",
    "    open fun Base.printFunctionInfo() {\n",
    "        println(\"Base extension function in BaseCaller\")\n",
    "    }\n",
    "\n",
    "    open fun Derived.printFunctionInfo() {\n",
    "        println(\"Derived extension function in BaseCaller\")\n",
    "    }\n",
    "\n",
    "    fun call(b: Base) {\n",
    "        b.printFunctionInfo()   // call the extension function\n",
    "    }\n",
    "}\n",
    "\n",
    "class DerivedCaller: BaseCaller() {\n",
    "    override fun Base.printFunctionInfo() {\n",
    "        println(\"Base extension function in DerivedCaller\")\n",
    "    }\n",
    "\n",
    "    override fun Derived.printFunctionInfo() {\n",
    "        println(\"Derived extension function in DerivedCaller\")\n",
    "    }\n",
    "}"
   ],
   "metadata": {
    "collapsed": false,
    "ExecuteTime": {
     "end_time": "2024-03-13T15:46:02.655916600Z",
     "start_time": "2024-03-13T15:46:02.600393400Z"
    }
   },
   "execution_count": 53
  },
  {
   "cell_type": "code",
   "outputs": [
    {
     "name": "stdout",
     "output_type": "stream",
     "text": [
      "Base extension function in BaseCaller\r\n",
      "Base extension function in DerivedCaller\r\n",
      "Base extension function in DerivedCaller\r\n"
     ]
    }
   ],
   "source": [
    "BaseCaller().call(Base())   // \"Base extension function in BaseCaller\"\n",
    "DerivedCaller().call(Base())  // \"Base extension function in DerivedCaller\" - dispatch receiver is resolved virtually\n",
    "DerivedCaller().call(Derived())  // \"Base extension function in DerivedCaller\" - extension receiver is resolved statically"
   ],
   "metadata": {
    "collapsed": false,
    "ExecuteTime": {
     "end_time": "2024-03-13T15:46:02.698518200Z",
     "start_time": "2024-03-13T15:46:02.654919200Z"
    }
   },
   "execution_count": 54
  }
 ],
 "metadata": {
  "kernelspec": {
   "display_name": "Kotlin",
   "language": "kotlin",
   "name": "kotlin"
  },
  "language_info": {
   "name": "kotlin",
   "version": "1.9.0",
   "mimetype": "text/x-kotlin",
   "file_extension": ".kt",
   "pygments_lexer": "kotlin",
   "codemirror_mode": "text/x-kotlin",
   "nbconvert_exporter": ""
  }
 },
 "nbformat": 4,
 "nbformat_minor": 0
}
