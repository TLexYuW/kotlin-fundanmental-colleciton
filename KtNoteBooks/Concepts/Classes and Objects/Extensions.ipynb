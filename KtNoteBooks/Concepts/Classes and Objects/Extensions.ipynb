{
 "cells": [
  {
   "cell_type": "markdown",
   "source": [
    "# TOC\n",
    "- Extension functions\n",
    "- Extensions are resolved statically"
   ],
   "metadata": {
    "collapsed": false
   }
  },
  {
   "cell_type": "markdown",
   "source": [
    "## Extension functions"
   ],
   "metadata": {
    "collapsed": false
   }
  },
  {
   "cell_type": "code",
   "execution_count": 18,
   "outputs": [],
   "source": [
    "fun <T> MutableList<T>.swap(index1: Int, index2: Int) {\n",
    "    val tmp = this[index1] // 'this' corresponds to the list\n",
    "    this[index1] = this[index2]\n",
    "    this[index2] = tmp\n",
    "}"
   ],
   "metadata": {
    "collapsed": false,
    "ExecuteTime": {
     "end_time": "2024-03-12T15:09:09.524567800Z",
     "start_time": "2024-03-12T15:09:09.466568300Z"
    }
   }
  },
  {
   "cell_type": "code",
   "outputs": [],
   "source": [
    "val arr = mutableListOf('a','b','c')"
   ],
   "metadata": {
    "collapsed": false,
    "ExecuteTime": {
     "end_time": "2024-03-12T15:09:09.566568600Z",
     "start_time": "2024-03-12T15:09:09.521567800Z"
    }
   },
   "execution_count": 19
  },
  {
   "cell_type": "code",
   "outputs": [
    {
     "name": "stdout",
     "output_type": "stream",
     "text": [
      "[a, c, b]\r\n"
     ]
    }
   ],
   "source": [
    "arr.swap(1, 2)\n",
    "println(arr)"
   ],
   "metadata": {
    "collapsed": false,
    "ExecuteTime": {
     "end_time": "2024-03-12T15:09:09.610567Z",
     "start_time": "2024-03-12T15:09:09.565565800Z"
    }
   },
   "execution_count": 20
  },
  {
   "cell_type": "markdown",
   "source": [
    "## Extensions are resolved statically"
   ],
   "metadata": {
    "collapsed": false
   }
  },
  {
   "cell_type": "code",
   "execution_count": 21,
   "outputs": [
    {
     "name": "stdout",
     "output_type": "stream",
     "text": [
      "Shape\r\n"
     ]
    }
   ],
   "source": [
    "open class Shape\n",
    "class Rectangle: Shape()\n",
    "\n",
    "fun Shape.getName() = \"Shape\"\n",
    "fun Rectangle.getName() = \"Rectangle\"\n",
    "\n",
    "fun printClassName(s: Shape) {\n",
    "    println(s.getName())\n",
    "}\n",
    "\n",
    "printClassName(Rectangle())"
   ],
   "metadata": {
    "collapsed": false,
    "ExecuteTime": {
     "end_time": "2024-03-12T15:09:09.683569100Z",
     "start_time": "2024-03-12T15:09:09.610567Z"
    }
   }
  },
  {
   "cell_type": "markdown",
   "source": [
    "### Member always wins"
   ],
   "metadata": {
    "collapsed": false
   }
  },
  {
   "cell_type": "code",
   "execution_count": 22,
   "outputs": [
    {
     "name": "stdout",
     "output_type": "stream",
     "text": [
      "Class method\r\n"
     ]
    }
   ],
   "source": [
    "class Example {\n",
    "    fun printFunctionType() { println(\"Class method\") }\n",
    "}\n",
    "\n",
    "fun Example.printFunctionType() { println(\"Extension function\") }\n",
    "\n",
    "Example().printFunctionType()"
   ],
   "metadata": {
    "collapsed": false,
    "ExecuteTime": {
     "end_time": "2024-03-12T15:09:09.733567700Z",
     "start_time": "2024-03-12T15:09:09.676567800Z"
    }
   }
  },
  {
   "cell_type": "markdown",
   "source": [
    "### Overload member functions "
   ],
   "metadata": {
    "collapsed": false
   }
  },
  {
   "cell_type": "code",
   "execution_count": 23,
   "outputs": [
    {
     "name": "stdout",
     "output_type": "stream",
     "text": [
      "Extension function #1\r\n"
     ]
    }
   ],
   "source": [
    "class Example {\n",
    "    fun printFunctionType() { println(\"Class method\") }\n",
    "}\n",
    "\n",
    "fun Example.printFunctionType(i: Int) { println(\"Extension function #$i\") }\n",
    "\n",
    "Example().printFunctionType(1)"
   ],
   "metadata": {
    "collapsed": false,
    "ExecuteTime": {
     "end_time": "2024-03-12T15:09:09.787567400Z",
     "start_time": "2024-03-12T15:09:09.732567600Z"
    }
   }
  },
  {
   "cell_type": "markdown",
   "source": [
    "## Nullable receiver"
   ],
   "metadata": {
    "collapsed": false
   }
  },
  {
   "cell_type": "code",
   "execution_count": 24,
   "outputs": [],
   "source": [],
   "metadata": {
    "collapsed": false,
    "ExecuteTime": {
     "end_time": "2024-03-12T15:09:09.789568600Z",
     "start_time": "2024-03-12T15:09:09.786569Z"
    }
   }
  },
  {
   "cell_type": "markdown",
   "source": [
    "##"
   ],
   "metadata": {
    "collapsed": false
   }
  },
  {
   "cell_type": "code",
   "execution_count": 25,
   "outputs": [],
   "source": [],
   "metadata": {
    "collapsed": false,
    "ExecuteTime": {
     "end_time": "2024-03-12T15:09:09.797567200Z",
     "start_time": "2024-03-12T15:09:09.790568Z"
    }
   }
  },
  {
   "cell_type": "markdown",
   "source": [
    "##"
   ],
   "metadata": {
    "collapsed": false
   }
  },
  {
   "cell_type": "code",
   "execution_count": 26,
   "outputs": [],
   "source": [],
   "metadata": {
    "collapsed": false,
    "ExecuteTime": {
     "end_time": "2024-03-12T15:09:09.799568400Z",
     "start_time": "2024-03-12T15:09:09.793567300Z"
    }
   }
  },
  {
   "cell_type": "markdown",
   "source": [
    "##"
   ],
   "metadata": {
    "collapsed": false
   }
  },
  {
   "cell_type": "code",
   "execution_count": 27,
   "outputs": [],
   "source": [],
   "metadata": {
    "collapsed": false,
    "ExecuteTime": {
     "end_time": "2024-03-12T15:09:09.801569600Z",
     "start_time": "2024-03-12T15:09:09.797567200Z"
    }
   }
  }
 ],
 "metadata": {
  "kernelspec": {
   "display_name": "Kotlin",
   "language": "kotlin",
   "name": "kotlin"
  },
  "language_info": {
   "name": "kotlin",
   "version": "1.9.0",
   "mimetype": "text/x-kotlin",
   "file_extension": ".kt",
   "pygments_lexer": "kotlin",
   "codemirror_mode": "text/x-kotlin",
   "nbconvert_exporter": ""
  }
 },
 "nbformat": 4,
 "nbformat_minor": 0
}
