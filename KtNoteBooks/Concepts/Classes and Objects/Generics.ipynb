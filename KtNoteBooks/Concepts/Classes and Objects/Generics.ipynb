{
 "cells": [
  {
   "cell_type": "markdown",
   "source": [
    "# TOC\n",
    "- [](#)\n",
    "- [](#)\n",
    "- [](#)\n",
    "- [](#)\n",
    "- [](#)\n",
    "- [](#)\n",
    "- [](#)"
   ],
   "metadata": {
    "collapsed": false
   }
  },
  {
   "cell_type": "markdown",
   "source": [
    "## Demo"
   ],
   "metadata": {
    "collapsed": false
   }
  },
  {
   "cell_type": "code",
   "execution_count": 37,
   "outputs": [],
   "source": [
    "class Box<T>(t: T) {\n",
    "    var value = t\n",
    "    \n",
    "    override fun toString(): String {\n",
    "        return \"Box = {value = $value}\"\n",
    "    }\n",
    "}"
   ],
   "metadata": {
    "collapsed": false,
    "ExecuteTime": {
     "end_time": "2024-03-18T16:07:58.641713800Z",
     "start_time": "2024-03-18T16:07:58.599715Z"
    }
   }
  },
  {
   "cell_type": "code",
   "execution_count": 38,
   "outputs": [
    {
     "name": "stdout",
     "output_type": "stream",
     "text": [
      "Box = {value = 1}\r\n",
      "class java.lang.Integer\r\n",
      "class java.lang.String\r\n"
     ]
    }
   ],
   "source": [
    "val b: Box<Int> = Box<Int>(1)\n",
    "val box = Box(1)\n",
    "val box2 = Box(\"1\")\n",
    "\n",
    "println(b.toString())\n",
    "println(box.value.javaClass)\n",
    "println(box2.value.javaClass)"
   ],
   "metadata": {
    "collapsed": false,
    "ExecuteTime": {
     "end_time": "2024-03-18T16:07:58.692713100Z",
     "start_time": "2024-03-18T16:07:58.636716Z"
    }
   }
  },
  {
   "cell_type": "markdown",
   "source": [
    "## Variance"
   ],
   "metadata": {
    "collapsed": false
   }
  },
  {
   "cell_type": "code",
   "execution_count": 39,
   "outputs": [],
   "source": [
    "interface Source<out T> {\n",
    "    fun nextT(): T\n",
    "}\n",
    "\n",
    "fun <T> demo(source: Source<T>) {\n",
    "    val objects: List<T> = List(3) { source.nextT() } // Creating a List from the source\n",
    "    for (item in objects) {\n",
    "        println(item)\n",
    "    }\n",
    "}\n",
    "\n",
    "class StringSource(private val data: List<String>) : Source<String> {\n",
    "    private var index = 0\n",
    "\n",
    "    override fun nextT(): String {\n",
    "        if (index < data.size) {\n",
    "            return data[index++]\n",
    "        }\n",
    "        throw NoSuchElementException(\"No more elements\")\n",
    "    }\n",
    "}\n",
    "\n",
    "class NumberSource(private val data: List<Int>) : Source<Int> {\n",
    "    private var index = 0\n",
    "\n",
    "    override fun nextT(): Int {\n",
    "        if (index < data.size) {\n",
    "            return data[index++]\n",
    "        }\n",
    "        throw NoSuchElementException(\"No more elements\")\n",
    "    }\n",
    "}"
   ],
   "metadata": {
    "collapsed": false,
    "ExecuteTime": {
     "end_time": "2024-03-18T16:07:58.768712800Z",
     "start_time": "2024-03-18T16:07:58.692713100Z"
    }
   }
  },
  {
   "cell_type": "code",
   "outputs": [
    {
     "name": "stdout",
     "output_type": "stream",
     "text": [
      "apple\r\n",
      "banana\r\n",
      "cherry\r\n",
      "1\r\n",
      "2\r\n",
      "3\r\n"
     ]
    }
   ],
   "source": [
    "val sourceOfString: Source<String> = StringSource(listOf(\"apple\", \"banana\", \"cherry\"))\n",
    "demo(sourceOfString)\n",
    "\n",
    "val numberSource: Source<Int> = NumberSource(listOf(1, 2, 3))\n",
    "demo(numberSource)"
   ],
   "metadata": {
    "collapsed": false,
    "ExecuteTime": {
     "end_time": "2024-03-18T16:07:58.830716500Z",
     "start_time": "2024-03-18T16:07:58.768712800Z"
    }
   },
   "execution_count": 40
  },
  {
   "cell_type": "code",
   "outputs": [],
   "source": [
    "interface Comparable<in T> {\n",
    "    operator fun compareTo(other: T): Int\n",
    "}\n",
    "\n",
    "class Person(val name: String, val age: Int) : Comparable<Person> {\n",
    "    override fun compareTo(other: Person): Int {\n",
    "        return when {\n",
    "            age < other.age -> -1\n",
    "            age > other.age -> 1\n",
    "            else -> 0\n",
    "        }\n",
    "    }\n",
    "}"
   ],
   "metadata": {
    "collapsed": false,
    "ExecuteTime": {
     "end_time": "2024-03-19T12:09:34.282291400Z",
     "start_time": "2024-03-19T12:09:34.195291400Z"
    }
   },
   "execution_count": 3
  },
  {
   "cell_type": "code",
   "outputs": [
    {
     "name": "stdout",
     "output_type": "stream",
     "text": [
      "-1\r\n",
      "0\r\n"
     ]
    }
   ],
   "source": [
    "val person1 = Person(\"Alice\", 25)\n",
    "val person2 = Person(\"Bob\", 30)\n",
    "val person3 = Person(\"Charlie\", 30)\n",
    "\n",
    "println(person1.compareTo(person2))\n",
    "println(person2.compareTo(person3))"
   ],
   "metadata": {
    "collapsed": false,
    "ExecuteTime": {
     "end_time": "2024-03-19T12:09:36.858859600Z",
     "start_time": "2024-03-19T12:09:36.767226600Z"
    }
   },
   "execution_count": 4
  },
  {
   "cell_type": "markdown",
   "source": [
    "## Type projection"
   ],
   "metadata": {
    "collapsed": false
   }
  },
  {
   "cell_type": "code",
   "execution_count": 5,
   "outputs": [],
   "source": [
    "fun copy(from: Array<out Any>, to: Array<Any>) {\n",
    "    assert(from.size == to.size)\n",
    "    for (i in from.indices) {\n",
    "        to[i] = from[i]\n",
    "    }\n",
    "}"
   ],
   "metadata": {
    "collapsed": false,
    "ExecuteTime": {
     "end_time": "2024-03-19T12:38:19.743225100Z",
     "start_time": "2024-03-19T12:38:19.577201400Z"
    }
   }
  },
  {
   "cell_type": "code",
   "outputs": [
    {
     "name": "stdout",
     "output_type": "stream",
     "text": [
      "123123"
     ]
    }
   ],
   "source": [
    "val intArray: Array<Int> = arrayOf(1, 2, 3)\n",
    "val anyArray = Array<Any>(3) { \"\" }\n",
    "\n",
    "copy(from = intArray, to = anyArray)\n",
    "\n",
    "intArray.forEach { print(it) }\n",
    "anyArray.forEach { print(it) }"
   ],
   "metadata": {
    "collapsed": false,
    "ExecuteTime": {
     "end_time": "2024-03-19T12:39:34.163568800Z",
     "start_time": "2024-03-19T12:39:34.074569200Z"
    }
   },
   "execution_count": 11
  },
  {
   "cell_type": "code",
   "outputs": [],
   "source": [
    "fun fill(dest: Array<in String>, value: String) {\n",
    "    dest[0] = value\n",
    "}"
   ],
   "metadata": {
    "collapsed": false,
    "ExecuteTime": {
     "end_time": "2024-03-19T12:48:04.795379200Z",
     "start_time": "2024-03-19T12:48:04.748381900Z"
    }
   },
   "execution_count": 12
  },
  {
   "cell_type": "code",
   "outputs": [
    {
     "name": "stdout",
     "output_type": "stream",
     "text": [
      "Example 1: Array<String> after fill: test, b, c\r\n"
     ]
    }
   ],
   "source": [
    "// Example 1: Using Array<String>\n",
    "val arrayOfString: Array<String> = arrayOf(\"a\", \"b\", \"c\")\n",
    "fill(arrayOfString, \"test\")\n",
    "\n",
    "println(\"Example 1: Array<String> after fill: ${arrayOfString.joinToString()}\")"
   ],
   "metadata": {
    "collapsed": false,
    "ExecuteTime": {
     "end_time": "2024-03-19T12:48:32.410526600Z",
     "start_time": "2024-03-19T12:48:32.319517Z"
    }
   },
   "execution_count": 13
  },
  {
   "cell_type": "code",
   "outputs": [
    {
     "name": "stdout",
     "output_type": "stream",
     "text": [
      "Example 2: Array<CharSequence> after fill: test, y, z\r\n"
     ]
    }
   ],
   "source": [
    "// Example 2: Using Array<CharSequence>\n",
    "val arrayOfCharSequence: Array<CharSequence> = arrayOf(\"x\", \"y\", \"z\")\n",
    "fill(arrayOfCharSequence, \"test\")\n",
    "\n",
    "println(\"Example 2: Array<CharSequence> after fill: ${arrayOfCharSequence.joinToString()}\")"
   ],
   "metadata": {
    "collapsed": false,
    "ExecuteTime": {
     "end_time": "2024-03-19T12:48:36.578641700Z",
     "start_time": "2024-03-19T12:48:36.515632900Z"
    }
   },
   "execution_count": 14
  },
  {
   "cell_type": "code",
   "outputs": [
    {
     "name": "stdout",
     "output_type": "stream",
     "text": [
      "Example 3: Array<Any> after fill: test, 2, 3\r\n"
     ]
    }
   ],
   "source": [
    "// Example 3: Using Array<Any>\n",
    "val arrayOfAny: Array<Any> = arrayOf(\"1\", \"2\", \"3\")\n",
    "fill(arrayOfAny, \"test\")\n",
    "\n",
    "println(\"Example 3: Array<Any> after fill: ${arrayOfAny.joinToString()}\")"
   ],
   "metadata": {
    "collapsed": false,
    "ExecuteTime": {
     "end_time": "2024-03-19T12:48:52.763526500Z",
     "start_time": "2024-03-19T12:48:52.666388300Z"
    }
   },
   "execution_count": 15
  },
  {
   "cell_type": "markdown",
   "source": [
    "## Generic functions"
   ],
   "metadata": {
    "collapsed": false
   }
  },
  {
   "cell_type": "code",
   "execution_count": 17,
   "outputs": [],
   "source": [
    "fun <T> singletonList(item: T): List<T> {\n",
    "    return listOf(item)\n",
    "}\n",
    "\n",
    "fun <T> T.basicToString(): String {\n",
    "    return this.toString()\n",
    "}"
   ],
   "metadata": {
    "collapsed": false,
    "ExecuteTime": {
     "end_time": "2024-03-19T13:38:27.290718400Z",
     "start_time": "2024-03-19T13:38:27.249718800Z"
    }
   }
  },
  {
   "cell_type": "code",
   "outputs": [
    {
     "name": "stdout",
     "output_type": "stream",
     "text": [
      "Singleton List of Integers: [10]\r\n",
      "Singleton List of Strings: [Hello]\r\n",
      "Basic toString of 42: 42\r\n",
      "Basic toString of Kotlin: Kotlin\r\n"
     ]
    }
   ],
   "source": [
    "val intList = singletonList(10)\n",
    "println(\"Singleton List of Integers: $intList\")\n",
    "\n",
    "val stringList = singletonList(\"Hello\")\n",
    "println(\"Singleton List of Strings: $stringList\")\n",
    "\n",
    "val num = 42\n",
    "println(\"Basic toString of $num: ${num.basicToString()}\")\n",
    "\n",
    "val str = \"Kotlin\"\n",
    "println(\"Basic toString of $str: ${str.basicToString()}\")"
   ],
   "metadata": {
    "collapsed": false,
    "ExecuteTime": {
     "end_time": "2024-03-19T13:38:41.811668900Z",
     "start_time": "2024-03-19T13:38:41.727671Z"
    }
   },
   "execution_count": 18
  },
  {
   "cell_type": "markdown",
   "source": [
    "##"
   ],
   "metadata": {
    "collapsed": false
   }
  },
  {
   "cell_type": "code",
   "execution_count": 44,
   "outputs": [],
   "source": [],
   "metadata": {
    "collapsed": false,
    "ExecuteTime": {
     "end_time": "2024-03-18T16:07:58.845724400Z",
     "start_time": "2024-03-18T16:07:58.839714500Z"
    }
   }
  },
  {
   "cell_type": "markdown",
   "source": [
    "##"
   ],
   "metadata": {
    "collapsed": false
   }
  },
  {
   "cell_type": "code",
   "execution_count": 45,
   "outputs": [],
   "source": [],
   "metadata": {
    "collapsed": false,
    "ExecuteTime": {
     "end_time": "2024-03-18T16:07:58.846714700Z",
     "start_time": "2024-03-18T16:07:58.841721800Z"
    }
   }
  },
  {
   "cell_type": "markdown",
   "source": [
    "##"
   ],
   "metadata": {
    "collapsed": false
   }
  },
  {
   "cell_type": "code",
   "execution_count": 46,
   "outputs": [],
   "source": [],
   "metadata": {
    "collapsed": false,
    "ExecuteTime": {
     "end_time": "2024-03-18T16:07:58.849712700Z",
     "start_time": "2024-03-18T16:07:58.845724400Z"
    }
   }
  }
 ],
 "metadata": {
  "kernelspec": {
   "display_name": "Kotlin",
   "language": "kotlin",
   "name": "kotlin"
  },
  "language_info": {
   "name": "kotlin",
   "version": "1.9.0",
   "mimetype": "text/x-kotlin",
   "file_extension": ".kt",
   "pygments_lexer": "kotlin",
   "codemirror_mode": "text/x-kotlin",
   "nbconvert_exporter": ""
  }
 },
 "nbformat": 4,
 "nbformat_minor": 0
}
