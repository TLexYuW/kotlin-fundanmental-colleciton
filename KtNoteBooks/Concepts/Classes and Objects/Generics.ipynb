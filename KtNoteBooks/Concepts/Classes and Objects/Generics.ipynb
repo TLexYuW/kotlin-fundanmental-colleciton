{
 "cells": [
  {
   "cell_type": "markdown",
   "source": [
    "# TOC\n",
    "- [Demo](#demo)\n",
    "- [Variance](#variance)\n",
    "- [Type projection](#type&projection)\n",
    "- [Generic functions](#generic&functions)\n",
    "- [Type erasure](#type&erasure)\n",
    "- [](#)\n",
    "- [](#)"
   ],
   "metadata": {
    "collapsed": false
   }
  },
  {
   "cell_type": "markdown",
   "source": [
    "## Demo"
   ],
   "metadata": {
    "collapsed": false
   }
  },
  {
   "cell_type": "code",
   "execution_count": 3,
   "outputs": [],
   "source": [
    "class Box<T>(t: T) {\n",
    "    var value = t\n",
    "    \n",
    "    override fun toString(): String {\n",
    "        return \"Box = {value = $value}\"\n",
    "    }\n",
    "}"
   ],
   "metadata": {
    "collapsed": false,
    "ExecuteTime": {
     "end_time": "2024-03-21T16:00:02.949943700Z",
     "start_time": "2024-03-21T16:00:02.849946400Z"
    }
   }
  },
  {
   "cell_type": "code",
   "execution_count": 4,
   "outputs": [
    {
     "name": "stdout",
     "output_type": "stream",
     "text": [
      "Box = {value = 1}\r\n",
      "class java.lang.Integer\r\n",
      "class java.lang.String\r\n"
     ]
    }
   ],
   "source": [
    "val b: Box<Int> = Box<Int>(1)\n",
    "val box = Box(1)\n",
    "val box2 = Box(\"1\")\n",
    "\n",
    "println(b.toString())\n",
    "println(box.value.javaClass)\n",
    "println(box2.value.javaClass)"
   ],
   "metadata": {
    "collapsed": false,
    "ExecuteTime": {
     "end_time": "2024-03-21T16:00:03.048945700Z",
     "start_time": "2024-03-21T16:00:02.937943400Z"
    }
   }
  },
  {
   "cell_type": "markdown",
   "source": [
    "## Variance"
   ],
   "metadata": {
    "collapsed": false
   }
  },
  {
   "cell_type": "code",
   "execution_count": 5,
   "outputs": [],
   "source": [
    "interface Source<out T> {\n",
    "    fun nextT(): T\n",
    "}\n",
    "\n",
    "fun <T> demo(source: Source<T>) {\n",
    "    val objects: List<T> = List(3) { source.nextT() } // Creating a List from the source\n",
    "    for (item in objects) {\n",
    "        println(item)\n",
    "    }\n",
    "}\n",
    "\n",
    "class StringSource(private val data: List<String>) : Source<String> {\n",
    "    private var index = 0\n",
    "\n",
    "    override fun nextT(): String {\n",
    "        if (index < data.size) {\n",
    "            return data[index++]\n",
    "        }\n",
    "        throw NoSuchElementException(\"No more elements\")\n",
    "    }\n",
    "}\n",
    "\n",
    "class NumberSource(private val data: List<Int>) : Source<Int> {\n",
    "    private var index = 0\n",
    "\n",
    "    override fun nextT(): Int {\n",
    "        if (index < data.size) {\n",
    "            return data[index++]\n",
    "        }\n",
    "        throw NoSuchElementException(\"No more elements\")\n",
    "    }\n",
    "}"
   ],
   "metadata": {
    "collapsed": false,
    "ExecuteTime": {
     "end_time": "2024-03-21T16:00:03.273600700Z",
     "start_time": "2024-03-21T16:00:03.043943600Z"
    }
   }
  },
  {
   "cell_type": "code",
   "outputs": [
    {
     "name": "stdout",
     "output_type": "stream",
     "text": [
      "apple\r\n",
      "banana\r\n",
      "cherry\r\n",
      "1\r\n",
      "2\r\n",
      "3\r\n"
     ]
    }
   ],
   "source": [
    "val sourceOfString: Source<String> = StringSource(listOf(\"apple\", \"banana\", \"cherry\"))\n",
    "demo(sourceOfString)\n",
    "\n",
    "val numberSource: Source<Int> = NumberSource(listOf(1, 2, 3))\n",
    "demo(numberSource)"
   ],
   "metadata": {
    "collapsed": false,
    "ExecuteTime": {
     "end_time": "2024-03-21T16:00:03.346604400Z",
     "start_time": "2024-03-21T16:00:03.273600700Z"
    }
   },
   "execution_count": 6
  },
  {
   "cell_type": "code",
   "outputs": [],
   "source": [
    "interface Comparable<in T> {\n",
    "    operator fun compareTo(other: T): Int\n",
    "}\n",
    "\n",
    "class Person(val name: String, val age: Int) : Comparable<Person> {\n",
    "    override fun compareTo(other: Person): Int {\n",
    "        return when {\n",
    "            age < other.age -> -1\n",
    "            age > other.age -> 1\n",
    "            else -> 0\n",
    "        }\n",
    "    }\n",
    "}"
   ],
   "metadata": {
    "collapsed": false,
    "ExecuteTime": {
     "end_time": "2024-03-21T16:00:03.443603200Z",
     "start_time": "2024-03-21T16:00:03.344600300Z"
    }
   },
   "execution_count": 7
  },
  {
   "cell_type": "code",
   "outputs": [
    {
     "name": "stdout",
     "output_type": "stream",
     "text": [
      "-1\r\n",
      "0\r\n"
     ]
    }
   ],
   "source": [
    "val person1 = Person(\"Alice\", 25)\n",
    "val person2 = Person(\"Bob\", 30)\n",
    "val person3 = Person(\"Charlie\", 30)\n",
    "\n",
    "println(person1.compareTo(person2))\n",
    "println(person2.compareTo(person3))"
   ],
   "metadata": {
    "collapsed": false,
    "ExecuteTime": {
     "end_time": "2024-03-21T16:00:03.527600200Z",
     "start_time": "2024-03-21T16:00:03.442601200Z"
    }
   },
   "execution_count": 8
  },
  {
   "cell_type": "markdown",
   "source": [
    "## Type projection"
   ],
   "metadata": {
    "collapsed": false
   }
  },
  {
   "cell_type": "code",
   "execution_count": 9,
   "outputs": [],
   "source": [
    "fun copy(from: Array<out Any>, to: Array<Any>) {\n",
    "    assert(from.size == to.size)\n",
    "    for (i in from.indices) {\n",
    "        to[i] = from[i]\n",
    "    }\n",
    "}"
   ],
   "metadata": {
    "collapsed": false,
    "ExecuteTime": {
     "end_time": "2024-03-21T16:00:03.643600800Z",
     "start_time": "2024-03-21T16:00:03.527600200Z"
    }
   }
  },
  {
   "cell_type": "code",
   "outputs": [
    {
     "name": "stdout",
     "output_type": "stream",
     "text": [
      "123123"
     ]
    }
   ],
   "source": [
    "val intArray: Array<Int> = arrayOf(1, 2, 3)\n",
    "val anyArray = Array<Any>(3) { \"\" }\n",
    "\n",
    "copy(from = intArray, to = anyArray)\n",
    "\n",
    "intArray.forEach { print(it) }\n",
    "anyArray.forEach { print(it) }"
   ],
   "metadata": {
    "collapsed": false,
    "ExecuteTime": {
     "end_time": "2024-03-21T16:00:03.760600500Z",
     "start_time": "2024-03-21T16:00:03.642600200Z"
    }
   },
   "execution_count": 10
  },
  {
   "cell_type": "code",
   "outputs": [],
   "source": [
    "fun fill(dest: Array<in String>, value: String) {\n",
    "    dest[0] = value\n",
    "}"
   ],
   "metadata": {
    "collapsed": false,
    "ExecuteTime": {
     "end_time": "2024-03-21T16:00:03.800599700Z",
     "start_time": "2024-03-21T16:00:03.758600400Z"
    }
   },
   "execution_count": 11
  },
  {
   "cell_type": "code",
   "outputs": [
    {
     "name": "stdout",
     "output_type": "stream",
     "text": [
      "Example 1: Array<String> after fill: test, b, c\r\n"
     ]
    }
   ],
   "source": [
    "// Example 1: Using Array<String>\n",
    "val arrayOfString: Array<String> = arrayOf(\"a\", \"b\", \"c\")\n",
    "fill(arrayOfString, \"test\")\n",
    "\n",
    "println(\"Example 1: Array<String> after fill: ${arrayOfString.joinToString()}\")"
   ],
   "metadata": {
    "collapsed": false,
    "ExecuteTime": {
     "end_time": "2024-03-21T16:00:03.865600300Z",
     "start_time": "2024-03-21T16:00:03.794599900Z"
    }
   },
   "execution_count": 12
  },
  {
   "cell_type": "code",
   "outputs": [
    {
     "name": "stdout",
     "output_type": "stream",
     "text": [
      "Example 2: Array<CharSequence> after fill: test, y, z\r\n"
     ]
    }
   ],
   "source": [
    "// Example 2: Using Array<CharSequence>\n",
    "val arrayOfCharSequence: Array<CharSequence> = arrayOf(\"x\", \"y\", \"z\")\n",
    "fill(arrayOfCharSequence, \"test\")\n",
    "\n",
    "println(\"Example 2: Array<CharSequence> after fill: ${arrayOfCharSequence.joinToString()}\")"
   ],
   "metadata": {
    "collapsed": false,
    "ExecuteTime": {
     "end_time": "2024-03-21T16:00:03.923599900Z",
     "start_time": "2024-03-21T16:00:03.865600300Z"
    }
   },
   "execution_count": 13
  },
  {
   "cell_type": "code",
   "outputs": [
    {
     "name": "stdout",
     "output_type": "stream",
     "text": [
      "Example 3: Array<Any> after fill: test, 2, 3\r\n"
     ]
    }
   ],
   "source": [
    "// Example 3: Using Array<Any>\n",
    "val arrayOfAny: Array<Any> = arrayOf(\"1\", \"2\", \"3\")\n",
    "fill(arrayOfAny, \"test\")\n",
    "\n",
    "println(\"Example 3: Array<Any> after fill: ${arrayOfAny.joinToString()}\")"
   ],
   "metadata": {
    "collapsed": false,
    "ExecuteTime": {
     "end_time": "2024-03-21T16:00:03.984599Z",
     "start_time": "2024-03-21T16:00:03.923599900Z"
    }
   },
   "execution_count": 14
  },
  {
   "cell_type": "markdown",
   "source": [
    "## Generic functions"
   ],
   "metadata": {
    "collapsed": false
   }
  },
  {
   "cell_type": "code",
   "execution_count": 15,
   "outputs": [],
   "source": [
    "fun <T> singletonList(item: T): List<T> {\n",
    "    return listOf(item)\n",
    "}\n",
    "\n",
    "fun <T> T.basicToString(): String {\n",
    "    return this.toString()\n",
    "}"
   ],
   "metadata": {
    "collapsed": false,
    "ExecuteTime": {
     "end_time": "2024-03-21T16:00:04.035600500Z",
     "start_time": "2024-03-21T16:00:03.984599Z"
    }
   }
  },
  {
   "cell_type": "code",
   "outputs": [
    {
     "name": "stdout",
     "output_type": "stream",
     "text": [
      "Singleton List of Integers: [10]\r\n",
      "Singleton List of Strings: [Hello]\r\n",
      "Basic toString of 42: 42\r\n",
      "Basic toString of Kotlin: Kotlin\r\n"
     ]
    }
   ],
   "source": [
    "val intList = singletonList(10)\n",
    "println(\"Singleton List of Integers: $intList\")\n",
    "\n",
    "val stringList = singletonList(\"Hello\")\n",
    "println(\"Singleton List of Strings: $stringList\")\n",
    "\n",
    "val num = 42\n",
    "println(\"Basic toString of $num: ${num.basicToString()}\")\n",
    "\n",
    "val str = \"Kotlin\"\n",
    "println(\"Basic toString of $str: ${str.basicToString()}\")"
   ],
   "metadata": {
    "collapsed": false,
    "ExecuteTime": {
     "end_time": "2024-03-21T16:00:04.107598200Z",
     "start_time": "2024-03-21T16:00:04.035600500Z"
    }
   },
   "execution_count": 16
  },
  {
   "cell_type": "markdown",
   "source": [
    "## Type erasure"
   ],
   "metadata": {
    "collapsed": false
   }
  },
  {
   "cell_type": "code",
   "execution_count": 17,
   "outputs": [],
   "source": [
    "inline fun <reified A, reified B> Pair<*, *>.asPairOf(): Pair<A, B>? {\n",
    "    if (first !is A || second !is B) return null\n",
    "    return first as A to second as B\n",
    "}\n",
    "\n",
    "val somePair: Pair<Any?, Any?> = \"items\" to listOf(1, 2, 3)\n",
    "\n",
    "val stringToSomething = somePair.asPairOf<String, Any>()\n",
    "val stringToInt = somePair.asPairOf<String, Int>()\n",
    "val stringToList = somePair.asPairOf<String, List<*>>()\n",
    "val stringToStringList = somePair.asPairOf<String, List<String>>() // Compiles but breaks type safety!"
   ],
   "metadata": {
    "collapsed": false,
    "ExecuteTime": {
     "end_time": "2024-03-21T16:00:04.311110700Z",
     "start_time": "2024-03-21T16:00:04.105600Z"
    }
   }
  },
  {
   "cell_type": "code",
   "outputs": [
    {
     "name": "stdout",
     "output_type": "stream",
     "text": [
      "stringToSomething = (items, [1, 2, 3])\r\n",
      "stringToInt = null\r\n",
      "stringToList = (items, [1, 2, 3])\r\n",
      "stringToStringList = (items, [1, 2, 3])\r\n"
     ]
    }
   ],
   "source": [
    "println(\"stringToSomething = \" + stringToSomething)\n",
    "println(\"stringToInt = \" + stringToInt)\n",
    "println(\"stringToList = \" + stringToList)\n",
    "println(\"stringToStringList = \" + stringToStringList)"
   ],
   "metadata": {
    "collapsed": false,
    "ExecuteTime": {
     "end_time": "2024-03-21T16:00:04.363110300Z",
     "start_time": "2024-03-21T16:00:04.311110700Z"
    }
   },
   "execution_count": 18
  },
  {
   "cell_type": "markdown",
   "source": [
    "## Underscore operator for type arguments"
   ],
   "metadata": {
    "collapsed": false
   }
  },
  {
   "cell_type": "code",
   "execution_count": 19,
   "outputs": [],
   "source": [
    "abstract class SomeClass<T> {\n",
    "    abstract fun execute() : T\n",
    "}\n",
    "\n",
    "class SomeImplementation : SomeClass<String>() {\n",
    "    override fun execute(): String = \"Test\"\n",
    "}\n",
    "\n",
    "class OtherImplementation : SomeClass<Int>() {\n",
    "    override fun execute(): Int = 42\n",
    "}\n",
    "\n",
    "object Runner {\n",
    "    inline fun <reified S: SomeClass<T>, T> run() : T {\n",
    "        return S::class.java.getDeclaredConstructor().newInstance().execute()\n",
    "    }\n",
    "}"
   ],
   "metadata": {
    "collapsed": false,
    "ExecuteTime": {
     "end_time": "2024-03-21T16:00:04.424110300Z",
     "start_time": "2024-03-21T16:00:04.362111100Z"
    }
   }
  },
  {
   "cell_type": "code",
   "outputs": [],
   "source": [
    "// T is inferred as String because SomeImplementation derives from SomeClass<String>\n",
    "val s = Runner.run<SomeImplementation, _>()\n",
    "assert(s == \"Test\")\n",
    "\n",
    "// T is inferred as Int because OtherImplementation derives from SomeClass<Int>\n",
    "val n = Runner.run<OtherImplementation, _>()\n",
    "assert(n == 42)"
   ],
   "metadata": {
    "collapsed": false,
    "ExecuteTime": {
     "end_time": "2024-03-21T16:00:04.475109500Z",
     "start_time": "2024-03-21T16:00:04.424110300Z"
    }
   },
   "execution_count": 20
  }
 ],
 "metadata": {
  "kernelspec": {
   "display_name": "Kotlin",
   "language": "kotlin",
   "name": "kotlin"
  },
  "language_info": {
   "name": "kotlin",
   "version": "1.9.0",
   "mimetype": "text/x-kotlin",
   "file_extension": ".kt",
   "pygments_lexer": "kotlin",
   "codemirror_mode": "text/x-kotlin",
   "nbconvert_exporter": ""
  }
 },
 "nbformat": 4,
 "nbformat_minor": 0
}
