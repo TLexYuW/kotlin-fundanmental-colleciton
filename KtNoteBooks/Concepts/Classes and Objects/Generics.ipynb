{
 "cells": [
  {
   "cell_type": "markdown",
   "source": [
    "# TOC\n",
    "- [](#)\n",
    "- [](#)\n",
    "- [](#)\n",
    "- [](#)\n",
    "- [](#)\n",
    "- [](#)\n",
    "- [](#)"
   ],
   "metadata": {
    "collapsed": false
   }
  },
  {
   "cell_type": "markdown",
   "source": [
    "## Demo"
   ],
   "metadata": {
    "collapsed": false
   }
  },
  {
   "cell_type": "code",
   "execution_count": 37,
   "outputs": [],
   "source": [
    "class Box<T>(t: T) {\n",
    "    var value = t\n",
    "    \n",
    "    override fun toString(): String {\n",
    "        return \"Box = {value = $value}\"\n",
    "    }\n",
    "}"
   ],
   "metadata": {
    "collapsed": false,
    "ExecuteTime": {
     "end_time": "2024-03-18T16:07:58.641713800Z",
     "start_time": "2024-03-18T16:07:58.599715Z"
    }
   }
  },
  {
   "cell_type": "code",
   "execution_count": 38,
   "outputs": [
    {
     "name": "stdout",
     "output_type": "stream",
     "text": [
      "Box = {value = 1}\r\n",
      "class java.lang.Integer\r\n",
      "class java.lang.String\r\n"
     ]
    }
   ],
   "source": [
    "val b: Box<Int> = Box<Int>(1)\n",
    "val box = Box(1)\n",
    "val box2 = Box(\"1\")\n",
    "\n",
    "println(b.toString())\n",
    "println(box.value.javaClass)\n",
    "println(box2.value.javaClass)"
   ],
   "metadata": {
    "collapsed": false,
    "ExecuteTime": {
     "end_time": "2024-03-18T16:07:58.692713100Z",
     "start_time": "2024-03-18T16:07:58.636716Z"
    }
   }
  },
  {
   "cell_type": "markdown",
   "source": [
    "## Variance"
   ],
   "metadata": {
    "collapsed": false
   }
  },
  {
   "cell_type": "code",
   "execution_count": 39,
   "outputs": [],
   "source": [
    "interface Source<out T> {\n",
    "    fun nextT(): T\n",
    "}\n",
    "\n",
    "fun <T> demo(source: Source<T>) {\n",
    "    val objects: List<T> = List(3) { source.nextT() } // Creating a List from the source\n",
    "    for (item in objects) {\n",
    "        println(item)\n",
    "    }\n",
    "}\n",
    "\n",
    "class StringSource(private val data: List<String>) : Source<String> {\n",
    "    private var index = 0\n",
    "\n",
    "    override fun nextT(): String {\n",
    "        if (index < data.size) {\n",
    "            return data[index++]\n",
    "        }\n",
    "        throw NoSuchElementException(\"No more elements\")\n",
    "    }\n",
    "}\n",
    "\n",
    "class NumberSource(private val data: List<Int>) : Source<Int> {\n",
    "    private var index = 0\n",
    "\n",
    "    override fun nextT(): Int {\n",
    "        if (index < data.size) {\n",
    "            return data[index++]\n",
    "        }\n",
    "        throw NoSuchElementException(\"No more elements\")\n",
    "    }\n",
    "}"
   ],
   "metadata": {
    "collapsed": false,
    "ExecuteTime": {
     "end_time": "2024-03-18T16:07:58.768712800Z",
     "start_time": "2024-03-18T16:07:58.692713100Z"
    }
   }
  },
  {
   "cell_type": "code",
   "outputs": [
    {
     "name": "stdout",
     "output_type": "stream",
     "text": [
      "apple\r\n",
      "banana\r\n",
      "cherry\r\n",
      "1\r\n",
      "2\r\n",
      "3\r\n"
     ]
    }
   ],
   "source": [
    "val sourceOfString: Source<String> = StringSource(listOf(\"apple\", \"banana\", \"cherry\"))\n",
    "demo(sourceOfString)\n",
    "\n",
    "val numberSource: Source<Int> = NumberSource(listOf(1, 2, 3))\n",
    "demo(numberSource)"
   ],
   "metadata": {
    "collapsed": false,
    "ExecuteTime": {
     "end_time": "2024-03-18T16:07:58.830716500Z",
     "start_time": "2024-03-18T16:07:58.768712800Z"
    }
   },
   "execution_count": 40
  },
  {
   "cell_type": "markdown",
   "source": [
    "##"
   ],
   "metadata": {
    "collapsed": false
   }
  },
  {
   "cell_type": "code",
   "execution_count": 41,
   "outputs": [],
   "source": [],
   "metadata": {
    "collapsed": false,
    "ExecuteTime": {
     "end_time": "2024-03-18T16:07:58.833715400Z",
     "start_time": "2024-03-18T16:07:58.829715Z"
    }
   }
  },
  {
   "cell_type": "markdown",
   "source": [
    "##"
   ],
   "metadata": {
    "collapsed": false
   }
  },
  {
   "cell_type": "code",
   "execution_count": 42,
   "outputs": [],
   "source": [],
   "metadata": {
    "collapsed": false,
    "ExecuteTime": {
     "end_time": "2024-03-18T16:07:58.837715600Z",
     "start_time": "2024-03-18T16:07:58.833715400Z"
    }
   }
  },
  {
   "cell_type": "markdown",
   "source": [
    "##"
   ],
   "metadata": {
    "collapsed": false
   }
  },
  {
   "cell_type": "code",
   "execution_count": 43,
   "outputs": [],
   "source": [],
   "metadata": {
    "collapsed": false,
    "ExecuteTime": {
     "end_time": "2024-03-18T16:07:58.839714500Z",
     "start_time": "2024-03-18T16:07:58.836714900Z"
    }
   }
  },
  {
   "cell_type": "markdown",
   "source": [
    "##"
   ],
   "metadata": {
    "collapsed": false
   }
  },
  {
   "cell_type": "code",
   "execution_count": 44,
   "outputs": [],
   "source": [],
   "metadata": {
    "collapsed": false,
    "ExecuteTime": {
     "end_time": "2024-03-18T16:07:58.845724400Z",
     "start_time": "2024-03-18T16:07:58.839714500Z"
    }
   }
  },
  {
   "cell_type": "markdown",
   "source": [
    "##"
   ],
   "metadata": {
    "collapsed": false
   }
  },
  {
   "cell_type": "code",
   "execution_count": 45,
   "outputs": [],
   "source": [],
   "metadata": {
    "collapsed": false,
    "ExecuteTime": {
     "end_time": "2024-03-18T16:07:58.846714700Z",
     "start_time": "2024-03-18T16:07:58.841721800Z"
    }
   }
  },
  {
   "cell_type": "markdown",
   "source": [
    "##"
   ],
   "metadata": {
    "collapsed": false
   }
  },
  {
   "cell_type": "code",
   "execution_count": 46,
   "outputs": [],
   "source": [],
   "metadata": {
    "collapsed": false,
    "ExecuteTime": {
     "end_time": "2024-03-18T16:07:58.849712700Z",
     "start_time": "2024-03-18T16:07:58.845724400Z"
    }
   }
  }
 ],
 "metadata": {
  "kernelspec": {
   "display_name": "Kotlin",
   "language": "kotlin",
   "name": "kotlin"
  },
  "language_info": {
   "name": "kotlin",
   "version": "1.9.0",
   "mimetype": "text/x-kotlin",
   "file_extension": ".kt",
   "pygments_lexer": "kotlin",
   "codemirror_mode": "text/x-kotlin",
   "nbconvert_exporter": ""
  }
 },
 "nbformat": 4,
 "nbformat_minor": 0
}
