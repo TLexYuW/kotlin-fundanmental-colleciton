{
 "cells": [
  {
   "cell_type": "markdown",
   "source": [
    "# TOC\n",
    "- Overriding methods\n"
   ],
   "metadata": {
    "collapsed": false
   }
  },
  {
   "cell_type": "markdown",
   "source": [
    "## Overriding methods"
   ],
   "metadata": {
    "collapsed": false
   }
  },
  {
   "cell_type": "code",
   "execution_count": 40,
   "outputs": [],
   "source": [
    "open class Shape {\n",
    "    open fun draw() {\n",
    "        println(\"Drawing a shape\")\n",
    "    }\n",
    "\n",
    "    fun fill() {\n",
    "        println(\"Filling the shape\")\n",
    "    }\n",
    "}\n",
    "\n",
    "class Circle : Shape() {\n",
    "    override fun draw() {\n",
    "        println(\"Drawing a circle\")\n",
    "    }\n",
    "}"
   ],
   "metadata": {
    "collapsed": false,
    "ExecuteTime": {
     "end_time": "2024-03-01T05:20:44.307013Z",
     "start_time": "2024-03-01T05:20:44.237141Z"
    }
   }
  },
  {
   "cell_type": "code",
   "execution_count": 41,
   "outputs": [
    {
     "name": "stdout",
     "output_type": "stream",
     "text": [
      "Drawing a circle\n",
      "Filling the shape\n"
     ]
    }
   ],
   "source": [
    "val shape: Shape = Circle()\n",
    "\n",
    "shape.draw() // Calls the overridden draw() method in Circle\n",
    "shape.fill() // Calls the fill() method in Shape"
   ],
   "metadata": {
    "collapsed": false,
    "ExecuteTime": {
     "end_time": "2024-03-01T05:20:44.308168Z",
     "start_time": "2024-03-01T05:20:44.274044Z"
    }
   }
  },
  {
   "cell_type": "markdown",
   "source": [
    "## Overriding properties"
   ],
   "metadata": {
    "collapsed": false
   }
  },
  {
   "cell_type": "code",
   "execution_count": 42,
   "outputs": [],
   "source": [
    "open class Shape {\n",
    "    open val vertexCount: Int = 0\n",
    "    \n",
    "    override fun toString(): String {\n",
    "        return \"vertex = $vertexCount\"\n",
    "    }\n",
    "}\n",
    "\n",
    "class Rectangle : Shape() {\n",
    "    override val vertexCount = 4\n",
    "}"
   ],
   "metadata": {
    "collapsed": false,
    "ExecuteTime": {
     "end_time": "2024-03-01T05:20:44.326524Z",
     "start_time": "2024-03-01T05:20:44.299179Z"
    }
   }
  },
  {
   "cell_type": "code",
   "execution_count": 43,
   "outputs": [
    {
     "name": "stdout",
     "output_type": "stream",
     "text": [
      "vertex = 4\n",
      "vertex = 0\n"
     ]
    }
   ],
   "source": [
    "val r: Shape = Rectangle()\n",
    "val s: Shape = Shape()\n",
    "println(r)\n",
    "println(s)"
   ],
   "metadata": {
    "collapsed": false,
    "ExecuteTime": {
     "end_time": "2024-03-01T05:20:44.360324Z",
     "start_time": "2024-03-01T05:20:44.326246Z"
    }
   }
  },
  {
   "cell_type": "markdown",
   "source": [
    "## override a val property with a var property"
   ],
   "metadata": {
    "collapsed": false
   }
  },
  {
   "cell_type": "code",
   "execution_count": 44,
   "outputs": [],
   "source": [
    "interface Shape {\n",
    "    val vertexCount: Int\n",
    "}\n",
    "\n",
    "class Rectangle(override val vertexCount: Int = 10) : Shape {\n",
    "    override fun toString(): String {\n",
    "        return \"vertex = $vertexCount\"\n",
    "    }\n",
    "} // Always has 4 vertices\n",
    "\n",
    "class Polygon : Shape {\n",
    "    override var vertexCount: Int = 0  // Can be set to any number later\n",
    "    \n",
    "    override fun toString(): String {\n",
    "        return \"vertex = $vertexCount\"\n",
    "    }\n",
    "}"
   ],
   "metadata": {
    "collapsed": false,
    "ExecuteTime": {
     "end_time": "2024-03-01T05:20:44.405372Z",
     "start_time": "2024-03-01T05:20:44.359499Z"
    }
   }
  },
  {
   "cell_type": "code",
   "execution_count": 45,
   "outputs": [
    {
     "name": "stdout",
     "output_type": "stream",
     "text": [
      "vertex = 10\n",
      "vertex = 0\n"
     ]
    }
   ],
   "source": [
    "val r = Rectangle()\n",
    "println(r)\n",
    "val p = Polygon()\n",
    "println(p)"
   ],
   "metadata": {
    "collapsed": false,
    "ExecuteTime": {
     "end_time": "2024-03-01T05:20:44.441495Z",
     "start_time": "2024-03-01T05:20:44.404971Z"
    }
   }
  },
  {
   "cell_type": "markdown",
   "source": [
    "## Derived class initialization order"
   ],
   "metadata": {
    "collapsed": false
   }
  },
  {
   "cell_type": "code",
   "execution_count": 46,
   "outputs": [],
   "source": [
    "open class Base(val name: String) {\n",
    "\n",
    "    init {\n",
    "        println(\"Initializing a base class\")\n",
    "    }\n",
    "\n",
    "    open val size: Int =\n",
    "        name.length.also { println(\"Initializing size in the base class: $it\") }\n",
    "}\n",
    "\n",
    "class Derived(\n",
    "    name: String,\n",
    "    val lastName: String,\n",
    ") : Base(name.replaceFirstChar { it.uppercase() }.also { println(\"Argument for the base class: $it\") }) {\n",
    "\n",
    "    init {\n",
    "        println(\"Initializing a derived class\")\n",
    "    }\n",
    "\n",
    "    override val size: Int =\n",
    "        (super.size + lastName.length).also { println(\"Initializing size in the derived class: $it\") }\n",
    "\n",
    "    override fun toString(): String {\n",
    "        return \"Derived@${hashCode()} = [$name, $lastName]\"\n",
    "    }\n",
    "}"
   ],
   "metadata": {
    "collapsed": false,
    "ExecuteTime": {
     "end_time": "2024-03-01T05:20:44.518904Z",
     "start_time": "2024-03-01T05:20:44.436857Z"
    }
   }
  },
  {
   "cell_type": "code",
   "execution_count": 47,
   "outputs": [
    {
     "name": "stdout",
     "output_type": "stream",
     "text": [
      "Constructing the derived class(\"hello\", \"world\")\n",
      "Argument for the base class: Hello\n",
      "Initializing a base class\n",
      "Initializing size in the base class: 5\n",
      "Initializing a derived class\n",
      "Initializing size in the derived class: 10\n"
     ]
    },
    {
     "data": {
      "text/plain": "Derived@1015209376 = [Hello, world]"
     },
     "execution_count": 47,
     "metadata": {},
     "output_type": "execute_result"
    }
   ],
   "source": [
    "println(\"Constructing the derived class(\\\"hello\\\", \\\"world\\\")\")\n",
    "Derived(\"hello\", \"world\")"
   ],
   "metadata": {
    "collapsed": false,
    "ExecuteTime": {
     "end_time": "2024-03-01T05:20:44.561640Z",
     "start_time": "2024-03-01T05:20:44.518471Z"
    }
   }
  },
  {
   "cell_type": "markdown",
   "source": [
    "## Calling the superclass implementation"
   ],
   "metadata": {
    "collapsed": false
   }
  },
  {
   "cell_type": "code",
   "execution_count": 48,
   "outputs": [],
   "source": [
    "open class Rectangle {\n",
    "    open fun draw() { println(\"Drawing a rectangle\") }\n",
    "    val borderColor: String get() = \"black\"\n",
    "}\n",
    "\n",
    "class FilledRectangle : Rectangle() {\n",
    "    override fun draw() {\n",
    "        super.draw()\n",
    "        println(\"Filling the rectangle\")\n",
    "    }\n",
    "\n",
    "    val fillColor: String get() = super.borderColor\n",
    "}"
   ],
   "metadata": {
    "collapsed": false,
    "ExecuteTime": {
     "end_time": "2024-03-01T05:20:44.578129Z",
     "start_time": "2024-03-01T05:20:44.544061Z"
    }
   }
  },
  {
   "cell_type": "code",
   "execution_count": 49,
   "outputs": [
    {
     "data": {
      "text/plain": "black"
     },
     "execution_count": 49,
     "metadata": {},
     "output_type": "execute_result"
    }
   ],
   "source": [
    "val f = FilledRectangle()\n",
    "f.fillColor"
   ],
   "metadata": {
    "collapsed": false,
    "ExecuteTime": {
     "end_time": "2024-03-01T05:20:44.600956Z",
     "start_time": "2024-03-01T05:20:44.577743Z"
    }
   }
  },
  {
   "cell_type": "markdown",
   "source": [
    "### Inner class accessing the superclass of the outer class"
   ],
   "metadata": {
    "collapsed": false
   }
  },
  {
   "cell_type": "code",
   "execution_count": 50,
   "outputs": [],
   "source": [
    "open class Rectangle {\n",
    "    open fun draw() { println(\"Drawing a rectangle\") }\n",
    "    val borderColor: String get() = \"black\"\n",
    "}\n",
    "\n",
    "class FilledRectangle: Rectangle() {\n",
    "    override fun draw() {\n",
    "        val filler = Filler()\n",
    "        filler.drawAndFill()\n",
    "    }\n",
    "\n",
    "    inner class Filler {\n",
    "        fun fill() { println(\"Filling\") }\n",
    "        fun drawAndFill() {\n",
    "            super@FilledRectangle.draw() // Calls Rectangle's implementation of draw()\n",
    "            fill()\n",
    "            println(\"Drawn a filled rectangle with color ${super@FilledRectangle.borderColor}\") // Uses Rectangle's implementation of borderColor's get()\n",
    "        }\n",
    "    }\n",
    "}"
   ],
   "metadata": {
    "collapsed": false,
    "ExecuteTime": {
     "end_time": "2024-03-01T05:20:44.646599Z",
     "start_time": "2024-03-01T05:20:44.600597Z"
    }
   }
  },
  {
   "cell_type": "code",
   "execution_count": 51,
   "outputs": [
    {
     "name": "stdout",
     "output_type": "stream",
     "text": [
      "Drawing a rectangle\n",
      "Filling\n",
      "Drawn a filled rectangle with color black\n"
     ]
    }
   ],
   "source": [
    "val fr = FilledRectangle()\n",
    "fr.draw()"
   ],
   "metadata": {
    "collapsed": false,
    "ExecuteTime": {
     "end_time": "2024-03-01T05:20:44.672725Z",
     "start_time": "2024-03-01T05:20:44.643958Z"
    }
   }
  },
  {
   "cell_type": "markdown",
   "source": [
    "## Overriding rules"
   ],
   "metadata": {
    "collapsed": false
   }
  },
  {
   "cell_type": "code",
   "execution_count": 52,
   "outputs": [
    {
     "name": "stdout",
     "output_type": "stream",
     "text": [
      "Drawing a rectangle\n",
      "Drawing a polygon\n"
     ]
    }
   ],
   "source": [
    "open class Rectangle {\n",
    "    open fun draw() {\n",
    "        println(\"Drawing a rectangle\")\n",
    "    }\n",
    "}\n",
    "\n",
    "interface Polygon {\n",
    "    fun draw() {\n",
    "        println(\"Drawing a polygon\")\n",
    "    }\n",
    "}\n",
    "\n",
    "class Square : Rectangle(), Polygon {\n",
    "    // The compiler requires draw() to be overridden:\n",
    "    override fun draw() {\n",
    "        super<Rectangle>.draw() // call to Rectangle.draw()\n",
    "        super<Polygon>.draw() // call to Polygon.draw()\n",
    "    }\n",
    "}\n",
    "\n",
    "val square = Square()\n",
    "square.draw()"
   ],
   "metadata": {
    "collapsed": false,
    "ExecuteTime": {
     "end_time": "2024-03-01T05:20:44.711263Z",
     "start_time": "2024-03-01T05:20:44.671110Z"
    }
   }
  }
 ],
 "metadata": {
  "kernelspec": {
   "display_name": "Kotlin",
   "language": "kotlin",
   "name": "kotlin"
  },
  "language_info": {
   "name": "kotlin",
   "version": "1.9.0",
   "mimetype": "text/x-kotlin",
   "file_extension": ".kt",
   "pygments_lexer": "kotlin",
   "codemirror_mode": "text/x-kotlin",
   "nbconvert_exporter": ""
  }
 },
 "nbformat": 4,
 "nbformat_minor": 0
}
