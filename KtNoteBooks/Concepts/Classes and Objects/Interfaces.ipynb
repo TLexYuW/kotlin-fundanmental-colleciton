{
 "cells": [
  {
   "cell_type": "markdown",
   "source": [
    "# TOC\n",
    "- [Interfaces](#)\n",
    "- [Interfaces Inheritance](#)\n",
    "- [](#)\n",
    "- [](#)\n",
    "- [](#)\n",
    "- [](#)\n",
    "- [](#)"
   ],
   "metadata": {
    "collapsed": false
   }
  },
  {
   "cell_type": "markdown",
   "source": [
    "## Interfaces"
   ],
   "metadata": {
    "collapsed": false
   }
  },
  {
   "cell_type": "code",
   "execution_count": 1,
   "outputs": [],
   "source": [
    "interface MyInterface {\n",
    "    val prop: Int // abstract\n",
    "\n",
    "    val propertyWithImplementation: String\n",
    "        get() = \"foo\"\n",
    "\n",
    "    fun foo() {\n",
    "        print(prop)\n",
    "    }\n",
    "}\n",
    "\n",
    "class Child : MyInterface {\n",
    "    override val prop: Int = 100\n",
    "}"
   ],
   "metadata": {
    "collapsed": false,
    "ExecuteTime": {
     "end_time": "2024-03-11T04:01:33.088220500Z",
     "start_time": "2024-03-11T04:01:32.933717800Z"
    }
   }
  },
  {
   "cell_type": "code",
   "outputs": [
    {
     "data": {
      "text/plain": "100"
     },
     "execution_count": 3,
     "metadata": {},
     "output_type": "execute_result"
    }
   ],
   "source": [
    "var c = Child()\n",
    "c.prop"
   ],
   "metadata": {
    "collapsed": false,
    "ExecuteTime": {
     "end_time": "2024-03-11T04:03:01.190446600Z",
     "start_time": "2024-03-11T04:03:01.126447200Z"
    }
   },
   "execution_count": 3
  },
  {
   "cell_type": "markdown",
   "source": [
    "## Interfaces Inheritance"
   ],
   "metadata": {
    "collapsed": false
   }
  },
  {
   "cell_type": "code",
   "execution_count": 4,
   "outputs": [],
   "source": [
    "interface Named {\n",
    "    val name: String\n",
    "}\n",
    "\n",
    "interface Person : Named {\n",
    "    val firstName: String\n",
    "    val lastName: String\n",
    "\n",
    "    override val name: String get() = \"$firstName $lastName\"\n",
    "}\n",
    "\n",
    "data class Employee(\n",
    "    // implementing 'name' is not required\n",
    "    override val firstName: String,\n",
    "    override val lastName: String,\n",
    "    val position: String\n",
    ") : Person"
   ],
   "metadata": {
    "collapsed": false,
    "ExecuteTime": {
     "end_time": "2024-03-11T04:03:23.081669900Z",
     "start_time": "2024-03-11T04:03:22.915669700Z"
    }
   }
  },
  {
   "cell_type": "code",
   "outputs": [
    {
     "data": {
      "text/plain": "first last"
     },
     "execution_count": 5,
     "metadata": {},
     "output_type": "execute_result"
    }
   ],
   "source": [
    "var e = Employee(\"first\", \"last\", \"position\")\n",
    "e.name"
   ],
   "metadata": {
    "collapsed": false,
    "ExecuteTime": {
     "end_time": "2024-03-11T04:04:01.659265700Z",
     "start_time": "2024-03-11T04:04:01.599265400Z"
    }
   },
   "execution_count": 5
  },
  {
   "cell_type": "markdown",
   "source": [
    "## Resolving overriding conflicts"
   ],
   "metadata": {
    "collapsed": false
   }
  },
  {
   "cell_type": "code",
   "execution_count": 8,
   "outputs": [],
   "source": [
    "interface A {\n",
    "    fun foo() {\n",
    "        println(\"A foo\")\n",
    "    }\n",
    "\n",
    "    fun bar()\n",
    "}\n",
    "\n",
    "interface B {\n",
    "    fun foo() {\n",
    "        println(\"B foo\")\n",
    "    }\n",
    "\n",
    "    fun bar() {\n",
    "        println(\"B bar\")\n",
    "    }\n",
    "}\n",
    "\n",
    "class C : A {\n",
    "    override fun bar() {\n",
    "        println(\"C bar\")\n",
    "    }\n",
    "}\n",
    "\n",
    "class D : A, B {\n",
    "    override fun foo() {\n",
    "        super<A>.foo()\n",
    "        super<B>.foo()\n",
    "    }\n",
    "\n",
    "    override fun bar() {\n",
    "        super<B>.bar()\n",
    "    }\n",
    "}"
   ],
   "metadata": {
    "collapsed": false,
    "ExecuteTime": {
     "end_time": "2024-03-11T04:29:07.566427100Z",
     "start_time": "2024-03-11T04:29:07.481424600Z"
    }
   }
  },
  {
   "cell_type": "code",
   "outputs": [
    {
     "name": "stdout",
     "output_type": "stream",
     "text": [
      "A foo\r\n",
      "B foo\r\n",
      "B bar\r\n",
      "========\r\n",
      "C bar\r\n",
      "A foo\r\n"
     ]
    }
   ],
   "source": [
    "var d = D()\n",
    "d.foo()\n",
    "d.bar()\n",
    "println(\"========\")\n",
    "var c = C()\n",
    "c.bar()\n",
    "c.foo()"
   ],
   "metadata": {
    "collapsed": false,
    "ExecuteTime": {
     "end_time": "2024-03-11T04:29:37.247750600Z",
     "start_time": "2024-03-11T04:29:37.195073300Z"
    }
   },
   "execution_count": 13
  },
  {
   "cell_type": "markdown",
   "source": [
    "##"
   ],
   "metadata": {
    "collapsed": false
   }
  },
  {
   "cell_type": "code",
   "execution_count": 4,
   "outputs": [],
   "source": [],
   "metadata": {
    "collapsed": false,
    "ExecuteTime": {
     "end_time": "2024-02-24T06:37:50.836332Z",
     "start_time": "2024-02-24T06:37:50.834093Z"
    }
   }
  },
  {
   "cell_type": "markdown",
   "source": [
    "##"
   ],
   "metadata": {
    "collapsed": false
   }
  },
  {
   "cell_type": "code",
   "execution_count": 5,
   "outputs": [],
   "source": [],
   "metadata": {
    "collapsed": false,
    "ExecuteTime": {
     "end_time": "2024-02-24T06:37:50.839577Z",
     "start_time": "2024-02-24T06:37:50.837322Z"
    }
   }
  },
  {
   "cell_type": "markdown",
   "source": [
    "##"
   ],
   "metadata": {
    "collapsed": false
   }
  },
  {
   "cell_type": "code",
   "execution_count": 6,
   "outputs": [],
   "source": [],
   "metadata": {
    "collapsed": false,
    "ExecuteTime": {
     "end_time": "2024-02-24T06:37:50.842699Z",
     "start_time": "2024-02-24T06:37:50.840600Z"
    }
   }
  },
  {
   "cell_type": "markdown",
   "source": [
    "##"
   ],
   "metadata": {
    "collapsed": false
   }
  },
  {
   "cell_type": "code",
   "execution_count": 7,
   "outputs": [],
   "source": [],
   "metadata": {
    "collapsed": false,
    "ExecuteTime": {
     "end_time": "2024-02-24T06:37:50.845876Z",
     "start_time": "2024-02-24T06:37:50.843499Z"
    }
   }
  },
  {
   "cell_type": "markdown",
   "source": [
    "##"
   ],
   "metadata": {
    "collapsed": false
   }
  },
  {
   "cell_type": "code",
   "execution_count": 8,
   "outputs": [],
   "source": [],
   "metadata": {
    "collapsed": false,
    "ExecuteTime": {
     "end_time": "2024-02-24T06:37:50.854496Z",
     "start_time": "2024-02-24T06:37:50.846362Z"
    }
   }
  }
 ],
 "metadata": {
  "kernelspec": {
   "display_name": "Kotlin",
   "language": "kotlin",
   "name": "kotlin"
  },
  "language_info": {
   "name": "kotlin",
   "version": "1.9.0",
   "mimetype": "text/x-kotlin",
   "file_extension": ".kt",
   "pygments_lexer": "kotlin",
   "codemirror_mode": "text/x-kotlin",
   "nbconvert_exporter": ""
  }
 },
 "nbformat": 4,
 "nbformat_minor": 0
}
