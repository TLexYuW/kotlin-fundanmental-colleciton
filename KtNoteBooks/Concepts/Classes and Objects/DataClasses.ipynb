{
 "cells": [
  {
   "cell_type": "markdown",
   "source": [
    "# TOC\n",
    "- Properties declared in the class body\n",
    "- Copying\n",
    "- Data classes and destructuring declarations"
   ],
   "metadata": {
    "collapsed": false
   }
  },
  {
   "cell_type": "markdown",
   "source": [
    "## Properties declared in the class body"
   ],
   "metadata": {
    "collapsed": false
   }
  },
  {
   "cell_type": "code",
   "execution_count": 13,
   "outputs": [],
   "source": [
    "data class Person(val name: String) {\n",
    "    var age: Int = 0\n",
    "}"
   ],
   "metadata": {
    "collapsed": false,
    "ExecuteTime": {
     "end_time": "2024-03-17T13:25:15.082516800Z",
     "start_time": "2024-03-17T13:25:14.907310Z"
    }
   }
  },
  {
   "cell_type": "code",
   "outputs": [
    {
     "name": "stdout",
     "output_type": "stream",
     "text": [
      "person1 == person2: true\r\n",
      "person1 with age 10: Person(name=John)\r\n",
      "person2 with age 20: Person(name=John)\r\n",
      "2314539\r\n",
      "2314539\r\n",
      "true\r\n"
     ]
    }
   ],
   "source": [
    "val person1 = Person(\"John\")\n",
    "val person2 = Person(\"John\")\n",
    "person1.age = 10\n",
    "person2.age = 20\n",
    "\n",
    "println(\"person1 == person2: ${person1 == person2}\")\n",
    "// person1 == person2: true\n",
    "\n",
    "println(\"person1 with age ${person1.age}: ${person1}\")\n",
    "// person1 with age 10: Person(name=John)\n",
    "\n",
    "println(\"person2 with age ${person2.age}: ${person2}\")\n",
    "// person2 with age 20: Person(name=John)\n",
    "\n",
    "println(person1.hashCode())\n",
    "println(person2.hashCode())\n",
    "println(person1.equals(person2))"
   ],
   "metadata": {
    "collapsed": false,
    "ExecuteTime": {
     "end_time": "2024-03-17T13:25:15.172516700Z",
     "start_time": "2024-03-17T13:25:15.081517100Z"
    }
   },
   "execution_count": 14
  },
  {
   "cell_type": "markdown",
   "source": [
    "## Copying"
   ],
   "metadata": {
    "collapsed": false
   }
  },
  {
   "cell_type": "code",
   "execution_count": 15,
   "outputs": [
    {
     "name": "stdout",
     "output_type": "stream",
     "text": [
      "Person(name=change name)\r\n",
      "0\r\n"
     ]
    }
   ],
   "source": [
    "val newperon1 = person1.copy(name = \"change name\")\n",
    "println(newperon1)\n",
    "println(newperon1.age)"
   ],
   "metadata": {
    "collapsed": false,
    "ExecuteTime": {
     "end_time": "2024-03-17T13:25:15.218034Z",
     "start_time": "2024-03-17T13:25:15.172516700Z"
    }
   }
  },
  {
   "cell_type": "markdown",
   "source": [
    "## Data classes and destructuring declarations"
   ],
   "metadata": {
    "collapsed": false
   }
  },
  {
   "cell_type": "code",
   "outputs": [],
   "source": [
    "data class User(var name: String, var age: Int)"
   ],
   "metadata": {
    "collapsed": false,
    "ExecuteTime": {
     "end_time": "2024-03-17T13:25:15.261029700Z",
     "start_time": "2024-03-17T13:25:15.217516Z"
    }
   },
   "execution_count": 16
  },
  {
   "cell_type": "code",
   "execution_count": 17,
   "outputs": [
    {
     "name": "stdout",
     "output_type": "stream",
     "text": [
      "Jane, 35 years of age\r\n"
     ]
    }
   ],
   "source": [
    "val jane = User(\"Jane\", 35)\n",
    "val (name, age) = jane\n",
    "println(\"$name, $age years of age\")"
   ],
   "metadata": {
    "collapsed": false,
    "ExecuteTime": {
     "end_time": "2024-03-17T13:25:15.303030200Z",
     "start_time": "2024-03-17T13:25:15.261029700Z"
    }
   }
  }
 ],
 "metadata": {
  "kernelspec": {
   "display_name": "Kotlin",
   "language": "kotlin",
   "name": "kotlin"
  },
  "language_info": {
   "name": "kotlin",
   "version": "1.9.0",
   "mimetype": "text/x-kotlin",
   "file_extension": ".kt",
   "pygments_lexer": "kotlin",
   "codemirror_mode": "text/x-kotlin",
   "nbconvert_exporter": ""
  }
 },
 "nbformat": 4,
 "nbformat_minor": 0
}
