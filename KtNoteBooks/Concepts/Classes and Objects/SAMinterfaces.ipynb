{
 "cells": [
  {
   "cell_type": "markdown",
   "source": [
    "# TOC\n",
    "- "
   ],
   "metadata": {
    "collapsed": false
   }
  },
  {
   "cell_type": "markdown",
   "source": [
    "## SAM conversions"
   ],
   "metadata": {
    "collapsed": false
   }
  },
  {
   "cell_type": "code",
   "outputs": [],
   "source": [
    "fun interface IntPredicate {\n",
    "   fun accept(i: Int): Boolean\n",
    "}"
   ],
   "metadata": {
    "collapsed": false,
    "ExecuteTime": {
     "end_time": "2024-03-11T15:51:43.091324300Z",
     "start_time": "2024-03-11T15:51:43.050212Z"
    }
   },
   "execution_count": 33
  },
  {
   "cell_type": "markdown",
   "source": [
    "### Without SAM"
   ],
   "metadata": {
    "collapsed": false
   }
  },
  {
   "cell_type": "code",
   "outputs": [],
   "source": [
    "// Creating an instance of a class\n",
    "val isEvenWithoutSAM = object : IntPredicate {\n",
    "   override fun accept(i: Int): Boolean {\n",
    "       return i % 2 == 0\n",
    "   }\n",
    "}"
   ],
   "metadata": {
    "collapsed": false,
    "ExecuteTime": {
     "end_time": "2024-03-11T15:51:43.156104600Z",
     "start_time": "2024-03-11T15:51:43.091324300Z"
    }
   },
   "execution_count": 34
  },
  {
   "cell_type": "code",
   "outputs": [
    {
     "data": {
      "text/plain": "true"
     },
     "execution_count": 35,
     "metadata": {},
     "output_type": "execute_result"
    }
   ],
   "source": [
    "isEvenWithoutSAM.accept(100)"
   ],
   "metadata": {
    "collapsed": false,
    "ExecuteTime": {
     "end_time": "2024-03-11T15:51:43.165105500Z",
     "start_time": "2024-03-11T15:51:43.133105600Z"
    }
   },
   "execution_count": 35
  },
  {
   "cell_type": "markdown",
   "source": [
    "### Leverage SAM"
   ],
   "metadata": {
    "collapsed": false
   }
  },
  {
   "cell_type": "code",
   "execution_count": 36,
   "outputs": [],
   "source": [
    "// Creating an instance using lambda\n",
    "val isEven = IntPredicate { it % 2 == 0 }"
   ],
   "metadata": {
    "collapsed": false,
    "ExecuteTime": {
     "end_time": "2024-03-11T15:51:43.215103400Z",
     "start_time": "2024-03-11T15:51:43.162103400Z"
    }
   }
  },
  {
   "cell_type": "code",
   "outputs": [
    {
     "name": "stdout",
     "output_type": "stream",
     "text": [
      "Is 7 even? - false\r\n"
     ]
    }
   ],
   "source": [
    "println(\"Is 7 even? - ${isEven.accept(7)}\")"
   ],
   "metadata": {
    "collapsed": false,
    "ExecuteTime": {
     "end_time": "2024-03-11T15:51:43.254103900Z",
     "start_time": "2024-03-11T15:51:43.211105Z"
    }
   },
   "execution_count": 37
  },
  {
   "cell_type": "markdown",
   "source": [
    "## Migration from an interface with constructor function to a functional interface"
   ],
   "metadata": {
    "collapsed": false
   }
  },
  {
   "cell_type": "code",
   "execution_count": 38,
   "outputs": [],
   "source": [
    "interface Printer {\n",
    "    fun print()\n",
    "}\n",
    "\n",
    "fun Printer(block: () -> Unit): Printer = object : Printer { override fun print() = block() }"
   ],
   "metadata": {
    "collapsed": false,
    "ExecuteTime": {
     "end_time": "2024-03-11T15:51:43.309104600Z",
     "start_time": "2024-03-11T15:51:43.253109900Z"
    }
   }
  },
  {
   "cell_type": "code",
   "outputs": [
    {
     "name": "stdout",
     "output_type": "stream",
     "text": [
      "Printing something!\r\n"
     ]
    }
   ],
   "source": [
    "val printerInstance: Printer = Printer {\n",
    "    println(\"Printing something!\")\n",
    "}\n",
    "printerInstance.print()"
   ],
   "metadata": {
    "collapsed": false,
    "ExecuteTime": {
     "end_time": "2024-03-11T15:51:43.345103900Z",
     "start_time": "2024-03-11T15:51:43.293103600Z"
    }
   },
   "execution_count": 39
  },
  {
   "cell_type": "markdown",
   "source": [
    "---"
   ],
   "metadata": {
    "collapsed": false
   }
  },
  {
   "cell_type": "code",
   "execution_count": 40,
   "outputs": [],
   "source": [
    "fun interface Printer2 {\n",
    "    fun print()\n",
    "}"
   ],
   "metadata": {
    "collapsed": false,
    "ExecuteTime": {
     "end_time": "2024-03-11T15:51:43.380103200Z",
     "start_time": "2024-03-11T15:51:43.344104800Z"
    }
   }
  },
  {
   "cell_type": "code",
   "outputs": [
    {
     "name": "stdout",
     "output_type": "stream",
     "text": [
      "Printing something 2!\r\n"
     ]
    }
   ],
   "source": [
    "val printerInstance: Printer2 = Printer2 {\n",
    "    println(\"Printing something 2!\")\n",
    "}\n",
    "printerInstance.print()"
   ],
   "metadata": {
    "collapsed": false,
    "ExecuteTime": {
     "end_time": "2024-03-11T15:51:43.413106900Z",
     "start_time": "2024-03-11T15:51:43.372105100Z"
    }
   },
   "execution_count": 41
  },
  {
   "cell_type": "markdown",
   "source": [
    "## Functional interfaces vs. type aliases"
   ],
   "metadata": {
    "collapsed": false
   }
  },
  {
   "cell_type": "code",
   "execution_count": 42,
   "outputs": [],
   "source": [
    "typealias IntPredicateTypeAlias = (i: Int) -> Boolean\n",
    "\n",
    "val isEven: IntPredicateTypeAlias = { it % 2 == 0 }"
   ],
   "metadata": {
    "collapsed": false,
    "ExecuteTime": {
     "end_time": "2024-03-11T15:51:43.457670900Z",
     "start_time": "2024-03-11T15:51:43.412106500Z"
    }
   }
  },
  {
   "cell_type": "code",
   "outputs": [
    {
     "name": "stdout",
     "output_type": "stream",
     "text": [
      "Is 7 even? - true\r\n"
     ]
    }
   ],
   "source": [
    "println(\"Is 7 even? - ${isEven(70)}\")"
   ],
   "metadata": {
    "collapsed": false,
    "ExecuteTime": {
     "end_time": "2024-03-11T15:51:43.494080800Z",
     "start_time": "2024-03-11T15:51:43.452671500Z"
    }
   },
   "execution_count": 43
  }
 ],
 "metadata": {
  "kernelspec": {
   "display_name": "Kotlin",
   "language": "kotlin",
   "name": "kotlin"
  },
  "language_info": {
   "name": "kotlin",
   "version": "1.9.0",
   "mimetype": "text/x-kotlin",
   "file_extension": ".kt",
   "pygments_lexer": "kotlin",
   "codemirror_mode": "text/x-kotlin",
   "nbconvert_exporter": ""
  }
 },
 "nbformat": 4,
 "nbformat_minor": 0
}
