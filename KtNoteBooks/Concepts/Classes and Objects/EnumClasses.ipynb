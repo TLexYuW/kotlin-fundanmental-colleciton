{
 "cells": [
  {
   "cell_type": "markdown",
   "source": [
    "# TOC\n",
    "- [](#)\n",
    "- [](#)\n",
    "- [](#)\n",
    "- [](#)\n",
    "- [](#)\n",
    "- [](#)\n",
    "- [](#)"
   ],
   "metadata": {
    "collapsed": false
   }
  },
  {
   "cell_type": "markdown",
   "source": [
    "## Enums classes"
   ],
   "metadata": {
    "collapsed": false
   }
  },
  {
   "cell_type": "code",
   "execution_count": 1,
   "outputs": [],
   "source": [
    "enum class Color(val rgb: Int) {\n",
    "    RED(0xFF0000),\n",
    "    GREEN(0x00FF00),\n",
    "    BLUE(0x0000FF)\n",
    "}"
   ],
   "metadata": {
    "collapsed": false,
    "ExecuteTime": {
     "end_time": "2024-03-25T08:00:48.595707300Z",
     "start_time": "2024-03-25T08:00:48.350782800Z"
    }
   }
  },
  {
   "cell_type": "code",
   "outputs": [
    {
     "data": {
      "text/plain": "16711680"
     },
     "execution_count": 5,
     "metadata": {},
     "output_type": "execute_result"
    }
   ],
   "source": [
    "Color.RED.rgb"
   ],
   "metadata": {
    "collapsed": false,
    "ExecuteTime": {
     "end_time": "2024-03-25T08:01:17.948430100Z",
     "start_time": "2024-03-25T08:01:17.910430700Z"
    }
   },
   "execution_count": 5
  },
  {
   "cell_type": "markdown",
   "source": [
    "## Anonymous classes"
   ],
   "metadata": {
    "collapsed": false
   }
  },
  {
   "cell_type": "code",
   "execution_count": 6,
   "outputs": [],
   "source": [
    "enum class ProtocolState {\n",
    "    WAITING {\n",
    "        override fun signal() = TALKING\n",
    "    },\n",
    "\n",
    "    TALKING {\n",
    "        override fun signal() = WAITING\n",
    "    };\n",
    "\n",
    "    abstract fun signal(): ProtocolState\n",
    "}"
   ],
   "metadata": {
    "collapsed": false,
    "ExecuteTime": {
     "end_time": "2024-03-25T08:05:25.413376600Z",
     "start_time": "2024-03-25T08:05:25.314377900Z"
    }
   }
  },
  {
   "cell_type": "code",
   "outputs": [
    {
     "data": {
      "text/plain": "WAITING"
     },
     "execution_count": 8,
     "metadata": {},
     "output_type": "execute_result"
    }
   ],
   "source": [
    "ProtocolState.TALKING.signal()"
   ],
   "metadata": {
    "collapsed": false,
    "ExecuteTime": {
     "end_time": "2024-03-25T08:05:43.669445700Z",
     "start_time": "2024-03-25T08:05:43.633445200Z"
    }
   },
   "execution_count": 8
  },
  {
   "cell_type": "code",
   "outputs": [
    {
     "data": {
      "text/plain": "TALKING"
     },
     "execution_count": 9,
     "metadata": {},
     "output_type": "execute_result"
    }
   ],
   "source": [
    "ProtocolState.WAITING.signal()"
   ],
   "metadata": {
    "collapsed": false,
    "ExecuteTime": {
     "end_time": "2024-03-25T08:05:55.119856100Z",
     "start_time": "2024-03-25T08:05:55.082857100Z"
    }
   },
   "execution_count": 9
  },
  {
   "cell_type": "markdown",
   "source": [
    "## Implementing interfaces in enum classes"
   ],
   "metadata": {
    "collapsed": false
   }
  },
  {
   "cell_type": "code",
   "execution_count": 10,
   "outputs": [],
   "source": [
    "import java.util.function.BinaryOperator\n",
    "import java.util.function.IntBinaryOperator\n",
    "\n",
    "enum class IntArithmetics : BinaryOperator<Int>, IntBinaryOperator {\n",
    "    PLUS {\n",
    "        override fun apply(t: Int, u: Int): Int = t + u\n",
    "    },\n",
    "    TIMES {\n",
    "        override fun apply(t: Int, u: Int): Int = t * u\n",
    "    };\n",
    "\n",
    "    override fun applyAsInt(t: Int, u: Int) = apply(t, u)\n",
    "}"
   ],
   "metadata": {
    "collapsed": false,
    "ExecuteTime": {
     "end_time": "2024-03-25T08:08:00.302610500Z",
     "start_time": "2024-03-25T08:08:00.143917100Z"
    }
   }
  },
  {
   "cell_type": "code",
   "outputs": [
    {
     "name": "stdout",
     "output_type": "stream",
     "text": [
      "PLUS(55, 33) = 88\r\n",
      "TIMES(55, 33) = 1815\r\n"
     ]
    }
   ],
   "source": [
    "val a = 55\n",
    "val b = 33\n",
    "for (f in IntArithmetics.entries) {\n",
    "    println(\"$f($a, $b) = ${f.apply(a, b)}\")\n",
    "}"
   ],
   "metadata": {
    "collapsed": false,
    "ExecuteTime": {
     "end_time": "2024-03-25T08:08:28.180408200Z",
     "start_time": "2024-03-25T08:08:27.960737Z"
    }
   },
   "execution_count": 11
  },
  {
   "cell_type": "markdown",
   "source": [
    "## Working with enum constants"
   ],
   "metadata": {
    "collapsed": false
   }
  },
  {
   "cell_type": "code",
   "execution_count": 15,
   "outputs": [],
   "source": [
    "enum class RGB { RED, GREEN, BLUE }"
   ],
   "metadata": {
    "collapsed": false,
    "ExecuteTime": {
     "end_time": "2024-03-25T08:17:12.452177800Z",
     "start_time": "2024-03-25T08:17:12.395179600Z"
    }
   }
  },
  {
   "cell_type": "code",
   "outputs": [
    {
     "name": "stdout",
     "output_type": "stream",
     "text": [
      "RED\r\n",
      "GREEN\r\n",
      "BLUE\r\n",
      "The first color is: RED\r\n"
     ]
    },
    {
     "data": {
      "text/plain": "[RED, GREEN, BLUE]"
     },
     "execution_count": 32,
     "metadata": {},
     "output_type": "execute_result"
    }
   ],
   "source": [
    "for (color in RGB.entries) println(color.toString())\n",
    "println(\"The first color is: ${RGB.valueOf(\"RED\")}\")\n",
    "RGB.values()"
   ],
   "metadata": {
    "collapsed": false,
    "ExecuteTime": {
     "end_time": "2024-03-25T08:21:54.507750300Z",
     "start_time": "2024-03-25T08:21:54.447751100Z"
    }
   },
   "execution_count": 32
  },
  {
   "cell_type": "code",
   "outputs": [
    {
     "data": {
      "text/plain": "[]"
     },
     "execution_count": 33,
     "metadata": {},
     "output_type": "execute_result"
    }
   ],
   "source": [
    "RGB.values().javaClass.classes"
   ],
   "metadata": {
    "collapsed": false,
    "ExecuteTime": {
     "end_time": "2024-03-25T08:21:56.092360Z",
     "start_time": "2024-03-25T08:21:56.057360200Z"
    }
   },
   "execution_count": 33
  },
  {
   "cell_type": "markdown",
   "source": [
    "## Generic Way - Access Constants in an Enum Class"
   ],
   "metadata": {
    "collapsed": false
   }
  },
  {
   "cell_type": "code",
   "execution_count": 35,
   "outputs": [
    {
     "name": "stdout",
     "output_type": "stream",
     "text": [
      "RED, GREEN, BLUE\r\n"
     ]
    }
   ],
   "source": [
    "enum class RGB { RED, GREEN, BLUE }\n",
    "\n",
    "inline fun <reified T : Enum<T>> printAllValues() {\n",
    "    println(enumValues<T>().joinToString { it.name })\n",
    "}\n",
    "\n",
    "printAllValues<RGB>()"
   ],
   "metadata": {
    "collapsed": false,
    "ExecuteTime": {
     "end_time": "2024-03-25T08:37:24.923311600Z",
     "start_time": "2024-03-25T08:37:24.851312500Z"
    }
   }
  }
 ],
 "metadata": {
  "kernelspec": {
   "display_name": "Kotlin",
   "language": "kotlin",
   "name": "kotlin"
  },
  "language_info": {
   "name": "kotlin",
   "version": "1.9.0",
   "mimetype": "text/x-kotlin",
   "file_extension": ".kt",
   "pygments_lexer": "kotlin",
   "codemirror_mode": "text/x-kotlin",
   "nbconvert_exporter": ""
  }
 },
 "nbformat": 4,
 "nbformat_minor": 0
}
