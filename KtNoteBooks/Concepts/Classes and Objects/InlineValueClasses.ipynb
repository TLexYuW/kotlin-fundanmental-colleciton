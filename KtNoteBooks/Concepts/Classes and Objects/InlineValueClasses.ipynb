{
 "cells": [
  {
   "cell_type": "markdown",
   "source": [
    "# Check \n",
    "- `src/main/kotlin/ref_official/inline_value_classes`"
   ],
   "metadata": {
    "collapsed": false
   }
  }
 ],
 "metadata": {
  "kernelspec": {
   "display_name": "Kotlin",
   "language": "kotlin",
   "name": "kotlin"
  },
  "language_info": {
   "name": "kotlin",
   "version": "1.9.0",
   "mimetype": "text/x-kotlin",
   "file_extension": ".kt",
   "pygments_lexer": "kotlin",
   "codemirror_mode": "text/x-kotlin",
   "nbconvert_exporter": ""
  }
 },
 "nbformat": 4,
 "nbformat_minor": 0
}
