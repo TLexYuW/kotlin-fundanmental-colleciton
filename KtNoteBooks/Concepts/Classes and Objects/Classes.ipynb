{
 "cells": [
  {
   "cell_type": "markdown",
   "source": [
    "# TOC\n",
    "- Constructors\n",
    "- Primary Constructor Init\n",
    "- Default Value\n",
    "- Secondary constructors\n",
    "- Class members"
   ],
   "metadata": {
    "collapsed": false
   }
  },
  {
   "cell_type": "code",
   "execution_count": 1,
   "outputs": [],
   "source": [
    "class Empty"
   ],
   "metadata": {
    "collapsed": false,
    "ExecuteTime": {
     "end_time": "2024-02-29T16:08:26.550928Z",
     "start_time": "2024-02-29T16:08:26.490869Z"
    }
   }
  },
  {
   "cell_type": "code",
   "execution_count": 2,
   "outputs": [],
   "source": [
    "class Person constructor(firstName: String) {}"
   ],
   "metadata": {
    "collapsed": false,
    "ExecuteTime": {
     "end_time": "2024-02-29T16:08:26.612357Z",
     "start_time": "2024-02-29T16:08:26.552054Z"
    }
   }
  },
  {
   "cell_type": "code",
   "execution_count": 3,
   "outputs": [],
   "source": [
    "class InitOrderDemo(name: String) {\n",
    "    val firstProperty = \"First property: $name\".also(::println)\n",
    "\n",
    "    init {\n",
    "        println(\"First initializer block that prints $name\")\n",
    "    }\n",
    "\n",
    "    val secondProperty = \"Second property: ${name.length}\".also(::println)\n",
    "\n",
    "    init {\n",
    "        println(\"Second initializer block that prints ${name.length}\")\n",
    "    }\n",
    "}"
   ],
   "metadata": {
    "collapsed": false,
    "ExecuteTime": {
     "end_time": "2024-02-29T16:08:26.823541Z",
     "start_time": "2024-02-29T16:08:26.613722Z"
    }
   }
  },
  {
   "cell_type": "code",
   "execution_count": 4,
   "outputs": [
    {
     "name": "stdout",
     "output_type": "stream",
     "text": [
      "First property: Object-A\n",
      "First initializer block that prints Object-A\n",
      "Second property: 8\n",
      "Second initializer block that prints 8\n"
     ]
    }
   ],
   "source": [
    "val init_obj = InitOrderDemo(\"Object-A\")"
   ],
   "metadata": {
    "collapsed": false,
    "ExecuteTime": {
     "end_time": "2024-02-29T16:08:26.863274Z",
     "start_time": "2024-02-29T16:08:26.824199Z"
    }
   }
  },
  {
   "cell_type": "markdown",
   "source": [
    "## Primary Constructor Init"
   ],
   "metadata": {
    "collapsed": false
   }
  },
  {
   "cell_type": "code",
   "execution_count": 5,
   "outputs": [],
   "source": [
    "class Person(val firstName: String, val lastName: String, var age: Int)"
   ],
   "metadata": {
    "collapsed": false,
    "ExecuteTime": {
     "end_time": "2024-02-29T16:08:26.902226Z",
     "start_time": "2024-02-29T16:08:26.864273Z"
    }
   }
  },
  {
   "cell_type": "code",
   "execution_count": 6,
   "outputs": [],
   "source": [
    "val p1 = Person(\"first\", \"last\", 100)"
   ],
   "metadata": {
    "collapsed": false,
    "ExecuteTime": {
     "end_time": "2024-02-29T16:08:26.934320Z",
     "start_time": "2024-02-29T16:08:26.902445Z"
    }
   }
  },
  {
   "cell_type": "markdown",
   "source": [
    "## Default Value "
   ],
   "metadata": {
    "collapsed": false
   }
  },
  {
   "cell_type": "code",
   "execution_count": 7,
   "outputs": [],
   "source": [
    "class car(var brand: String = \"Tesla\")"
   ],
   "metadata": {
    "collapsed": false,
    "ExecuteTime": {
     "end_time": "2024-02-29T16:08:27.002654Z",
     "start_time": "2024-02-29T16:08:26.934462Z"
    }
   }
  },
  {
   "cell_type": "markdown",
   "source": [
    "## Secondary constructors"
   ],
   "metadata": {
    "collapsed": false
   }
  },
  {
   "cell_type": "code",
   "execution_count": 8,
   "outputs": [],
   "source": [
    "data class Person(val pets: MutableList<Pet> = mutableListOf())\n",
    "\n",
    "class Pet {\n",
    "    constructor(owner: Person) {\n",
    "        owner.pets.add(this) // adds this pet to the list of its owner's pets\n",
    "    }\n",
    "\n",
    "    override fun toString(): String {\n",
    "        return \"Pet@\" + hashCode()\n",
    "    }\n",
    "}"
   ],
   "metadata": {
    "collapsed": false,
    "ExecuteTime": {
     "end_time": "2024-02-29T16:08:27.101410Z",
     "start_time": "2024-02-29T16:08:27.003272Z"
    }
   }
  },
  {
   "cell_type": "code",
   "execution_count": 9,
   "outputs": [
    {
     "data": {
      "text/plain": "Person(pets=[Pet@1134975224, Pet@886678637])"
     },
     "execution_count": 9,
     "metadata": {},
     "output_type": "execute_result"
    }
   ],
   "source": [
    "val jack = Person()\n",
    "val cat_1 = Pet(jack)\n",
    "val dog_2 = Pet(jack) \n",
    "\n",
    "jack"
   ],
   "metadata": {
    "collapsed": false,
    "ExecuteTime": {
     "end_time": "2024-02-29T16:08:27.149971Z",
     "start_time": "2024-02-29T16:08:27.102215Z"
    }
   }
  },
  {
   "cell_type": "markdown",
   "source": [
    "### Class has a primary constructor\n",
    "> each secondary constructor needs to delegate to the primary constructor, either directly or indirectly through another secondary constructor(s)."
   ],
   "metadata": {
    "collapsed": false
   }
  },
  {
   "cell_type": "code",
   "execution_count": 10,
   "outputs": [],
   "source": [
    "data class Person(val name: String) {\n",
    "    val children: MutableList<Person> = mutableListOf()\n",
    "    constructor(name: String, parent: Person) : this(name) {\n",
    "        parent.children.add(this)\n",
    "    }\n",
    "    override fun toString(): String {\n",
    "        val childNames = children.joinToString(\", \") { it.name }\n",
    "        return if (children.isEmpty()) {\n",
    "            \"Person(name=$name)\"\n",
    "        } else {\n",
    "            \"Person(name=$name, children=[ $childNames ])\"\n",
    "        }\n",
    "    }\n",
    "}\n",
    "\n",
    "val parent = Person(\"John\")\n",
    "val child1 = Person(\"Alice\", parent)\n",
    "val child2 = Person(\"Bob\", parent)"
   ],
   "metadata": {
    "collapsed": false,
    "ExecuteTime": {
     "end_time": "2024-02-29T16:08:27.263862Z",
     "start_time": "2024-02-29T16:08:27.149535Z"
    }
   }
  },
  {
   "cell_type": "code",
   "execution_count": 11,
   "outputs": [
    {
     "name": "stdout",
     "output_type": "stream",
     "text": [
      "Person(name=John, children=[ Alice, Bob ])\n",
      "Person(name=Alice)\n",
      "Person(name=Bob)\n"
     ]
    }
   ],
   "source": [
    "println(parent)\n",
    "println(child1)\n",
    "println(child2)"
   ],
   "metadata": {
    "collapsed": false,
    "ExecuteTime": {
     "end_time": "2024-02-29T16:08:27.303801Z",
     "start_time": "2024-02-29T16:08:27.263763Z"
    }
   }
  },
  {
   "cell_type": "code",
   "execution_count": 12,
   "outputs": [
    {
     "name": "stdout",
     "output_type": "stream",
     "text": [
      "Init block\n",
      "Constructor 100\n"
     ]
    }
   ],
   "source": [
    "class Constructors {\n",
    "    init {\n",
    "        println(\"Init block\")\n",
    "    }\n",
    "\n",
    "    constructor(i: Int) {\n",
    "        println(\"Constructor $i\")\n",
    "    }\n",
    "}\n",
    "val c = Constructors(100)"
   ],
   "metadata": {
    "collapsed": false,
    "ExecuteTime": {
     "end_time": "2024-02-29T16:08:27.341573Z",
     "start_time": "2024-02-29T16:08:27.301452Z"
    }
   }
  },
  {
   "cell_type": "markdown",
   "source": [
    "## Class members\n",
    "- Constructors and initializer blocks\n",
    "- Functions\n",
    "- Properties\n",
    "- Nested and inner classes\n",
    "- Object declarations"
   ],
   "metadata": {
    "collapsed": false
   }
  },
  {
   "cell_type": "code",
   "execution_count": 13,
   "outputs": [
    {
     "name": "stdout",
     "output_type": "stream",
     "text": [
      "Drawing a rectangle\n"
     ]
    }
   ],
   "source": [
    "abstract class Polygon {\n",
    "    abstract fun draw()\n",
    "}\n",
    "\n",
    "class Rectangle : Polygon() {\n",
    "    override fun draw() {\n",
    "        println(\"Drawing a rectangle\")\n",
    "    }\n",
    "}\n",
    "val rectangle = Rectangle()\n",
    "rectangle.draw()"
   ],
   "metadata": {
    "collapsed": false,
    "ExecuteTime": {
     "end_time": "2024-02-29T16:08:27.382071Z",
     "start_time": "2024-02-29T16:08:27.341505Z"
    }
   }
  },
  {
   "cell_type": "markdown",
   "source": [
    "###  override a non-abstract open member with an abstract one."
   ],
   "metadata": {
    "collapsed": false
   }
  },
  {
   "cell_type": "code",
   "execution_count": 14,
   "outputs": [
    {
     "name": "stdout",
     "output_type": "stream",
     "text": [
      "Drawing a custom shape\n"
     ]
    }
   ],
   "source": [
    "open class Polygon {\n",
    "    open fun draw() {\n",
    "        println(\"Default Pre-Draw\")\n",
    "    }\n",
    "}\n",
    "\n",
    "abstract class WildShape : Polygon() {\n",
    "    abstract override fun draw()\n",
    "}\n",
    "\n",
    "class CustomShape : WildShape() {\n",
    "    override fun draw() {\n",
    "        println(\"Drawing a custom shape\")\n",
    "    }\n",
    "}\n",
    "\n",
    "val customShape = CustomShape()\n",
    "customShape.draw()"
   ],
   "metadata": {
    "collapsed": false,
    "ExecuteTime": {
     "end_time": "2024-02-29T16:08:27.428998Z",
     "start_time": "2024-02-29T16:08:27.381580Z"
    }
   }
  }
 ],
 "metadata": {
  "kernelspec": {
   "display_name": "Kotlin",
   "language": "kotlin",
   "name": "kotlin"
  },
  "language_info": {
   "name": "kotlin",
   "version": "1.9.0",
   "mimetype": "text/x-kotlin",
   "file_extension": ".kt",
   "pygments_lexer": "kotlin",
   "codemirror_mode": "text/x-kotlin",
   "nbconvert_exporter": ""
  }
 },
 "nbformat": 4,
 "nbformat_minor": 0
}
