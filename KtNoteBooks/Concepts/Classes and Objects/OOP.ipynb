{
 "cells": [
  {
   "cell_type": "markdown",
   "source": [
    "# TOC\n",
    "- [Abstract class](#abstract-class)"
   ],
   "metadata": {
    "collapsed": false
   }
  },
  {
   "cell_type": "markdown",
   "source": [
    "## Abstract class"
   ],
   "metadata": {
    "collapsed": false
   }
  },
  {
   "cell_type": "code",
   "execution_count": 1,
   "outputs": [],
   "source": [
    "abstract class Person(val name: String) {\n",
    "    abstract fun greet()\n",
    "}"
   ],
   "metadata": {
    "collapsed": false,
    "ExecuteTime": {
     "end_time": "2024-02-24T06:51:54.258059Z",
     "start_time": "2024-02-24T06:51:54.187399Z"
    }
   }
  },
  {
   "cell_type": "markdown",
   "source": [
    "## FoodConsumer"
   ],
   "metadata": {
    "collapsed": false
   }
  },
  {
   "cell_type": "code",
   "execution_count": 2,
   "outputs": [],
   "source": [
    "interface FoodConsumer {\n",
    "    fun eat()\n",
    "    fun pay(amount: Int) = println(\"Delicious! Here's $amount bucks!\")\n",
    "}"
   ],
   "metadata": {
    "collapsed": false,
    "ExecuteTime": {
     "end_time": "2024-02-24T06:51:54.363102Z",
     "start_time": "2024-02-24T06:51:54.258927Z"
    }
   }
  },
  {
   "cell_type": "markdown",
   "source": [
    "## RestaurantCustomer"
   ],
   "metadata": {
    "collapsed": false
   }
  },
  {
   "cell_type": "code",
   "execution_count": 3,
   "outputs": [],
   "source": [
    "class RestaurantCustomer(name: String, val dish: String) : Person(name), FoodConsumer {\n",
    "    fun order() = println(\"$dish, please!\")\n",
    "    override fun eat() = println(\"*Eats $dish*\")\n",
    "    override fun greet() = println(\"It's me, $name.\")\n",
    "}"
   ],
   "metadata": {
    "collapsed": false,
    "ExecuteTime": {
     "end_time": "2024-02-24T06:51:54.430898Z",
     "start_time": "2024-02-24T06:51:54.364293Z"
    }
   }
  },
  {
   "cell_type": "markdown",
   "source": [
    "## Demo"
   ],
   "metadata": {
    "collapsed": false
   }
  },
  {
   "cell_type": "code",
   "execution_count": 4,
   "outputs": [
    {
     "name": "stdout",
     "output_type": "stream",
     "text": [
      "It's me, Sam.\n",
      "Mixed salad, please!\n",
      "*Eats Mixed salad*\n",
      "Delicious! Here's 10 bucks!\n"
     ]
    }
   ],
   "source": [
    "val sam = RestaurantCustomer(\"Sam\", \"Mixed salad\")\n",
    "sam.greet() // An implementation of an abstract function\n",
    "sam.order() // A member function\n",
    "sam.eat()   // An implementation of an interface function\n",
    "sam.pay(10) // A default implementation in an interface"
   ],
   "metadata": {
    "collapsed": false,
    "ExecuteTime": {
     "end_time": "2024-02-24T06:52:30.738330Z",
     "start_time": "2024-02-24T06:52:30.660254Z"
    }
   }
  },
  {
   "cell_type": "markdown",
   "source": [
    "##"
   ],
   "metadata": {
    "collapsed": false
   }
  },
  {
   "cell_type": "code",
   "execution_count": null,
   "outputs": [],
   "source": [],
   "metadata": {
    "collapsed": false
   }
  },
  {
   "cell_type": "markdown",
   "source": [
    "##"
   ],
   "metadata": {
    "collapsed": false
   }
  },
  {
   "cell_type": "code",
   "execution_count": null,
   "outputs": [],
   "source": [],
   "metadata": {
    "collapsed": false
   }
  },
  {
   "cell_type": "markdown",
   "source": [
    "##"
   ],
   "metadata": {
    "collapsed": false
   }
  },
  {
   "cell_type": "code",
   "execution_count": null,
   "outputs": [],
   "source": [],
   "metadata": {
    "collapsed": false
   }
  },
  {
   "cell_type": "markdown",
   "source": [
    "##"
   ],
   "metadata": {
    "collapsed": false
   }
  },
  {
   "cell_type": "code",
   "execution_count": null,
   "outputs": [],
   "source": [],
   "metadata": {
    "collapsed": false
   }
  }
 ],
 "metadata": {
  "kernelspec": {
   "display_name": "Kotlin",
   "language": "kotlin",
   "name": "kotlin"
  },
  "language_info": {
   "name": "kotlin",
   "version": "1.9.0",
   "mimetype": "text/x-kotlin",
   "file_extension": ".kt",
   "pygments_lexer": "kotlin",
   "codemirror_mode": "text/x-kotlin",
   "nbconvert_exporter": ""
  }
 },
 "nbformat": 4,
 "nbformat_minor": 0
}
