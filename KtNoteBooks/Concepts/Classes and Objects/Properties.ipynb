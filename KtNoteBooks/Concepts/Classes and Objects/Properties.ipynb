{
 "cells": [
  {
   "cell_type": "markdown",
   "source": [
    "# TOC\n",
    "- Declaring properties"
   ],
   "metadata": {
    "collapsed": false
   }
  },
  {
   "cell_type": "markdown",
   "source": [
    "## Declaring properties"
   ],
   "metadata": {
    "collapsed": false
   }
  },
  {
   "cell_type": "code",
   "execution_count": 8,
   "outputs": [],
   "source": [
    "class Address {\n",
    "    var name: String = \"Holmes, Sherlock\"\n",
    "    var street: String = \"Baker\"\n",
    "    var city: String = \"London\"\n",
    "    var state: String? = null\n",
    "    var zip: String = \"123456\"\n",
    "\n",
    "    override fun toString(): String {\n",
    "        return \"Address=[$name - $street.$city,$state,$zip]\"\n",
    "    }\n",
    "}"
   ],
   "metadata": {
    "collapsed": false,
    "ExecuteTime": {
     "end_time": "2024-03-01T05:24:23.936967Z",
     "start_time": "2024-03-01T05:24:23.882652Z"
    }
   }
  },
  {
   "cell_type": "code",
   "execution_count": 9,
   "outputs": [
    {
     "data": {
      "text/plain": "Address=[Holmes, Sherlock - Baker.London,null,123456]"
     },
     "execution_count": 9,
     "metadata": {},
     "output_type": "execute_result"
    }
   ],
   "source": [
    "fun copyAddress(address: Address): Address {\n",
    "    val result = Address() // there's no 'new' keyword in Kotlin\n",
    "    result.name = address.name // accessors are called\n",
    "    result.street = address.street\n",
    "    // ...\n",
    "    return result\n",
    "}\n",
    "\n",
    "copyAddress(address = Address())"
   ],
   "metadata": {
    "collapsed": false,
    "ExecuteTime": {
     "end_time": "2024-03-01T05:24:24.229118Z",
     "start_time": "2024-03-01T05:24:24.184750Z"
    }
   }
  },
  {
   "cell_type": "markdown",
   "source": [
    "## Getter and Setter"
   ],
   "metadata": {
    "collapsed": false
   }
  },
  {
   "cell_type": "code",
   "execution_count": 12,
   "outputs": [
    {
     "name": "stdout",
     "output_type": "stream",
     "text": [
      "Width=3, height=4, area=12\n"
     ]
    }
   ],
   "source": [
    "class Rectangle(val width: Int, val height: Int) {\n",
    "    val area: Int // property type is optional since it can be inferred from the getter's return type\n",
    "        get() = this.width * this.height\n",
    "}\n",
    "val rectangle = Rectangle(3, 4)\n",
    "println(\"Width=${rectangle.width}, height=${rectangle.height}, area=${rectangle.area}\")"
   ],
   "metadata": {
    "collapsed": false,
    "ExecuteTime": {
     "end_time": "2024-03-01T07:57:03.341601Z",
     "start_time": "2024-03-01T07:57:03.245608Z"
    }
   }
  },
  {
   "cell_type": "markdown",
   "source": [
    "## Backing fields\n",
    "> The field identifier can only be used in the accessors of the property."
   ],
   "metadata": {
    "collapsed": false
   }
  },
  {
   "cell_type": "code",
   "execution_count": 45,
   "outputs": [],
   "source": [
    "class Demo {\n",
    "    var counter = 0\n",
    "        set(value) {\n",
    "            if (value >= 0)\n",
    "                field = value\n",
    "//                counter = value // ERROR: StackOverflow - Using actual name 'counter' would make setter recursive\n",
    "        }\n",
    "}"
   ],
   "metadata": {
    "collapsed": false,
    "ExecuteTime": {
     "end_time": "2024-03-01T08:35:49.610354Z",
     "start_time": "2024-03-01T08:35:49.554609Z"
    }
   }
  },
  {
   "cell_type": "code",
   "execution_count": 46,
   "outputs": [
    {
     "name": "stdout",
     "output_type": "stream",
     "text": [
      "Counter: 5\n",
      "Counter: 5\n"
     ]
    }
   ],
   "source": [
    "val myObject = Demo()\n",
    "\n",
    "// Setting a positive value should work\n",
    "myObject.counter = 5\n",
    "println(\"Counter: ${myObject.counter}\") // Output: Counter: 5\n",
    "\n",
    "// Attempting to set a negative value won't change the counter\n",
    "myObject.counter = -2\n",
    "println(\"Counter: ${myObject.counter}\") // Output: Counter: 5"
   ],
   "metadata": {
    "collapsed": false,
    "ExecuteTime": {
     "end_time": "2024-03-01T08:35:49.863065Z",
     "start_time": "2024-03-01T08:35:49.803926Z"
    }
   }
  },
  {
   "cell_type": "markdown",
   "source": [
    "## Backing properties"
   ],
   "metadata": {
    "collapsed": false
   }
  },
  {
   "cell_type": "code",
   "execution_count": 55,
   "outputs": [],
   "source": [
    "class BackProp {\n",
    "    public var _table: Map<String, String>? = hashMapOf(\"k1\" to \"v1\", \"k2\" to \"v2\")\n",
    "\n",
    "    public val table: Map<String, String>\n",
    "        get() {\n",
    "            return _table ?: throw AssertionError(\"Set to null by another thread\")\n",
    "        }\n",
    "}"
   ],
   "metadata": {
    "collapsed": false,
    "ExecuteTime": {
     "end_time": "2024-03-01T08:49:49.421426Z",
     "start_time": "2024-03-01T08:49:49.336598Z"
    }
   }
  },
  {
   "cell_type": "code",
   "execution_count": 56,
   "outputs": [
    {
     "name": "stdout",
     "output_type": "stream",
     "text": [
      "Table: {k1=v1, k2=v2}\n",
      "Table: {k1=v1, k2=v2}\n",
      "Error: Set to null by another thread\n"
     ]
    }
   ],
   "source": [
    "val myObject = BackProp()\n",
    "\n",
    "// Accessing the table property for the first time will initialize it\n",
    "println(\"Table: ${myObject.table}\")\n",
    "\n",
    "// Accessing the table property again will reuse the existing initialized table\n",
    "println(\"Table: ${myObject.table}\")\n",
    "\n",
    "// Simulating setting _table to null by another thread is not allowed\n",
    "myObject._table = null\n",
    "\n",
    "// Accessing the table property now will throw an AssertionError\n",
    "try {\n",
    "    println(\"Table: ${myObject.table}\")\n",
    "} catch (e: AssertionError) {\n",
    "    println(\"Error: ${e.message}\")\n",
    "}"
   ],
   "metadata": {
    "collapsed": false,
    "ExecuteTime": {
     "end_time": "2024-03-01T08:49:50.444061Z",
     "start_time": "2024-03-01T08:49:50.385390Z"
    }
   }
  },
  {
   "cell_type": "markdown",
   "source": [
    "##"
   ],
   "metadata": {
    "collapsed": false
   }
  },
  {
   "cell_type": "code",
   "execution_count": null,
   "outputs": [],
   "source": [],
   "metadata": {
    "collapsed": false
   }
  },
  {
   "cell_type": "markdown",
   "source": [
    "##"
   ],
   "metadata": {
    "collapsed": false
   }
  },
  {
   "cell_type": "code",
   "execution_count": null,
   "outputs": [],
   "source": [],
   "metadata": {
    "collapsed": false
   }
  },
  {
   "cell_type": "markdown",
   "source": [
    "##"
   ],
   "metadata": {
    "collapsed": false
   }
  },
  {
   "cell_type": "code",
   "execution_count": null,
   "outputs": [],
   "source": [],
   "metadata": {
    "collapsed": false
   }
  },
  {
   "cell_type": "markdown",
   "source": [
    "##"
   ],
   "metadata": {
    "collapsed": false
   }
  },
  {
   "cell_type": "code",
   "execution_count": null,
   "outputs": [],
   "source": [],
   "metadata": {
    "collapsed": false
   }
  }
 ],
 "metadata": {
  "kernelspec": {
   "display_name": "Kotlin",
   "language": "kotlin",
   "name": "kotlin"
  },
  "language_info": {
   "name": "kotlin",
   "version": "1.9.0",
   "mimetype": "text/x-kotlin",
   "file_extension": ".kt",
   "pygments_lexer": "kotlin",
   "codemirror_mode": "text/x-kotlin",
   "nbconvert_exporter": ""
  }
 },
 "nbformat": 4,
 "nbformat_minor": 0
}
