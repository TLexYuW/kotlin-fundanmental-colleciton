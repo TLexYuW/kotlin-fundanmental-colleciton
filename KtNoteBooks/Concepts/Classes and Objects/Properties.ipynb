{
 "cells": [
  {
   "cell_type": "markdown",
   "source": [
    "# TOC\n",
    "- Declaring properties"
   ],
   "metadata": {
    "collapsed": false
   }
  },
  {
   "cell_type": "markdown",
   "source": [
    "## Declaring properties"
   ],
   "metadata": {
    "collapsed": false
   }
  },
  {
   "cell_type": "code",
   "execution_count": 3,
   "outputs": [],
   "source": [
    "class Address {\n",
    "    var name: String = \"Holmes, Sherlock\"\n",
    "    var street: String = \"Baker\"\n",
    "    var city: String = \"London\"\n",
    "    var state: String? = null\n",
    "    var zip: String = \"123456\"\n",
    "\n",
    "    override fun toString(): String {\n",
    "        return \"Address=[$name - $street.$city,$state,$zip]\"\n",
    "    }\n",
    "}"
   ],
   "metadata": {
    "collapsed": false,
    "ExecuteTime": {
     "end_time": "2024-03-10T14:55:47.177109400Z",
     "start_time": "2024-03-10T14:55:41.654681500Z"
    }
   }
  },
  {
   "cell_type": "code",
   "execution_count": 4,
   "outputs": [
    {
     "data": {
      "text/plain": "Address=[Holmes, Sherlock - Baker.London,null,123456]"
     },
     "execution_count": 4,
     "metadata": {},
     "output_type": "execute_result"
    }
   ],
   "source": [
    "fun copyAddress(address: Address): Address {\n",
    "    val result = Address() // there's no 'new' keyword in Kotlin\n",
    "    result.name = address.name // accessors are called\n",
    "    result.street = address.street\n",
    "    // ...\n",
    "    return result\n",
    "}\n",
    "\n",
    "copyAddress(address = Address())"
   ],
   "metadata": {
    "collapsed": false,
    "ExecuteTime": {
     "end_time": "2024-03-10T14:55:47.308108700Z",
     "start_time": "2024-03-10T14:55:47.152107600Z"
    }
   }
  },
  {
   "cell_type": "markdown",
   "source": [
    "## Getter and Setter"
   ],
   "metadata": {
    "collapsed": false
   }
  },
  {
   "cell_type": "code",
   "execution_count": 5,
   "outputs": [
    {
     "name": "stdout",
     "output_type": "stream",
     "text": [
      "Width=3, height=4, area=12\r\n"
     ]
    }
   ],
   "source": [
    "class Rectangle(val width: Int, val height: Int) {\n",
    "    val area: Int // property type is optional since it can be inferred from the getter's return type\n",
    "        get() = this.width * this.height\n",
    "}\n",
    "val rectangle = Rectangle(3, 4)\n",
    "println(\"Width=${rectangle.width}, height=${rectangle.height}, area=${rectangle.area}\")"
   ],
   "metadata": {
    "collapsed": false,
    "ExecuteTime": {
     "end_time": "2024-03-10T14:55:47.500108Z",
     "start_time": "2024-03-10T14:55:47.301108300Z"
    }
   }
  },
  {
   "cell_type": "markdown",
   "source": [
    "## Backing fields\n",
    "> The field identifier can only be used in the accessors of the property."
   ],
   "metadata": {
    "collapsed": false
   }
  },
  {
   "cell_type": "code",
   "execution_count": 6,
   "outputs": [],
   "source": [
    "class Demo {\n",
    "    var counter = 0\n",
    "        set(value) {\n",
    "            if (value >= 0)\n",
    "                field = value\n",
    "//                counter = value // ERROR: StackOverflow - Using actual name 'counter' would make setter recursive\n",
    "        }\n",
    "}"
   ],
   "metadata": {
    "collapsed": false,
    "ExecuteTime": {
     "end_time": "2024-03-10T14:55:47.591108800Z",
     "start_time": "2024-03-10T14:55:47.499107600Z"
    }
   }
  },
  {
   "cell_type": "code",
   "execution_count": 7,
   "outputs": [
    {
     "name": "stdout",
     "output_type": "stream",
     "text": [
      "Counter: 5\r\n",
      "Counter: 5\r\n"
     ]
    }
   ],
   "source": [
    "val myObject = Demo()\n",
    "\n",
    "// Setting a positive value should work\n",
    "myObject.counter = 5\n",
    "println(\"Counter: ${myObject.counter}\") // Output: Counter: 5\n",
    "\n",
    "// Attempting to set a negative value won't change the counter\n",
    "myObject.counter = -2\n",
    "println(\"Counter: ${myObject.counter}\") // Output: Counter: 5"
   ],
   "metadata": {
    "collapsed": false,
    "ExecuteTime": {
     "end_time": "2024-03-10T14:55:47.680109600Z",
     "start_time": "2024-03-10T14:55:47.591108800Z"
    }
   }
  },
  {
   "cell_type": "markdown",
   "source": [
    "## Backing properties"
   ],
   "metadata": {
    "collapsed": false
   }
  },
  {
   "cell_type": "code",
   "execution_count": 8,
   "outputs": [],
   "source": [
    "class BackProp {\n",
    "    public var _table: Map<String, String>? = hashMapOf(\"k1\" to \"v1\", \"k2\" to \"v2\")\n",
    "\n",
    "    public val table: Map<String, String>\n",
    "        get() {\n",
    "            return _table ?: throw AssertionError(\"Set to null by another thread\")\n",
    "        }\n",
    "}"
   ],
   "metadata": {
    "collapsed": false,
    "ExecuteTime": {
     "end_time": "2024-03-10T14:55:47.846108900Z",
     "start_time": "2024-03-10T14:55:47.679108800Z"
    }
   }
  },
  {
   "cell_type": "code",
   "execution_count": 9,
   "outputs": [
    {
     "name": "stdout",
     "output_type": "stream",
     "text": [
      "Table: {k1=v1, k2=v2}\r\n",
      "Table: {k1=v1, k2=v2}\r\n",
      "Error: Set to null by another thread\r\n"
     ]
    }
   ],
   "source": [
    "val myObject = BackProp()\n",
    "\n",
    "// Accessing the table property for the first time will initialize it\n",
    "println(\"Table: ${myObject.table}\")\n",
    "\n",
    "// Accessing the table property again will reuse the existing initialized table\n",
    "println(\"Table: ${myObject.table}\")\n",
    "\n",
    "// Simulating setting _table to null by another thread is not allowed\n",
    "myObject._table = null\n",
    "\n",
    "// Accessing the table property now will throw an AssertionError\n",
    "try {\n",
    "    println(\"Table: ${myObject.table}\")\n",
    "} catch (e: AssertionError) {\n",
    "    println(\"Error: ${e.message}\")\n",
    "}"
   ],
   "metadata": {
    "collapsed": false,
    "ExecuteTime": {
     "end_time": "2024-03-10T14:55:47.948765800Z",
     "start_time": "2024-03-10T14:55:47.846108900Z"
    }
   }
  }
 ],
 "metadata": {
  "kernelspec": {
   "display_name": "Kotlin",
   "language": "kotlin",
   "name": "kotlin"
  },
  "language_info": {
   "name": "kotlin",
   "version": "1.9.0",
   "mimetype": "text/x-kotlin",
   "file_extension": ".kt",
   "pygments_lexer": "kotlin",
   "codemirror_mode": "text/x-kotlin",
   "nbconvert_exporter": ""
  }
 },
 "nbformat": 4,
 "nbformat_minor": 0
}
