{
 "cells": [
  {
   "cell_type": "markdown",
   "source": [
    "# TOC\n",
    "- [object expressions extend Any, so `override` is required on `toString()`](#object-expressions-extend-any-so-override-is-required-on-tostring)\n",
    "- [](#)\n",
    "- [](#)\n",
    "- [](#)\n",
    "- [](#)\n",
    "- [](#)\n",
    "- [](#)\n"
   ],
   "metadata": {
    "collapsed": false
   }
  },
  {
   "cell_type": "code",
   "execution_count": null,
   "outputs": [],
   "source": [
    "%use default"
   ],
   "metadata": {
    "collapsed": false,
    "is_executing": true,
    "ExecuteTime": {
     "start_time": "2024-04-07T12:42:04.028571800Z"
    }
   }
  },
  {
   "cell_type": "markdown",
   "source": [
    "### object expressions extend Any, so `override` is required on `toString()`"
   ],
   "metadata": {
    "collapsed": false
   }
  },
  {
   "cell_type": "code",
   "execution_count": null,
   "outputs": [],
   "source": [
    "val helloWorld = object {\n",
    "    val hello = \"Hello\"\n",
    "    val world = \"World\"\n",
    "    override fun toString() = \"$hello $world\"\n",
    "}"
   ],
   "metadata": {
    "collapsed": false,
    "is_executing": true
   }
  },
  {
   "cell_type": "code",
   "execution_count": null,
   "outputs": [],
   "source": [
    "println(helloWorld)"
   ],
   "metadata": {
    "collapsed": false,
    "is_executing": true
   }
  },
  {
   "cell_type": "markdown",
   "source": [
    "## Inheriting anonymous objects from supertypes"
   ],
   "metadata": {
    "collapsed": false
   }
  },
  {
   "cell_type": "code",
   "execution_count": null,
   "outputs": [],
   "source": [
    "open class A(x: Int) {\n",
    "    public open val y: Int = x\n",
    "}\n",
    "\n",
    "interface B { \n",
    "    fun printSome()\n",
    "}\n",
    "\n",
    "val ab: A = object : A(1), B {\n",
    "    override val y = 15\n",
    "    override fun printSome() {\n",
    "        println(\"Some\")\n",
    "    }\n",
    "}"
   ],
   "metadata": {
    "collapsed": false,
    "is_executing": true
   }
  },
  {
   "cell_type": "code",
   "outputs": [],
   "source": [],
   "metadata": {
    "collapsed": false,
    "is_executing": true
   }
  },
  {
   "cell_type": "markdown",
   "source": [
    "## Using anonymous objects as return and value types"
   ],
   "metadata": {
    "collapsed": false
   }
  },
  {
   "cell_type": "code",
   "execution_count": null,
   "outputs": [],
   "source": [
    "class C {\n",
    "    private fun getObject() = object {\n",
    "        val x: String = \"x\"\n",
    "    }\n",
    "\n",
    "    fun printX() {\n",
    "        println(getObject().x)\n",
    "    }\n",
    "}"
   ],
   "metadata": {
    "collapsed": false,
    "is_executing": true
   }
  },
  {
   "cell_type": "code",
   "outputs": [],
   "source": [
    "val c = C()\n",
    "c.printX()"
   ],
   "metadata": {
    "collapsed": false,
    "is_executing": true
   },
   "execution_count": null
  },
  {
   "cell_type": "markdown",
   "source": [
    "##"
   ],
   "metadata": {
    "collapsed": false
   }
  },
  {
   "cell_type": "code",
   "execution_count": 1,
   "outputs": [],
   "source": [
    "interface A {\n",
    "    fun funFromA() {}\n",
    "}\n",
    "interface B\n",
    "\n",
    "class D {\n",
    "    // The return type is Any; x is not accessible\n",
    "    fun getObject() = object {\n",
    "        val x: String = \"x\"\n",
    "    }\n",
    "\n",
    "    // The return type is A; x is not accessible\n",
    "    fun getObjectA() = object: A {\n",
    "        override fun funFromA() {}\n",
    "        val x: String = \"x\"\n",
    "    }\n",
    "\n",
    "    // The return type is B; funFromA() and x are not accessible\n",
    "    fun getObjectB(): B = object: A, B { // explicit return type is required\n",
    "        override fun funFromA() {}\n",
    "        val x: String = \"x\"\n",
    "    }\n",
    "}"
   ],
   "metadata": {
    "collapsed": false,
    "ExecuteTime": {
     "end_time": "2024-04-07T12:43:38.531194400Z",
     "start_time": "2024-04-07T12:43:38.365686Z"
    }
   }
  },
  {
   "cell_type": "code",
   "outputs": [
    {
     "name": "stdout",
     "output_type": "stream",
     "text": [
      "Line_1_jupyter$D$getObject$1@7fc46fe1, Line_1_jupyter$D$getObjectA$1@762af904, Line_1_jupyter$D$getObjectB$1@3088dda1\r\n"
     ]
    }
   ],
   "source": [
    "val d = D()\n",
    "val any: Any = d.getObject()\n",
    "val a: A = d.getObjectA()\n",
    "val b: B = d.getObjectB()\n",
    "println(\"$any, $a, $b\")"
   ],
   "metadata": {
    "collapsed": false,
    "ExecuteTime": {
     "end_time": "2024-04-07T12:44:57.460701700Z",
     "start_time": "2024-04-07T12:44:57.267700600Z"
    }
   },
   "execution_count": 3
  },
  {
   "cell_type": "markdown",
   "source": [
    "##"
   ],
   "metadata": {
    "collapsed": false
   }
  },
  {
   "cell_type": "code",
   "execution_count": 5,
   "outputs": [],
   "source": [],
   "metadata": {
    "collapsed": false,
    "ExecuteTime": {
     "end_time": "2024-02-24T06:37:50.839577Z",
     "start_time": "2024-02-24T06:37:50.837322Z"
    }
   }
  },
  {
   "cell_type": "markdown",
   "source": [
    "##"
   ],
   "metadata": {
    "collapsed": false
   }
  },
  {
   "cell_type": "code",
   "execution_count": 6,
   "outputs": [],
   "source": [],
   "metadata": {
    "collapsed": false,
    "ExecuteTime": {
     "end_time": "2024-02-24T06:37:50.842699Z",
     "start_time": "2024-02-24T06:37:50.840600Z"
    }
   }
  },
  {
   "cell_type": "markdown",
   "source": [
    "##"
   ],
   "metadata": {
    "collapsed": false
   }
  },
  {
   "cell_type": "code",
   "execution_count": 7,
   "outputs": [],
   "source": [],
   "metadata": {
    "collapsed": false,
    "ExecuteTime": {
     "end_time": "2024-02-24T06:37:50.845876Z",
     "start_time": "2024-02-24T06:37:50.843499Z"
    }
   }
  },
  {
   "cell_type": "markdown",
   "source": [
    "##"
   ],
   "metadata": {
    "collapsed": false
   }
  },
  {
   "cell_type": "code",
   "execution_count": 8,
   "outputs": [],
   "source": [],
   "metadata": {
    "collapsed": false,
    "ExecuteTime": {
     "end_time": "2024-02-24T06:37:50.854496Z",
     "start_time": "2024-02-24T06:37:50.846362Z"
    }
   }
  }
 ],
 "metadata": {
  "kernelspec": {
   "display_name": "Kotlin",
   "language": "kotlin",
   "name": "kotlin"
  },
  "language_info": {
   "name": "kotlin",
   "version": "1.9.0",
   "mimetype": "text/x-kotlin",
   "file_extension": ".kt",
   "pygments_lexer": "kotlin",
   "codemirror_mode": "text/x-kotlin",
   "nbconvert_exporter": ""
  }
 },
 "nbformat": 4,
 "nbformat_minor": 0
}
