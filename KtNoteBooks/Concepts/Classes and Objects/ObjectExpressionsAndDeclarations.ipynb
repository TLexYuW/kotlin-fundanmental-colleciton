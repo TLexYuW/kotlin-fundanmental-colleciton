{
 "cells": [
  {
   "cell_type": "markdown",
   "source": [
    "# TOC\n",
    "- [object expressions extend Any, so `override` is required on `toString()`](#object-expressions-extend-any-so-override-is-required-on-tostring)\n",
    "- [Inheriting anonymous objects from supertypes](#inheriting-anonymous-objects-from-supertypes)\n",
    "- [Using anonymous objects as return and value types](#using-anonymous-objects-as-return-and-value-types)\n"
   ],
   "metadata": {
    "collapsed": false
   }
  },
  {
   "cell_type": "markdown",
   "source": [
    "### object expressions extend Any, so `override` is required on `toString()`"
   ],
   "metadata": {
    "collapsed": false
   }
  },
  {
   "cell_type": "code",
   "execution_count": 1,
   "outputs": [],
   "source": [
    "val helloWorld = object {\n",
    "    val hello = \"Hello\"\n",
    "    val world = \"World\"\n",
    "    override fun toString() = \"$hello $world\"\n",
    "}"
   ],
   "metadata": {
    "collapsed": false,
    "ExecuteTime": {
     "end_time": "2024-04-08T04:19:43.831361600Z",
     "start_time": "2024-04-08T04:19:43.636361900Z"
    }
   }
  },
  {
   "cell_type": "code",
   "execution_count": 2,
   "outputs": [
    {
     "name": "stdout",
     "output_type": "stream",
     "text": [
      "Hello World\r\n"
     ]
    }
   ],
   "source": [
    "println(helloWorld)"
   ],
   "metadata": {
    "collapsed": false,
    "ExecuteTime": {
     "end_time": "2024-04-08T04:19:43.952362Z",
     "start_time": "2024-04-08T04:19:43.836360800Z"
    }
   }
  },
  {
   "cell_type": "markdown",
   "source": [
    "## Inheriting anonymous objects from supertypes"
   ],
   "metadata": {
    "collapsed": false
   }
  },
  {
   "cell_type": "code",
   "execution_count": 3,
   "outputs": [],
   "source": [
    "open class A(x: Int) {\n",
    "    public open val y: Int = x\n",
    "}\n",
    "\n",
    "interface B { \n",
    "    fun printSome()\n",
    "}\n",
    "\n",
    "val ab: A = object : A(1), B {\n",
    "    override val y = 15\n",
    "    override fun printSome() {\n",
    "        println(\"Some\")\n",
    "    }\n",
    "}"
   ],
   "metadata": {
    "collapsed": false,
    "ExecuteTime": {
     "end_time": "2024-04-08T04:19:44.072360400Z",
     "start_time": "2024-04-08T04:19:43.956362100Z"
    }
   }
  },
  {
   "cell_type": "code",
   "outputs": [],
   "source": [],
   "metadata": {
    "collapsed": false,
    "ExecuteTime": {
     "end_time": "2024-04-08T04:19:44.080362600Z",
     "start_time": "2024-04-08T04:19:44.076362Z"
    }
   },
   "execution_count": 4
  },
  {
   "cell_type": "markdown",
   "source": [
    "## Using anonymous objects as return and value types"
   ],
   "metadata": {
    "collapsed": false
   }
  },
  {
   "cell_type": "code",
   "execution_count": 5,
   "outputs": [],
   "source": [
    "class C {\n",
    "    private fun getObject() = object {\n",
    "        val x: String = \"x\"\n",
    "    }\n",
    "\n",
    "    fun printX() {\n",
    "        println(getObject().x)\n",
    "    }\n",
    "}"
   ],
   "metadata": {
    "collapsed": false,
    "ExecuteTime": {
     "end_time": "2024-04-08T04:19:44.170360400Z",
     "start_time": "2024-04-08T04:19:44.084362Z"
    }
   }
  },
  {
   "cell_type": "code",
   "outputs": [
    {
     "name": "stdout",
     "output_type": "stream",
     "text": [
      "x\r\n"
     ]
    }
   ],
   "source": [
    "val c = C()\n",
    "c.printX()"
   ],
   "metadata": {
    "collapsed": false,
    "ExecuteTime": {
     "end_time": "2024-04-08T04:19:44.226170700Z",
     "start_time": "2024-04-08T04:19:44.173361500Z"
    }
   },
   "execution_count": 6
  },
  {
   "cell_type": "markdown",
   "source": [
    "##"
   ],
   "metadata": {
    "collapsed": false
   }
  },
  {
   "cell_type": "code",
   "execution_count": 7,
   "outputs": [],
   "source": [
    "interface A {\n",
    "    fun funFromA() {}\n",
    "}\n",
    "interface B\n",
    "\n",
    "class D {\n",
    "    // The return type is Any; x is not accessible\n",
    "    fun getObject() = object {\n",
    "        val x: String = \"x\"\n",
    "    }\n",
    "\n",
    "    // The return type is A; x is not accessible\n",
    "    fun getObjectA() = object: A {\n",
    "        override fun funFromA() {}\n",
    "        val x: String = \"x\"\n",
    "    }\n",
    "\n",
    "    // The return type is B; funFromA() and x are not accessible\n",
    "    fun getObjectB(): B = object: A, B { // explicit return type is required\n",
    "        override fun funFromA() {}\n",
    "        val x: String = \"x\"\n",
    "    }\n",
    "}"
   ],
   "metadata": {
    "collapsed": false,
    "ExecuteTime": {
     "end_time": "2024-04-08T04:19:44.335170900Z",
     "start_time": "2024-04-08T04:19:44.229172200Z"
    }
   }
  },
  {
   "cell_type": "code",
   "outputs": [
    {
     "name": "stdout",
     "output_type": "stream",
     "text": [
      "Line_6_jupyter$D$getObject$1@63c1ecfa, Line_6_jupyter$D$getObjectA$1@75c54f10, Line_6_jupyter$D$getObjectB$1@12c05fc2\r\n"
     ]
    }
   ],
   "source": [
    "val d = D()\n",
    "val any: Any = d.getObject()\n",
    "val a: A = d.getObjectA()\n",
    "val b: B = d.getObjectB()\n",
    "println(\"$any, $a, $b\")"
   ],
   "metadata": {
    "collapsed": false,
    "ExecuteTime": {
     "end_time": "2024-04-08T04:19:44.435171300Z",
     "start_time": "2024-04-08T04:19:44.338171100Z"
    }
   },
   "execution_count": 8
  }
 ],
 "metadata": {
  "kernelspec": {
   "display_name": "Kotlin",
   "language": "kotlin",
   "name": "kotlin"
  },
  "language_info": {
   "name": "kotlin",
   "version": "1.9.0",
   "mimetype": "text/x-kotlin",
   "file_extension": ".kt",
   "pygments_lexer": "kotlin",
   "codemirror_mode": "text/x-kotlin",
   "nbconvert_exporter": ""
  }
 },
 "nbformat": 4,
 "nbformat_minor": 0
}
